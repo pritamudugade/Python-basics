{
  "nbformat": 4,
  "nbformat_minor": 0,
  "metadata": {
    "colab": {
      "provenance": [],
      "authorship_tag": "ABX9TyNEhTGNorpKKoZDY2Tklsv/",
      "include_colab_link": true
    },
    "kernelspec": {
      "name": "python3",
      "display_name": "Python 3"
    },
    "language_info": {
      "name": "python"
    }
  },
  "cells": [
    {
      "cell_type": "markdown",
      "metadata": {
        "id": "view-in-github",
        "colab_type": "text"
      },
      "source": [
        "<a href=\"https://colab.research.google.com/github/pritamudugade/Python-basics-codes/blob/main/Assignment_solving.ipynb\" target=\"_parent\"><img src=\"https://colab.research.google.com/assets/colab-badge.svg\" alt=\"Open In Colab\"/></a>"
      ]
    },
    {
      "cell_type": "code",
      "execution_count": null,
      "metadata": {
        "colab": {
          "base_uri": "https://localhost:8080/"
        },
        "id": "DxC47H2D5umy",
        "outputId": "9e4409b9-6798-4991-befe-e7a885a66e84"
      },
      "outputs": [
        {
          "output_type": "stream",
          "name": "stdout",
          "text": [
            "1345678####\n"
          ]
        }
      ],
      "source": [
        "a = \"1345678918\"\n",
        "\n",
        "print(a[:7] + \"####\")"
      ]
    },
    {
      "cell_type": "code",
      "source": [
        "a = 13456\n",
        "reverse = 0\n",
        "temp = a\n",
        "while temp > 0:\n",
        "  remaining = temp % 10\n",
        "  reverse = (reverse*10) + remaining\n",
        "  temp = temp // 10\n",
        "print(reverse)\n",
        "\n",
        "# another method\n",
        "a = str(a)\n",
        "print(\"\".join(reversed(a)))\n",
        "\n",
        "# another method\n",
        "a = str(a)\n",
        "print(a[::-1])\n",
        "\n",
        "# another method\n",
        "a = str(a)\n",
        "b = \"\"\n",
        "for i in a:\n",
        "  b = i + b\n",
        "print(b)"
      ],
      "metadata": {
        "colab": {
          "base_uri": "https://localhost:8080/"
        },
        "id": "nW56IKMm69kb",
        "outputId": "bbff7a4b-26d5-44b8-8fb8-7e1133bc2b4b"
      },
      "execution_count": null,
      "outputs": [
        {
          "output_type": "stream",
          "name": "stdout",
          "text": [
            "65431\n",
            "65431\n",
            "65431\n",
            "65431\n"
          ]
        }
      ]
    },
    {
      "cell_type": "code",
      "source": [
        "# check armstrong or not\n",
        "num = 153\n",
        "temp = num\n",
        "#n = len(str(num))\n",
        "# to find out the len of num withput len\n",
        "n = 0\n",
        "while temp>0:\n",
        "  rem = temp % 10\n",
        "  n = n + 1\n",
        "  temp = temp // 10\n",
        "\n",
        "print(n)\n",
        "temp = num\n",
        "sum = 0\n",
        "while temp > 0:\n",
        "  rem = temp % 10\n",
        "  sum = sum + rem**n\n",
        "  temp = temp // 10\n",
        "\n",
        "if sum == num:\n",
        "  print(\"armstrong number!!!\")"
      ],
      "metadata": {
        "colab": {
          "base_uri": "https://localhost:8080/"
        },
        "id": "zW81SdaB780R",
        "outputId": "012e41d5-a3b4-4d75-fad9-c6ac063fb867"
      },
      "execution_count": null,
      "outputs": [
        {
          "output_type": "stream",
          "name": "stdout",
          "text": [
            "3\n",
            "armstrong number!!!\n"
          ]
        }
      ]
    },
    {
      "cell_type": "code",
      "source": [
        "# all armstrong nums upto 1000\n",
        "\n",
        "for num in range(1,1000):\n",
        "  temp = num\n",
        "  n = len(str(num))\n",
        "  sum = 0\n",
        "\n",
        "  while temp > 0:\n",
        "    rem = temp % 10\n",
        "    sum = sum + rem**n\n",
        "    temp = temp // 10\n",
        "  \n",
        "  if num == sum:\n",
        "    print(\"armstrong number:\",sum)"
      ],
      "metadata": {
        "colab": {
          "base_uri": "https://localhost:8080/"
        },
        "id": "aP30nJdz88id",
        "outputId": "81e4349d-0e83-4aeb-e64f-875a9967cc0b"
      },
      "execution_count": null,
      "outputs": [
        {
          "output_type": "stream",
          "name": "stdout",
          "text": [
            "armstrong number: 1\n",
            "armstrong number: 2\n",
            "armstrong number: 3\n",
            "armstrong number: 4\n",
            "armstrong number: 5\n",
            "armstrong number: 6\n",
            "armstrong number: 7\n",
            "armstrong number: 8\n",
            "armstrong number: 9\n",
            "armstrong number: 153\n",
            "armstrong number: 370\n",
            "armstrong number: 371\n",
            "armstrong number: 407\n"
          ]
        }
      ]
    },
    {
      "cell_type": "code",
      "source": [
        "# square in dict with num\n",
        "d = {}\n",
        "n = 10\n",
        "for num in range(1, n+1):\n",
        "  for i in range(1, num+1):\n",
        "    if num%i==0:\n",
        "      d[num] = i\n",
        "print(d, end=\" \")"
      ],
      "metadata": {
        "colab": {
          "base_uri": "https://localhost:8080/"
        },
        "id": "4lFSEjKOr1qE",
        "outputId": "38eafec7-5e75-44c0-baba-86ffd0b9e8eb"
      },
      "execution_count": null,
      "outputs": [
        {
          "output_type": "stream",
          "name": "stdout",
          "text": [
            "{1: 1, 2: 2, 3: 3, 4: 4, 5: 5, 6: 6, 7: 7, 8: 8, 9: 9, 10: 10} "
          ]
        }
      ]
    },
    {
      "cell_type": "code",
      "source": [
        "# given num is prime or not\n",
        "\n",
        "n = 11\n",
        "count = 0\n",
        "for i in range(1, n+1):\n",
        "  if n%i == 0:\n",
        "    count = count + 1\n",
        "if count == 2:\n",
        "  print(\"prime number\")\n",
        "\n",
        "else:\n",
        "  print(\"not prime number\")"
      ],
      "metadata": {
        "colab": {
          "base_uri": "https://localhost:8080/"
        },
        "id": "pHIiG9x995Fg",
        "outputId": "5b8cd922-6de1-45aa-fb8f-4b92e3207355"
      },
      "execution_count": null,
      "outputs": [
        {
          "output_type": "stream",
          "name": "stdout",
          "text": [
            "not prime number\n"
          ]
        }
      ]
    },
    {
      "cell_type": "code",
      "source": [
        "# print all  prime nums upto 100\n",
        "\n",
        "for num in range(1,100):\n",
        "  count = 0\n",
        "  for i in range(1, num+1):\n",
        "    if num % i == 0:\n",
        "      count = count + 1\n",
        "\n",
        "  if count == 2:\n",
        "    print(\"prime number:\", num)"
      ],
      "metadata": {
        "colab": {
          "base_uri": "https://localhost:8080/"
        },
        "id": "ZkUffvlr-bMb",
        "outputId": "d8286cdf-1e62-42ca-cb01-f90ec1d49904"
      },
      "execution_count": null,
      "outputs": [
        {
          "output_type": "stream",
          "name": "stdout",
          "text": [
            "prime number: 2\n",
            "prime number: 3\n",
            "prime number: 5\n",
            "prime number: 7\n",
            "prime number: 11\n",
            "prime number: 13\n",
            "prime number: 17\n",
            "prime number: 19\n",
            "prime number: 23\n",
            "prime number: 29\n",
            "prime number: 31\n",
            "prime number: 37\n",
            "prime number: 41\n",
            "prime number: 43\n",
            "prime number: 47\n",
            "prime number: 53\n",
            "prime number: 59\n",
            "prime number: 61\n",
            "prime number: 67\n",
            "prime number: 71\n",
            "prime number: 73\n",
            "prime number: 79\n",
            "prime number: 83\n",
            "prime number: 89\n",
            "prime number: 97\n"
          ]
        }
      ]
    },
    {
      "cell_type": "code",
      "source": [
        "# fibonacci series\n",
        "a = 0\n",
        "b = 1\n",
        "c = 0\n",
        "for i in range(1,15):\n",
        "  print(c, end=\" \")\n",
        "  a = b\n",
        "  b = c\n",
        "  c = a + b"
      ],
      "metadata": {
        "colab": {
          "base_uri": "https://localhost:8080/"
        },
        "id": "aPlmOV8dANfg",
        "outputId": "e870c134-70ee-42a6-c979-e052973ebf80"
      },
      "execution_count": null,
      "outputs": [
        {
          "output_type": "stream",
          "name": "stdout",
          "text": [
            "0 1 1 2 3 5 8 13 21 34 55 89 144 233 "
          ]
        }
      ]
    },
    {
      "cell_type": "code",
      "source": [
        "# factors\n",
        "for n in range(1, 50):\n",
        "  d = []\n",
        "  f = {}\n",
        "  for i in range(1, n+1):\n",
        "    if n%i == 0:\n",
        "      d.append(i)\n",
        "      f[n] = d\n",
        "  print(f)"
      ],
      "metadata": {
        "colab": {
          "base_uri": "https://localhost:8080/"
        },
        "id": "ugBorrilnYCl",
        "outputId": "40e76d78-88b4-4ad8-e72d-f7c1a48ba474"
      },
      "execution_count": 1,
      "outputs": [
        {
          "output_type": "stream",
          "name": "stdout",
          "text": [
            "{1: [1]}\n",
            "{2: [1, 2]}\n",
            "{3: [1, 3]}\n",
            "{4: [1, 2, 4]}\n",
            "{5: [1, 5]}\n",
            "{6: [1, 2, 3, 6]}\n",
            "{7: [1, 7]}\n",
            "{8: [1, 2, 4, 8]}\n",
            "{9: [1, 3, 9]}\n",
            "{10: [1, 2, 5, 10]}\n",
            "{11: [1, 11]}\n",
            "{12: [1, 2, 3, 4, 6, 12]}\n",
            "{13: [1, 13]}\n",
            "{14: [1, 2, 7, 14]}\n",
            "{15: [1, 3, 5, 15]}\n",
            "{16: [1, 2, 4, 8, 16]}\n",
            "{17: [1, 17]}\n",
            "{18: [1, 2, 3, 6, 9, 18]}\n",
            "{19: [1, 19]}\n",
            "{20: [1, 2, 4, 5, 10, 20]}\n",
            "{21: [1, 3, 7, 21]}\n",
            "{22: [1, 2, 11, 22]}\n",
            "{23: [1, 23]}\n",
            "{24: [1, 2, 3, 4, 6, 8, 12, 24]}\n",
            "{25: [1, 5, 25]}\n",
            "{26: [1, 2, 13, 26]}\n",
            "{27: [1, 3, 9, 27]}\n",
            "{28: [1, 2, 4, 7, 14, 28]}\n",
            "{29: [1, 29]}\n",
            "{30: [1, 2, 3, 5, 6, 10, 15, 30]}\n",
            "{31: [1, 31]}\n",
            "{32: [1, 2, 4, 8, 16, 32]}\n",
            "{33: [1, 3, 11, 33]}\n",
            "{34: [1, 2, 17, 34]}\n",
            "{35: [1, 5, 7, 35]}\n",
            "{36: [1, 2, 3, 4, 6, 9, 12, 18, 36]}\n",
            "{37: [1, 37]}\n",
            "{38: [1, 2, 19, 38]}\n",
            "{39: [1, 3, 13, 39]}\n",
            "{40: [1, 2, 4, 5, 8, 10, 20, 40]}\n",
            "{41: [1, 41]}\n",
            "{42: [1, 2, 3, 6, 7, 14, 21, 42]}\n",
            "{43: [1, 43]}\n",
            "{44: [1, 2, 4, 11, 22, 44]}\n",
            "{45: [1, 3, 5, 9, 15, 45]}\n",
            "{46: [1, 2, 23, 46]}\n",
            "{47: [1, 47]}\n",
            "{48: [1, 2, 3, 4, 6, 8, 12, 16, 24, 48]}\n",
            "{49: [1, 7, 49]}\n"
          ]
        }
      ]
    },
    {
      "cell_type": "code",
      "source": [
        "# fibonacci series using recursion\n",
        "\n",
        "def fib(num):\n",
        "  if num == 0:\n",
        "    return 0\n",
        "  elif num == 1:\n",
        "    return 1\n",
        "  else:\n",
        "    return fib(num-2) + fib(num-1)\n",
        "\n",
        "num = 15\n",
        "\n",
        "for i in range(0,num):\n",
        "  print(fib(i))"
      ],
      "metadata": {
        "colab": {
          "base_uri": "https://localhost:8080/"
        },
        "id": "m-xek_yYAukp",
        "outputId": "e692ec34-f42d-45f7-a303-8635361f372c"
      },
      "execution_count": null,
      "outputs": [
        {
          "output_type": "stream",
          "name": "stdout",
          "text": [
            "0\n",
            "1\n",
            "1\n",
            "2\n",
            "3\n",
            "5\n",
            "8\n",
            "13\n",
            "21\n",
            "34\n",
            "55\n",
            "89\n",
            "144\n",
            "233\n",
            "377\n"
          ]
        }
      ]
    },
    {
      "cell_type": "code",
      "source": [
        "# number palindrome or not\n",
        "num = 131\n",
        "temp = num\n",
        "rev = 0\n",
        "while temp > 0:\n",
        "  rem = temp % 10\n",
        "  rev = (rev*10) + rem\n",
        "  temp = temp // 10\n",
        "if rev == num:\n",
        "  print(\"palindrome\")\n",
        "else:\n",
        "  print(\"not\")"
      ],
      "metadata": {
        "colab": {
          "base_uri": "https://localhost:8080/"
        },
        "id": "D0wnp_Y8DkbK",
        "outputId": "ef663fd1-884a-4332-97c8-027f1f88c56a"
      },
      "execution_count": null,
      "outputs": [
        {
          "output_type": "stream",
          "name": "stdout",
          "text": [
            "palindrome\n"
          ]
        }
      ]
    },
    {
      "cell_type": "code",
      "source": [
        "# palindrome using for loop\n",
        "num = 151\n",
        "rev = 0\n",
        "for i in str(num):\n",
        "  rem = int(i) % 10\n",
        "  rev = (rev*10) + rem\n",
        "  i = int(i) // 10\n",
        "if rev == num:\n",
        "  print(\"palindrome\")\n",
        "else:\n",
        "  print(\"not\")"
      ],
      "metadata": {
        "colab": {
          "base_uri": "https://localhost:8080/"
        },
        "id": "7wAZ9P7-EBoy",
        "outputId": "72be7cf9-ebe2-4d00-f2ff-1a2de993cbb3"
      },
      "execution_count": null,
      "outputs": [
        {
          "output_type": "stream",
          "name": "stdout",
          "text": [
            "palindrome\n"
          ]
        }
      ]
    },
    {
      "cell_type": "code",
      "source": [
        "# greatest amoung three int\n",
        "a = 13\n",
        "b = 15\n",
        "c = 8\n",
        "\n",
        "if a > b and a > c:\n",
        "  print(\"a is greater\")\n",
        "elif b > a and b > c:\n",
        "  print(\"b is greater\")\n",
        "elif c > a and c > b:\n",
        "  print(\"c is greater\")\n",
        "else:\n",
        "  print(\"two values are same\")"
      ],
      "metadata": {
        "colab": {
          "base_uri": "https://localhost:8080/"
        },
        "id": "OY3AijWIEkmA",
        "outputId": "33f3ce12-2f82-4279-c791-70b66e1e6897"
      },
      "execution_count": null,
      "outputs": [
        {
          "output_type": "stream",
          "name": "stdout",
          "text": [
            "b is greater\n"
          ]
        }
      ]
    },
    {
      "cell_type": "code",
      "source": [
        "# greatest amoung three int\n",
        "a = 13\n",
        "b = 15\n",
        "c = 8\n",
        "\n",
        "print(\"max value:\", max(a,b,c))"
      ],
      "metadata": {
        "colab": {
          "base_uri": "https://localhost:8080/"
        },
        "id": "WbIBuc_FFzQ3",
        "outputId": "de4955d8-2018-4eb6-d846-b069e6ade613"
      },
      "execution_count": null,
      "outputs": [
        {
          "output_type": "stream",
          "name": "stdout",
          "text": [
            "max value: 15\n"
          ]
        }
      ]
    },
    {
      "cell_type": "code",
      "source": [
        "# minimum value \n",
        "a = [1,5,8,9]\n",
        "b = a[0]\n",
        "for i in range(len(a)):\n",
        "  if b > a[i]:\n",
        "    b = a[i]\n",
        "print(\"minimum value:\", b)"
      ],
      "metadata": {
        "colab": {
          "base_uri": "https://localhost:8080/"
        },
        "id": "vqEs3iYBGGWK",
        "outputId": "85ef43cf-1972-4c27-b035-7bf25e9f3613"
      },
      "execution_count": null,
      "outputs": [
        {
          "output_type": "stream",
          "name": "stdout",
          "text": [
            "minimum value: 1\n"
          ]
        }
      ]
    },
    {
      "cell_type": "code",
      "source": [
        "# maximum value\n",
        "a = [1,5,7,9]\n",
        "b = a[0]\n",
        "for i in range(len(a)):\n",
        "  if b < a[i]:\n",
        "    b = a[i]\n",
        "\n",
        "print(\"maximum value is:\", b)"
      ],
      "metadata": {
        "colab": {
          "base_uri": "https://localhost:8080/"
        },
        "id": "W-Om08LvGpUB",
        "outputId": "e898afb0-a5af-4366-c171-0f13c70fe3a7"
      },
      "execution_count": null,
      "outputs": [
        {
          "output_type": "stream",
          "name": "stdout",
          "text": [
            "maximum value is: 9\n"
          ]
        }
      ]
    },
    {
      "cell_type": "code",
      "source": [
        "# check number is binary\n",
        "bin(15)\n",
        "\n",
        "a = 1010\n",
        "type(a)\n",
        "\n",
        "temp = a\n",
        "while temp > 0:\n",
        "  rem = rem % 10\n",
        "  if rem != 1 and rem != 0:\n",
        "    print(\" not binary\")\n",
        "    break\n",
        "  temp = temp // 10\n",
        "  if temp == 0:\n",
        "    print(\"number is binary\")"
      ],
      "metadata": {
        "colab": {
          "base_uri": "https://localhost:8080/"
        },
        "id": "rqehFbl2HCiZ",
        "outputId": "3a2ba8e1-8332-4b50-ff0f-185797acf487"
      },
      "execution_count": null,
      "outputs": [
        {
          "output_type": "stream",
          "name": "stdout",
          "text": [
            "number is binary\n"
          ]
        }
      ]
    },
    {
      "cell_type": "code",
      "source": [
        "# swap numbers without using 3rd variable\n",
        "a = 14\n",
        "b = 89\n",
        "\n",
        "a,b = b,a\n",
        "print(b)\n",
        "print(a)"
      ],
      "metadata": {
        "colab": {
          "base_uri": "https://localhost:8080/"
        },
        "id": "qJ1g_ohlLlDT",
        "outputId": "ed3b997f-96ad-44c2-ea38-235c0449b468"
      },
      "execution_count": null,
      "outputs": [
        {
          "output_type": "stream",
          "name": "stdout",
          "text": [
            "14\n",
            "89\n"
          ]
        }
      ]
    },
    {
      "cell_type": "code",
      "source": [
        "# swap nums using 3rd variable\n",
        "a = 15\n",
        "b = 8\n",
        "c = a\n",
        "a = b\n",
        "b = c\n",
        "print(b)\n",
        "print(a)"
      ],
      "metadata": {
        "colab": {
          "base_uri": "https://localhost:8080/"
        },
        "id": "h9Xm2SNuNLaT",
        "outputId": "ce740847-5f65-4dfe-dca1-fb5c952f3f09"
      },
      "execution_count": null,
      "outputs": [
        {
          "output_type": "stream",
          "name": "stdout",
          "text": [
            "15\n",
            "8\n"
          ]
        }
      ]
    },
    {
      "cell_type": "code",
      "source": [
        "# factors of given integer\n",
        "num = 15\n",
        "fact = []\n",
        "for i in range(1, num+1):\n",
        "  if num%i == 0:\n",
        "    fact.append(i)\n",
        "print(\"factors are:\", fact)"
      ],
      "metadata": {
        "colab": {
          "base_uri": "https://localhost:8080/"
        },
        "id": "rTjX7m3AOh9F",
        "outputId": "3ebb3f10-894b-4240-b4b6-e8d4ec6802c8"
      },
      "execution_count": null,
      "outputs": [
        {
          "output_type": "stream",
          "name": "stdout",
          "text": [
            "factors are: [1, 3, 5, 15]\n"
          ]
        }
      ]
    },
    {
      "cell_type": "code",
      "source": [
        "# multiplication table\n",
        "\n",
        "for i in range(1,11):\n",
        "  for j in range(1,11):\n",
        "    print(i*j, end=\"\\t\")\n",
        "  print()"
      ],
      "metadata": {
        "colab": {
          "base_uri": "https://localhost:8080/"
        },
        "id": "YJREqTA0SoQF",
        "outputId": "ff8b4aef-38db-4858-bcdc-fd3643f87aa3"
      },
      "execution_count": null,
      "outputs": [
        {
          "output_type": "stream",
          "name": "stdout",
          "text": [
            "1\t2\t3\t4\t5\t6\t7\t8\t9\t10\t\n",
            "2\t4\t6\t8\t10\t12\t14\t16\t18\t20\t\n",
            "3\t6\t9\t12\t15\t18\t21\t24\t27\t30\t\n",
            "4\t8\t12\t16\t20\t24\t28\t32\t36\t40\t\n",
            "5\t10\t15\t20\t25\t30\t35\t40\t45\t50\t\n",
            "6\t12\t18\t24\t30\t36\t42\t48\t54\t60\t\n",
            "7\t14\t21\t28\t35\t42\t49\t56\t63\t70\t\n",
            "8\t16\t24\t32\t40\t48\t56\t64\t72\t80\t\n",
            "9\t18\t27\t36\t45\t54\t63\t72\t81\t90\t\n",
            "10\t20\t30\t40\t50\t60\t70\t80\t90\t100\t\n"
          ]
        }
      ]
    },
    {
      "cell_type": "code",
      "source": [
        "# perfect number\n",
        "num = 6\n",
        "b = []\n",
        "for i in range(1,num):\n",
        "  if num%i == 0:\n",
        "    b.append(i)\n",
        "\n",
        "#print(b)\n",
        "sum = 0\n",
        "for i in b:\n",
        "  sum = sum + i\n",
        "#print(sum)\n",
        "\n",
        "if sum == num:\n",
        "  print(\"perfect number\")\n",
        "else:\n",
        "  print(\"not perfect number\")"
      ],
      "metadata": {
        "colab": {
          "base_uri": "https://localhost:8080/"
        },
        "id": "JtXe_645XdiF",
        "outputId": "f08d9742-bdec-4f12-c44a-474f29ddd340"
      },
      "execution_count": 3,
      "outputs": [
        {
          "output_type": "stream",
          "name": "stdout",
          "text": [
            "perfect number\n"
          ]
        }
      ]
    },
    {
      "cell_type": "code",
      "source": [
        "def fact(n):\n",
        "  if n == 1:\n",
        "    return 1\n",
        "  else:\n",
        "    return n*(fact(n-1))\n",
        "print(fact(5))"
      ],
      "metadata": {
        "colab": {
          "base_uri": "https://localhost:8080/"
        },
        "id": "3r8EcbToanGt",
        "outputId": "9458886e-9c05-4289-f82e-bd80dadcdce2"
      },
      "execution_count": null,
      "outputs": [
        {
          "output_type": "stream",
          "name": "stdout",
          "text": [
            "120\n"
          ]
        }
      ]
    },
    {
      "cell_type": "code",
      "source": [
        "fact = 1\n",
        "num = 5\n",
        "for i in range(1, num+1):\n",
        "  fact = fact * i\n",
        "print(fact)"
      ],
      "metadata": {
        "colab": {
          "base_uri": "https://localhost:8080/"
        },
        "id": "ybGpfGtRbw1E",
        "outputId": "18857643-fb00-4d29-b7e0-15a036929629"
      },
      "execution_count": null,
      "outputs": [
        {
          "output_type": "stream",
          "name": "stdout",
          "text": [
            "120\n"
          ]
        }
      ]
    },
    {
      "cell_type": "code",
      "source": [
        "# ask user to enter num and check whether it is even or odd\n",
        "\n",
        "num  = int(input(\"please enter num:\"))\n",
        "\n",
        "if num%2 == 0:\n",
        "  print(\"even num\")\n",
        "else:\n",
        "  print(\"odd num\")"
      ],
      "metadata": {
        "colab": {
          "base_uri": "https://localhost:8080/"
        },
        "id": "4ufXYe8uGksk",
        "outputId": "dcc2ec9c-2fba-4b08-86bd-e30a8ec61c39"
      },
      "execution_count": null,
      "outputs": [
        {
          "output_type": "stream",
          "name": "stdout",
          "text": [
            "please enter num:9\n",
            "odd num\n"
          ]
        }
      ]
    },
    {
      "cell_type": "code",
      "source": [
        "# add multiple nums and show even odd\n",
        "n = int(input(\"pls enter num of entries:\"))\n",
        "nums=[]\n",
        "res = {}\n",
        "for i in range(n):\n",
        "  nums.append(int(input(\"pls enter num:\")))\n",
        "\n",
        "for j in nums:\n",
        "  if j%2 == 0:\n",
        "    res[j] = \"even\"\n",
        "  else:\n",
        "    res[j] = \"odd\"\n",
        "print(nums)\n",
        "print(res)"
      ],
      "metadata": {
        "colab": {
          "base_uri": "https://localhost:8080/"
        },
        "id": "-Wi-yK1HHRIn",
        "outputId": "cfa21e87-cca6-4c92-9ea0-d5f452872921"
      },
      "execution_count": null,
      "outputs": [
        {
          "output_type": "stream",
          "name": "stdout",
          "text": [
            "pls enter num of entries:4\n",
            "pls enter num:1\n",
            "pls enter num:4\n",
            "pls enter num:5\n",
            "pls enter num:6\n",
            "[1, 4, 5, 6]\n",
            "{1: 'odd', 4: 'even', 5: 'odd', 6: 'even'}\n"
          ]
        }
      ]
    },
    {
      "cell_type": "code",
      "source": [
        "# prime nums upto 100\n",
        "\n",
        "for i in range(1,100):\n",
        "  count = 0\n",
        "  for j in range(1,i+1):\n",
        "    if i%j == 0:\n",
        "      count = count + 1\n",
        "\n",
        "  if count == 2:\n",
        "    print(j)"
      ],
      "metadata": {
        "colab": {
          "base_uri": "https://localhost:8080/"
        },
        "id": "P6zwbMsrI8_y",
        "outputId": "61f4b2cb-aa14-4a80-972b-be6fe3319001"
      },
      "execution_count": null,
      "outputs": [
        {
          "output_type": "stream",
          "name": "stdout",
          "text": [
            "2\n",
            "3\n",
            "5\n",
            "7\n",
            "11\n",
            "13\n",
            "17\n",
            "19\n",
            "23\n",
            "29\n",
            "31\n",
            "37\n",
            "41\n",
            "43\n",
            "47\n",
            "53\n",
            "59\n",
            "61\n",
            "67\n",
            "71\n",
            "73\n",
            "79\n",
            "83\n",
            "89\n",
            "97\n"
          ]
        }
      ]
    },
    {
      "cell_type": "code",
      "source": [
        "num = 6\n",
        "e = 3\n",
        "\n",
        "print(pow(num,e))\n",
        "print(6**3)"
      ],
      "metadata": {
        "colab": {
          "base_uri": "https://localhost:8080/"
        },
        "id": "gNe-QR-4Krbh",
        "outputId": "218d9d40-d496-4927-b9d2-5550d4d03bfa"
      },
      "execution_count": null,
      "outputs": [
        {
          "output_type": "stream",
          "name": "stdout",
          "text": [
            "216\n",
            "216\n"
          ]
        }
      ]
    },
    {
      "cell_type": "code",
      "source": [
        "# power funtion\n",
        "def pow(x,y):\n",
        "  return x**y\n",
        "\n",
        "print(pow(3,2))"
      ],
      "metadata": {
        "colab": {
          "base_uri": "https://localhost:8080/"
        },
        "id": "3f4lPGHHLSI9",
        "outputId": "f5689ab1-990c-4028-edac-b07583ed562c"
      },
      "execution_count": null,
      "outputs": [
        {
          "output_type": "stream",
          "name": "stdout",
          "text": [
            "9\n"
          ]
        }
      ]
    },
    {
      "cell_type": "code",
      "source": [
        "# squareroot\n",
        "\n",
        "a = 64\n",
        "\n",
        "from math import sqrt\n",
        "print(sqrt(a))"
      ],
      "metadata": {
        "colab": {
          "base_uri": "https://localhost:8080/"
        },
        "id": "p5ZN4e2kMFId",
        "outputId": "942a8f03-efce-472f-d08e-25f1732004ed"
      },
      "execution_count": null,
      "outputs": [
        {
          "output_type": "stream",
          "name": "stdout",
          "text": [
            "8.0\n"
          ]
        }
      ]
    },
    {
      "cell_type": "code",
      "source": [
        "# square num list\n",
        "for num in range(1,21):\n",
        "  sq = []\n",
        "  for i in range(1, num+1):\n",
        "    sq.append(i**2)\n",
        "print(sq)"
      ],
      "metadata": {
        "colab": {
          "base_uri": "https://localhost:8080/"
        },
        "id": "NzGY20YmOAdv",
        "outputId": "fc9cb62e-e617-45bb-e3ff-747e980bedfb"
      },
      "execution_count": null,
      "outputs": [
        {
          "output_type": "stream",
          "name": "stdout",
          "text": [
            "[1, 4, 9, 16, 25, 36, 49, 64, 81, 100, 121, 144, 169, 196, 225, 256, 289, 324, 361, 400]\n"
          ]
        }
      ]
    },
    {
      "cell_type": "code",
      "source": [
        "# find sq roots upto 1000\n",
        "\n",
        "for i in range(1,1000):\n",
        "  for j in range(i):\n",
        "    if j*j == i:\n",
        "      print(i, end=\" \")"
      ],
      "metadata": {
        "colab": {
          "base_uri": "https://localhost:8080/"
        },
        "id": "1Oco-PeaYNVz",
        "outputId": "d7de5b09-00c2-49fe-9f41-c5b8ae19851a"
      },
      "execution_count": null,
      "outputs": [
        {
          "output_type": "stream",
          "name": "stdout",
          "text": [
            "4 9 16 25 36 49 64 81 100 121 144 169 196 225 256 289 324 361 400 441 484 529 576 625 676 729 784 841 900 961 "
          ]
        }
      ]
    },
    {
      "cell_type": "code",
      "source": [
        "# find cube root upto 1000\n",
        "for i in range(1,1000):\n",
        "  for j in range(i):\n",
        "    if j*j*j == i:\n",
        "      print(i, end=\" \")"
      ],
      "metadata": {
        "colab": {
          "base_uri": "https://localhost:8080/"
        },
        "id": "cHYTHRatYawC",
        "outputId": "c9853269-3062-4490-a657-c1f6801e83fc"
      },
      "execution_count": null,
      "outputs": [
        {
          "output_type": "stream",
          "name": "stdout",
          "text": [
            "8 27 64 125 216 343 512 729 "
          ]
        }
      ]
    },
    {
      "cell_type": "code",
      "source": [
        "# square in dict with num\n",
        "d = {}\n",
        "n = 20\n",
        "for num in range(1, n+1):\n",
        "  for i in range(1, num+1):\n",
        "    d[i] = i**2\n",
        "print(d, end=\" \")"
      ],
      "metadata": {
        "colab": {
          "base_uri": "https://localhost:8080/"
        },
        "id": "fb6mkN1ZO7Dz",
        "outputId": "15a97999-4469-4533-aa6c-a307bded9204"
      },
      "execution_count": null,
      "outputs": [
        {
          "output_type": "stream",
          "name": "stdout",
          "text": [
            "{1: 1, 2: 4, 3: 9, 4: 16, 5: 25, 6: 36, 7: 49, 8: 64, 9: 81, 10: 100, 11: 121, 12: 144, 13: 169, 14: 196, 15: 225, 16: 256, 17: 289, 18: 324, 19: 361, 20: 400} "
          ]
        }
      ]
    },
    {
      "cell_type": "code",
      "source": [
        "# decimal to binary\n",
        "num = 45\n",
        "print(bin(num))"
      ],
      "metadata": {
        "colab": {
          "base_uri": "https://localhost:8080/"
        },
        "id": "exn2CzoNPXEQ",
        "outputId": "fed5308f-b71c-461a-9872-82d0f43cf955"
      },
      "execution_count": null,
      "outputs": [
        {
          "output_type": "stream",
          "name": "stdout",
          "text": [
            "0b101101\n"
          ]
        }
      ]
    },
    {
      "cell_type": "code",
      "source": [
        "# decimal to octal\n",
        "num = 45\n",
        "print(oct(num))"
      ],
      "metadata": {
        "colab": {
          "base_uri": "https://localhost:8080/"
        },
        "id": "jNgfw5h-PgaQ",
        "outputId": "c55a1418-95e6-4202-889a-576dfd23e9b2"
      },
      "execution_count": null,
      "outputs": [
        {
          "output_type": "stream",
          "name": "stdout",
          "text": [
            "0o55\n"
          ]
        }
      ]
    },
    {
      "cell_type": "code",
      "source": [
        "# decimal to hexadeximal\n",
        "num = 45\n",
        "print(hex(num))"
      ],
      "metadata": {
        "colab": {
          "base_uri": "https://localhost:8080/"
        },
        "id": "1n29D4EYPozN",
        "outputId": "8a78f4e6-6eab-4e03-a6a6-64ed03762b87"
      },
      "execution_count": null,
      "outputs": [
        {
          "output_type": "stream",
          "name": "stdout",
          "text": [
            "0x2d\n"
          ]
        }
      ]
    },
    {
      "cell_type": "code",
      "source": [
        "# simple intrest\n",
        "p = 100000\n",
        "n = 36 #months\n",
        "r = 8 #%\n",
        "\n",
        "EMI = (p*n*r)/100\n",
        "print(i)"
      ],
      "metadata": {
        "colab": {
          "base_uri": "https://localhost:8080/"
        },
        "id": "qZwFYUeZPyjo",
        "outputId": "fc0699d7-cb48-481e-98ca-6e1814215158"
      },
      "execution_count": null,
      "outputs": [
        {
          "output_type": "stream",
          "name": "stdout",
          "text": [
            "288000.0\n"
          ]
        }
      ]
    },
    {
      "cell_type": "code",
      "source": [
        "\n",
        "# LCM- least common factor\n",
        "n1 = 12\n",
        "n2 = 16\n",
        "\n",
        "f1 = []\n",
        "# factors of n1\n",
        "for i in range(1,11):\n",
        "  f1.append(i*n1)\n",
        "#print(f1)\n",
        "\n",
        "f2 = []\n",
        "# factors of n2\n",
        "for j in range(1, 11):\n",
        "  f2.append(j*n2)\n",
        "#print(f2)\n",
        "\n",
        "l = list(set(f1) & set(f2))\n",
        "LCM = min(l)\n",
        "print(\"LCM of given num is:\", LCM)"
      ],
      "metadata": {
        "colab": {
          "base_uri": "https://localhost:8080/"
        },
        "id": "co6eKP9TSZPU",
        "outputId": "e780a18b-a7c3-49f8-e2e7-b28734ecd799"
      },
      "execution_count": null,
      "outputs": [
        {
          "output_type": "stream",
          "name": "stdout",
          "text": [
            "LCM of given num is: 48\n"
          ]
        }
      ]
    },
    {
      "cell_type": "code",
      "source": [
        "# HCF- highest common factor\n",
        "\n",
        "a = 24\n",
        "b = 18\n",
        "\n",
        "f1=[]\n",
        "# factors of 1st number\n",
        "for i in range(2,a+1):\n",
        "  if a%i == 0:\n",
        "    f1.append(i)\n",
        "print(f1)\n",
        "\n",
        "f2=[]\n",
        "# factors of 2nd number\n",
        "for j in range(2,b+1):\n",
        "  if b%j==0:\n",
        "    f2.append(j)\n",
        "print(f2)\n",
        "\n",
        "common = list(set(f1) & set(f2))\n",
        "print(common)\n",
        "\n",
        "l = list(set(f1) & set(f2))\n",
        "LCM = min(l)\n",
        "print(\"LCM of given num is:\", LCM)\n",
        "\n",
        "from functools import reduce\n",
        "HCF = reduce(lambda x,y: x*y, common)\n",
        "print(\"HCF is:\", HCF)\n",
        "\n",
        "# GCD (a, b) = (a × b)/ LCM (a, b).\n",
        "\n",
        "gc = HCF/LCM\n",
        "print(gc)"
      ],
      "metadata": {
        "colab": {
          "base_uri": "https://localhost:8080/"
        },
        "id": "2MzfqHy7eoMV",
        "outputId": "70c5828f-0617-44f2-eafe-028a72dcad99"
      },
      "execution_count": null,
      "outputs": [
        {
          "output_type": "stream",
          "name": "stdout",
          "text": [
            "[2, 3, 4, 6, 8, 12, 24]\n",
            "[2, 3, 6, 9, 18]\n",
            "[2, 3, 6]\n",
            "LCM of given num is: 2\n",
            "HCF is: 36\n",
            "18.0\n"
          ]
        }
      ]
    },
    {
      "cell_type": "code",
      "source": [
        "a = 18\n",
        "b = 24\n",
        "\n",
        "def HCF(a,b):\n",
        "  if b == 0:\n",
        "    return a\n",
        "  else:\n",
        "    return HCF(b, a%b)\n",
        "\n",
        "print(\"HCF\", HCF(a,b))"
      ],
      "metadata": {
        "colab": {
          "base_uri": "https://localhost:8080/"
        },
        "id": "-xRdRdPvhmjH",
        "outputId": "2cbba512-83d3-4780-9106-dcbac2b4af19"
      },
      "execution_count": null,
      "outputs": [
        {
          "output_type": "stream",
          "name": "stdout",
          "text": [
            "HCF 6\n"
          ]
        }
      ]
    },
    {
      "cell_type": "code",
      "source": [
        "# HCF\n",
        "a = 16\n",
        "b = 12\n",
        "\n",
        "# GCD (a, b) = (a × b)/ LCM (a, b).\n",
        "\n",
        "g = (a*b)/48\n",
        "print(g)"
      ],
      "metadata": {
        "colab": {
          "base_uri": "https://localhost:8080/"
        },
        "id": "ck8pbk3ViuVW",
        "outputId": "ea7d7a1a-8ea7-4834-da36-c9128846c80d"
      },
      "execution_count": null,
      "outputs": [
        {
          "output_type": "stream",
          "name": "stdout",
          "text": [
            "4.0\n"
          ]
        }
      ]
    },
    {
      "cell_type": "code",
      "source": [
        "# LCM- Least common factor using while loopS\n",
        "a = 16\n",
        "b = 12\n",
        "\n",
        "min = 12                 # min = min(a,b)\n",
        "\n",
        "while (1):\n",
        "  if ((min%a == 0) and (min% b == 0)):\n",
        "    LCM = min\n",
        "    print(\"LCM is:\", LCM)\n",
        "    break\n",
        "  min = min + 1\n",
        "\n",
        "# GCD - greatest commoon divisor or HCF - highest common factor\n",
        "# GCD = (a*b) / LCM(a,b)\n",
        "\n",
        "GCD = (a*b)/LCM\n",
        "print(\"GCD  is:\", GCD)"
      ],
      "metadata": {
        "colab": {
          "base_uri": "https://localhost:8080/"
        },
        "id": "CFFgEQgCobvN",
        "outputId": "5789a75d-6abe-497a-ac15-93a4b9058923"
      },
      "execution_count": null,
      "outputs": [
        {
          "output_type": "stream",
          "name": "stdout",
          "text": [
            "LCM is: 48\n",
            "GCD  is: 4.0\n"
          ]
        }
      ]
    },
    {
      "cell_type": "code",
      "source": [
        "# HCF using for loop\n",
        "a = 18\n",
        "b = 12\n",
        "\n",
        "for i in range(1, 12):\n",
        "  if a%i == 0  and b%i == 0:\n",
        "    hcf = i\n",
        "print(hcf)"
      ],
      "metadata": {
        "colab": {
          "base_uri": "https://localhost:8080/"
        },
        "id": "Tuv5FXcPwDMz",
        "outputId": "7622d4a7-2f7b-4b6a-c373-6eba9a6b4ec7"
      },
      "execution_count": null,
      "outputs": [
        {
          "output_type": "stream",
          "name": "stdout",
          "text": [
            "6\n"
          ]
        }
      ]
    },
    {
      "cell_type": "code",
      "source": [
        "# LCM - least count number\n",
        "\n",
        "a = 18\n",
        "b = 12\n",
        "\n",
        "c = a*b\n",
        "#print(c)\n",
        "\n",
        "for i in range(1,c+1):\n",
        "  if (i%a==0) and (i%b==0):\n",
        "    LCM = i\n",
        "    break\n",
        "print(\"LCM of given nums:\", LCM)\n",
        "\n",
        "for i in range(2,min):\n",
        "  if a%i== 0 and b%i==0:\n",
        "    HCF = i\n",
        "print(\"HCF of given numbers:\", HCF)"
      ],
      "metadata": {
        "colab": {
          "base_uri": "https://localhost:8080/"
        },
        "id": "M9gGfk-Exp9z",
        "outputId": "1d5dcb24-4724-4881-a39f-114940bc4594"
      },
      "execution_count": null,
      "outputs": [
        {
          "output_type": "stream",
          "name": "stdout",
          "text": [
            "LCM of given nums: 36\n",
            "HCF of given numbers: 6\n"
          ]
        }
      ]
    },
    {
      "cell_type": "code",
      "source": [
        "# LCM & HCF using recursion method\n",
        "\n",
        "a = 18\n",
        "b = 12\n",
        "\n",
        "def gcd(a,b):\n",
        "  if a == 0:\n",
        "    return b\n",
        "  return gcd((b%a), a)\n",
        "\n",
        "print(\"GCD of given nums:\",gcd(a,b))\n",
        "\n",
        "def lcm(a,b):\n",
        "  return ((a*b)/gcd(a,b))\n",
        "\n",
        "print(\"LCM of given nums:\",lcm(a,b))"
      ],
      "metadata": {
        "colab": {
          "base_uri": "https://localhost:8080/"
        },
        "id": "suZ4_PS71tu_",
        "outputId": "b85d1f5e-016f-4aa3-bb92-35fefd2e8947"
      },
      "execution_count": null,
      "outputs": [
        {
          "output_type": "stream",
          "name": "stdout",
          "text": [
            "GCD of given nums: 6\n",
            "LCM of given nums: 36.0\n"
          ]
        }
      ]
    },
    {
      "cell_type": "code",
      "source": [
        "# LCM and GCD using math module\n",
        "a = 18\n",
        "b = 12\n",
        "import math\n",
        "\n",
        "\n",
        "GCD = math.gcd(a,b)\n",
        "print(\"GCD is:\", GCD)\n",
        "\n",
        "\"\"\"\n",
        "LCM = math.lcm(a,b)\n",
        "print(\"LCM is:\", LCM)\n",
        "\n",
        "AttributeError: module 'math' has no attribute 'lcm'\n",
        "\"\"\""
      ],
      "metadata": {
        "colab": {
          "base_uri": "https://localhost:8080/",
          "height": 53
        },
        "id": "NKHikxg33LY0",
        "outputId": "96296cd1-9c63-41ae-c0b4-808f93062b44"
      },
      "execution_count": null,
      "outputs": [
        {
          "output_type": "stream",
          "name": "stdout",
          "text": [
            "GCD is: 6\n"
          ]
        },
        {
          "output_type": "execute_result",
          "data": {
            "text/plain": [
              "'\\nLCM = math.lcm(a,b)\\nprint(\"LCM is:\", LCM)\\n\\nAttributeError: module \\'math\\' has no attribute \\'lcm\\'\\n'"
            ],
            "application/vnd.google.colaboratory.intrinsic+json": {
              "type": "string"
            }
          },
          "metadata": {},
          "execution_count": 138
        }
      ]
    },
    {
      "cell_type": "code",
      "source": [
        "a = 18\n",
        "b = 12\n",
        "c = a*b\n",
        "\n",
        "for i in range(1, c+1):\n",
        "  if i%a == 0 and i%b == 0:\n",
        "    LCM = i\n",
        "    break\n",
        "print(\"LCM is:\", LCM)\n",
        "\n",
        "min = 12               # min(a,b)\n",
        "if a%min==0 and b%min==0:\n",
        "  HCF = i\n",
        "print(\"HCF is:\", HCF)"
      ],
      "metadata": {
        "colab": {
          "base_uri": "https://localhost:8080/"
        },
        "id": "J7cVzSntDm91",
        "outputId": "70ece2fc-aab3-4973-bb1d-b429d7d60c0a"
      },
      "execution_count": null,
      "outputs": [
        {
          "output_type": "stream",
          "name": "stdout",
          "text": [
            "LCM is: 36\n",
            "HCF is: 6\n"
          ]
        }
      ]
    },
    {
      "cell_type": "code",
      "source": [
        "a = 18\n",
        "b = 12\n",
        "\n",
        "def gcd(a,b):                  \n",
        "  if a==0:\n",
        "    return b\n",
        "  return gcd((b%a), a)               # a=(b%a), b=(a)\n",
        "\n",
        "print(\"GCD is:\",gcd(a,b))\n",
        "\n",
        "lcm = (a*b)/ gcd(a,b)\n",
        "print(\"LCM is:\", lcm)"
      ],
      "metadata": {
        "colab": {
          "base_uri": "https://localhost:8080/"
        },
        "id": "QGr4kX8TES9f",
        "outputId": "aba276ac-dfef-44ae-efcc-ab0cce64c590"
      },
      "execution_count": null,
      "outputs": [
        {
          "output_type": "stream",
          "name": "stdout",
          "text": [
            "GCD is: 6\n",
            "LCM is: 36.0\n"
          ]
        }
      ]
    },
    {
      "cell_type": "code",
      "source": [
        "# remove given char from string\n",
        "a = \"hello python\"\n",
        "ch = \"e\"\n",
        "b = \"\"\n",
        "for i in a:\n",
        "  if i==ch:\n",
        "    continue\n",
        "  b =  b + i\n",
        "\n",
        "print(b)\n",
        "\n",
        "# another method\n",
        "c = a.replace(\"e\",\"\")\n",
        "print(c)"
      ],
      "metadata": {
        "colab": {
          "base_uri": "https://localhost:8080/"
        },
        "id": "OKqYopJGRsuD",
        "outputId": "a64f8a03-ae61-4770-d45e-071172c80703"
      },
      "execution_count": null,
      "outputs": [
        {
          "output_type": "stream",
          "name": "stdout",
          "text": [
            "hllo python\n",
            "hllo python\n"
          ]
        }
      ]
    },
    {
      "cell_type": "code",
      "source": [
        "# occurance of chars\n",
        "a = \"hello python\"\n",
        "ch = \"l\"\n",
        "count = 0\n",
        "for i in a:\n",
        "  if i == ch:\n",
        "    count = count + 1\n",
        "\n",
        "print(count)"
      ],
      "metadata": {
        "colab": {
          "base_uri": "https://localhost:8080/"
        },
        "id": "jBWh5yPWXnaC",
        "outputId": "255bf6d3-d908-4e66-e431-109278cd3c53"
      },
      "execution_count": null,
      "outputs": [
        {
          "output_type": "stream",
          "name": "stdout",
          "text": [
            "2\n"
          ]
        }
      ]
    },
    {
      "cell_type": "code",
      "source": [
        "# anagram or not\n",
        "a = \"earth\"\n",
        "b = \"heart\"\n",
        "\n",
        "if sorted(a) == sorted(b):\n",
        "  print(\"given string is anagram\")\n",
        "else:\n",
        "  print(\"not\")"
      ],
      "metadata": {
        "colab": {
          "base_uri": "https://localhost:8080/"
        },
        "id": "LplF9uxHYKUl",
        "outputId": "28e40e73-b957-4251-d9c5-2d036947890e"
      },
      "execution_count": null,
      "outputs": [
        {
          "output_type": "stream",
          "name": "stdout",
          "text": [
            "not\n"
          ]
        }
      ]
    },
    {
      "cell_type": "code",
      "source": [
        "# check given char is vowel or consonant\n",
        "\n",
        "a = [\"a\",\"e\",\"i\",\"o\",\"u\",\"A\",\"E\",\"I\",\"O\",\"U\"]\n",
        "ch = \"K\"\n",
        "\n",
        "if ch in a:\n",
        "  print(\"given char is vowel\")\n",
        "else:\n",
        "  print(\"given char is consonant\")\n"
      ],
      "metadata": {
        "colab": {
          "base_uri": "https://localhost:8080/"
        },
        "id": "mKoPEL-4YeJ6",
        "outputId": "6278fec1-787c-4c3c-c0a8-1aa1e013f4e0"
      },
      "execution_count": null,
      "outputs": [
        {
          "output_type": "stream",
          "name": "stdout",
          "text": [
            "given char is consonant\n"
          ]
        }
      ]
    },
    {
      "cell_type": "code",
      "source": [
        "# digit or not\n",
        "\n",
        "a = \"5\"\n",
        "if a.isdigit()==True:\n",
        "  print(\"char is digit\")"
      ],
      "metadata": {
        "colab": {
          "base_uri": "https://localhost:8080/"
        },
        "id": "Ne_jr5W-ZM0L",
        "outputId": "137be7a2-24a5-4e0a-cc1a-50d0fac839b3"
      },
      "execution_count": null,
      "outputs": [
        {
          "output_type": "stream",
          "name": "stdout",
          "text": [
            "char is digit\n"
          ]
        }
      ]
    },
    {
      "cell_type": "code",
      "source": [
        "# check digit without isdigit()\n",
        "\n",
        "a = \"8\"\n",
        "\n",
        "b = [\"0\",\"1\",\"2\",\"3\",\"4\",\"5\",\"6\",\"7\",\"8\",\"9\"]\n",
        "if a in b:\n",
        "  print(\"digit\")\n",
        "else:\n",
        "  print(\"character or symbol\")\n",
        "\n",
        "# another method\n",
        "if a>= \"0\" and a<=\"9\":\n",
        "  print(\"digit\")"
      ],
      "metadata": {
        "colab": {
          "base_uri": "https://localhost:8080/"
        },
        "id": "Qhgg-ux4ZlS5",
        "outputId": "4a55da6f-e8f0-4448-880f-9db97a2c4d6a"
      },
      "execution_count": null,
      "outputs": [
        {
          "output_type": "stream",
          "name": "stdout",
          "text": [
            "digit\n",
            "digit\n"
          ]
        }
      ]
    },
    {
      "cell_type": "code",
      "source": [
        "# replace i to j\n",
        "a = \"amit\"\n",
        "b = \"\"\n",
        "for i in a:\n",
        "  if i == \"i\":\n",
        "    i = \"j\"\n",
        "  b = b + i\n",
        "print(b)\n",
        "\n",
        "# by using replace method\n",
        "b = a.replace(\"i\",\"j\")\n",
        "print(b)"
      ],
      "metadata": {
        "colab": {
          "base_uri": "https://localhost:8080/"
        },
        "id": "kkzkGnctc3KK",
        "outputId": "8773d653-ecfd-46d5-e093-41bebdb702b6"
      },
      "execution_count": null,
      "outputs": [
        {
          "output_type": "stream",
          "name": "stdout",
          "text": [
            "amjt\n",
            "amjt\n"
          ]
        }
      ]
    },
    {
      "cell_type": "code",
      "source": [
        "a = \"pritam tukaram udugade\"\n",
        "print(a[::-1])\n",
        "\n",
        "b = \"\"\n",
        "for i in a:\n",
        "  b = i + b\n",
        "print(b)"
      ],
      "metadata": {
        "colab": {
          "base_uri": "https://localhost:8080/"
        },
        "id": "T0xKF6WUhczw",
        "outputId": "e4aec65a-9ea3-41a2-f42f-a0a2e5aaf3a8"
      },
      "execution_count": null,
      "outputs": [
        {
          "output_type": "stream",
          "name": "stdout",
          "text": [
            "edagudu marakut matirp\n",
            "edagudu marakut matirp\n"
          ]
        }
      ]
    },
    {
      "cell_type": "code",
      "source": [
        "# Lower case to upper case without lower()\n",
        "\n",
        "a = \"pritam udugade\"\n",
        "b = \"\"\n",
        "for i in a:\n",
        "  if i>=\"a\" and i<=\"z\":\n",
        "    b = b + chr(ord(i)-32)\n",
        "  else:\n",
        "    b = b + i\n",
        "print(b)\n",
        "\n",
        "# by using lower()\n",
        "print(a.upper())"
      ],
      "metadata": {
        "colab": {
          "base_uri": "https://localhost:8080/"
        },
        "id": "HZawJ8vdfO-R",
        "outputId": "e0d1b3fc-875a-447c-e064-2e6114f8fbfe"
      },
      "execution_count": null,
      "outputs": [
        {
          "output_type": "stream",
          "name": "stdout",
          "text": [
            "PRITAM UDUGADE\n",
            "PRITAM UDUGADE\n"
          ]
        }
      ]
    },
    {
      "cell_type": "code",
      "source": [
        "# count vowels and consonants in string\n",
        "a = \"hello python\"\n",
        "b = [\"a\",\"e\",\"i\",\"o\",\"u\",\"A\",\"E\",\"I\",\"O\",\"U\"]\n",
        "con = \"\"\n",
        "vow = \"\"\n",
        "\n",
        "for i in a:\n",
        "  if i not in b:\n",
        "    con = con + i\n",
        "  else:\n",
        "    vow = vow + i\n",
        "\n",
        "print(a)\n",
        "print(con)\n",
        "print(vow)\n",
        "\n",
        "print(len(a))\n",
        "print(len(con))\n",
        "print(len(vow))"
      ],
      "metadata": {
        "colab": {
          "base_uri": "https://localhost:8080/"
        },
        "id": "vmv1kgGFn_zq",
        "outputId": "59a50b0a-6dfd-434e-c956-ece265e78524"
      },
      "execution_count": null,
      "outputs": [
        {
          "output_type": "stream",
          "name": "stdout",
          "text": [
            "hello python\n",
            "hll pythn\n",
            "eoo\n",
            "12\n",
            "9\n",
            "3\n"
          ]
        }
      ]
    },
    {
      "cell_type": "code",
      "source": [
        "# remove vowels from given string\n",
        "a = \"hello pritam\"\n",
        "b = [\"a\",\"e\",\"i\",\"o\",\"u\",\"A\",\"E\",\"I\",\"O\",\"U\"]\n",
        "c = \"\"              # string with removed vowels\n",
        "d = \"\"                    # removed vowels\n",
        "for i in a:\n",
        "  if i not in b:                 # string with removed vowels\n",
        "    c = c + i\n",
        "print(c)\n",
        "\n",
        "for i in a:\n",
        "  if i in b:\n",
        "    d = d + i                     # to get the removed vowels\n",
        "print(d)"
      ],
      "metadata": {
        "colab": {
          "base_uri": "https://localhost:8080/"
        },
        "id": "uOX1s-7GiOZJ",
        "outputId": "5d1e5306-3c6b-412d-fb59-05bbebe9ee19"
      },
      "execution_count": null,
      "outputs": [
        {
          "output_type": "stream",
          "name": "stdout",
          "text": [
            "hll prtm\n",
            "eoia\n"
          ]
        }
      ]
    },
    {
      "cell_type": "code",
      "source": [
        "a = \"Pritam Tukaram Udugade\"\n",
        "b = a.split()\n",
        "print(b)\n",
        "\n",
        "print(b[0][0])\n",
        "print(b[1][0])\n",
        "\n",
        "print(b[0][0]+\".\"+b[1][0]+\".\"+b[2])"
      ],
      "metadata": {
        "colab": {
          "base_uri": "https://localhost:8080/"
        },
        "id": "6lDL4TsbjR2q",
        "outputId": "4df4c73d-5258-4363-a398-bcf3968c3bcf"
      },
      "execution_count": null,
      "outputs": [
        {
          "output_type": "stream",
          "name": "stdout",
          "text": [
            "['Pritam', 'Tukaram', 'Udugade']\n",
            "P\n",
            "T\n",
            "P.T.Udugade\n"
          ]
        }
      ]
    },
    {
      "cell_type": "code",
      "source": [
        "# count alphabets, digits and symbols\n",
        "\n",
        "a = \"pritam10.u@gmail.com\"\n",
        "al = \"\"\n",
        "dig = \"\"\n",
        "sym = \"\"\n",
        "\n",
        "for i in a:\n",
        "  if i.isalpha()==True:\n",
        "    al = al + i\n",
        "  elif i.isdigit() == True:\n",
        "    dig = dig + i\n",
        "  else:\n",
        "    sym = sym + i\n",
        "\n",
        "print(a)\n",
        "print(al)\n",
        "print(dig)\n",
        "print(sym)\n",
        "      \n",
        "print(len(a))\n",
        "print(len(al))\n",
        "print(len(dig))\n",
        "print(len(sym))"
      ],
      "metadata": {
        "colab": {
          "base_uri": "https://localhost:8080/"
        },
        "id": "oUAzewpIo9bO",
        "outputId": "aba28a5d-5e98-4f1d-a2ce-0eebf7ce8385"
      },
      "execution_count": null,
      "outputs": [
        {
          "output_type": "stream",
          "name": "stdout",
          "text": [
            "pritam10.u@gmail.com\n",
            "pritamugmailcom\n",
            "10\n",
            ".@.\n",
            "20\n",
            "15\n",
            "2\n",
            "3\n"
          ]
        }
      ]
    },
    {
      "cell_type": "code",
      "source": [
        "# remove blank spaces from string\n",
        "\n",
        "a = \"      pritam\"\n",
        "b = a.strip()\n",
        "print(b)"
      ],
      "metadata": {
        "colab": {
          "base_uri": "https://localhost:8080/"
        },
        "id": "HrBmrJ68p2yG",
        "outputId": "a2413119-e363-40d0-b109-5d05110e5a90"
      },
      "execution_count": null,
      "outputs": [
        {
          "output_type": "stream",
          "name": "stdout",
          "text": [
            "pritam\n"
          ]
        }
      ]
    },
    {
      "cell_type": "code",
      "source": [
        "# remove space between the string\n",
        "a = \"hell oo\"\n",
        "b = \"\"\n",
        "for i in a:\n",
        "  if i != \" \":\n",
        "    b = b + i\n",
        "print(b)"
      ],
      "metadata": {
        "colab": {
          "base_uri": "https://localhost:8080/"
        },
        "id": "5uldrBLYqfZB",
        "outputId": "a3991e8d-ea1e-478d-c479-be86f54ed39b"
      },
      "execution_count": null,
      "outputs": [
        {
          "output_type": "stream",
          "name": "stdout",
          "text": [
            "helloo\n"
          ]
        }
      ]
    },
    {
      "cell_type": "code",
      "source": [
        "# concatenate\n",
        "\n",
        "a = \"hello\"\n",
        "b = \"python\"\n",
        "c = \"\"\n",
        "print(\" \".join([a,b]))\n",
        "\n",
        "# concatenate\n",
        "print(a+\" \"+b)"
      ],
      "metadata": {
        "colab": {
          "base_uri": "https://localhost:8080/"
        },
        "id": "R0iIUsFKq6lg",
        "outputId": "fb544b56-6c30-40a2-e033-3b6d55000f06"
      },
      "execution_count": null,
      "outputs": [
        {
          "output_type": "stream",
          "name": "stdout",
          "text": [
            "hello python\n",
            "hello python\n"
          ]
        }
      ]
    },
    {
      "cell_type": "code",
      "source": [
        "# remove repeated chars\n",
        "a = \"hello pytthon\"\n",
        "c = \"\"\n",
        "d = \"\"\n",
        "for i in a:\n",
        "  if a.count(i) > 1:\n",
        "    c = c + i\n",
        "  else:\n",
        "    d = d + i\n",
        "\n",
        "print(a)\n",
        "print(c)\n",
        "print(d)\n",
        "\n",
        "\n",
        "# new method\n",
        "e = []\n",
        "\n",
        "for i in a:\n",
        "  if i not in e:\n",
        "    e.append(i)\n",
        "print(\"\".join(e))"
      ],
      "metadata": {
        "colab": {
          "base_uri": "https://localhost:8080/"
        },
        "id": "9GQ4mjyFtSt1",
        "outputId": "4d414001-d3fd-42f5-90fd-553df53e46b4"
      },
      "execution_count": null,
      "outputs": [
        {
          "output_type": "stream",
          "name": "stdout",
          "text": [
            "hello pytthon\n",
            "hllottho\n",
            "e pyn\n",
            "helo pytn\n"
          ]
        }
      ]
    },
    {
      "cell_type": "code",
      "source": [
        "a = \"i got 31 34 78 marks\"\n",
        "\n",
        "print(a.split())\n",
        "d = []\n",
        "for i in a.split():\n",
        "  if i.isdigit() == True:\n",
        "    d.append(int(i))\n",
        "\n",
        "print(d)\n",
        "print(sum(d))"
      ],
      "metadata": {
        "colab": {
          "base_uri": "https://localhost:8080/"
        },
        "id": "GtydgPXoyJRO",
        "outputId": "5f8275a5-1b8a-4e14-e8fa-6e6afcb0f0fc"
      },
      "execution_count": null,
      "outputs": [
        {
          "output_type": "stream",
          "name": "stdout",
          "text": [
            "['i', 'got', '31', '34', '78', 'marks']\n",
            "[31, 34, 78]\n",
            "143\n"
          ]
        }
      ]
    },
    {
      "cell_type": "code",
      "source": [
        "# sum of int in string\n",
        "a = \"123!python!@456*\"\n",
        "sum = 0\n",
        "for i in a:\n",
        "  if i.isdigit():\n",
        "    sum = sum + int(i)\n",
        "print(sum)"
      ],
      "metadata": {
        "colab": {
          "base_uri": "https://localhost:8080/"
        },
        "id": "-sqz0ZaOyzxx",
        "outputId": "2f7b891b-4145-4b48-c0c0-aee8374a347d"
      },
      "execution_count": null,
      "outputs": [
        {
          "output_type": "stream",
          "name": "stdout",
          "text": [
            "21\n"
          ]
        }
      ]
    },
    {
      "cell_type": "code",
      "source": [
        "# print non-reating chars\n",
        "a = \"quescoll\"\n",
        "b = \"\"\n",
        "for i in a:\n",
        "  c = 0\n",
        "  for j in a:\n",
        "    if i == j:\n",
        "      c = c + 1\n",
        "      if c > 1:\n",
        "        break\n",
        "      if c == 1:\n",
        "        b = b + i\n",
        "print(b)"
      ],
      "metadata": {
        "colab": {
          "base_uri": "https://localhost:8080/"
        },
        "id": "leEp1fhNz0kB",
        "outputId": "4f32d8c8-94cb-478b-aa36-a259c1fc4993"
      },
      "execution_count": null,
      "outputs": [
        {
          "output_type": "stream",
          "name": "stdout",
          "text": [
            "quescoll\n"
          ]
        }
      ]
    },
    {
      "cell_type": "code",
      "source": [
        "str1 =\"quescoll\"\n",
        "result=\"\"\n",
        "#iterating the characters of string\n",
        "for i in str1:\n",
        "    count = 0\n",
        "    #another loop inside loop\n",
        "    for j in str1:\n",
        "\t    if i == j:\n",
        "\t      count=count+1\n",
        "\t      if count > 1:\n",
        "\t        break\n",
        "\t      if count == 1:\n",
        "\t        result+=i\n",
        "print(\"non repeating character =\", result)"
      ],
      "metadata": {
        "colab": {
          "base_uri": "https://localhost:8080/"
        },
        "id": "R5QEe_pcWvWE",
        "outputId": "e6ff86e8-67bb-42fa-eede-66b388ebe371"
      },
      "execution_count": null,
      "outputs": [
        {
          "output_type": "stream",
          "name": "stdout",
          "text": [
            "non repeating character = quescoll\n"
          ]
        }
      ]
    },
    {
      "cell_type": "code",
      "source": [
        "# copy one string to another\n",
        "a = \"hello pythion\"\n",
        "b = \"\"\n",
        "for i in a:\n",
        "  b = b + i\n",
        "print(b)\n",
        "\n",
        "\n",
        "# another method\n",
        "c = a[:]                         # whoel string\n",
        "print(c)\n",
        "\n",
        "d = \"\"\n",
        "d = str(a)\n",
        "print(d)"
      ],
      "metadata": {
        "colab": {
          "base_uri": "https://localhost:8080/"
        },
        "id": "O9k7LpYo2cUA",
        "outputId": "791315e5-7359-4e45-b089-7a74c71738ff"
      },
      "execution_count": null,
      "outputs": [
        {
          "output_type": "stream",
          "name": "stdout",
          "text": [
            "hello pythion\n",
            "hello pythion\n",
            "hello pythion\n"
          ]
        }
      ]
    },
    {
      "cell_type": "code",
      "source": [
        "# sort string ascending order\n",
        "a = \"acbed\"\n",
        "b = \"\".join(sorted(a, reverse=False))\n",
        "print(b)\n",
        "\n",
        "c = \"\".join(sorted(a, reverse=True))\n",
        "print(c)"
      ],
      "metadata": {
        "colab": {
          "base_uri": "https://localhost:8080/"
        },
        "id": "3oQmnbYQ3Fbt",
        "outputId": "b0e8c6c8-32ff-4974-c1c2-9aef66ae8981"
      },
      "execution_count": null,
      "outputs": [
        {
          "output_type": "stream",
          "name": "stdout",
          "text": [
            "abcde\n",
            "edcba\n"
          ]
        }
      ]
    },
    {
      "cell_type": "code",
      "source": [
        "a = \"abc\"\n",
        "b = \"pqr\"\n",
        "c = \" \".join([a,b])\n",
        "print(c)"
      ],
      "metadata": {
        "colab": {
          "base_uri": "https://localhost:8080/"
        },
        "id": "roVXN0z09fPV",
        "outputId": "c798a30a-ebbd-4154-e674-ebf589600966"
      },
      "execution_count": null,
      "outputs": [
        {
          "output_type": "stream",
          "name": "stdout",
          "text": [
            "abc pqr\n"
          ]
        }
      ]
    },
    {
      "cell_type": "code",
      "source": [
        "# find missing element from array\n",
        "import numpy as np\n",
        "\n",
        "a = np.arange(1,100)\n",
        "print(a)\n",
        "print(sum(a))"
      ],
      "metadata": {
        "colab": {
          "base_uri": "https://localhost:8080/",
          "height": 287
        },
        "id": "Ow4cgckh-AR5",
        "outputId": "1f1386fc-a50a-439e-89da-89968b125950"
      },
      "execution_count": null,
      "outputs": [
        {
          "output_type": "stream",
          "name": "stdout",
          "text": [
            "[ 1  2  3  4  5  6  7  8  9 10 11 12 13 14 15 16 17 18 19 20 21 22 23 24\n",
            " 25 26 27 28 29 30 31 32 33 34 35 36 37 38 39 40 41 42 43 44 45 46 47 48\n",
            " 49 50 51 52 53 54 55 56 57 58 59 60 61 62 63 64 65 66 67 68 69 70 71 72\n",
            " 73 74 75 76 77 78 79 80 81 82 83 84 85 86 87 88 89 90 91 92 93 94 95 96\n",
            " 97 98 99]\n"
          ]
        },
        {
          "output_type": "error",
          "ename": "TypeError",
          "evalue": "ignored",
          "traceback": [
            "\u001b[0;31m---------------------------------------------------------------------------\u001b[0m",
            "\u001b[0;31mTypeError\u001b[0m                                 Traceback (most recent call last)",
            "\u001b[0;32m<ipython-input-284-a64133fb79e4>\u001b[0m in \u001b[0;36m<module>\u001b[0;34m\u001b[0m\n\u001b[1;32m      4\u001b[0m \u001b[0ma\u001b[0m \u001b[0;34m=\u001b[0m \u001b[0mnp\u001b[0m\u001b[0;34m.\u001b[0m\u001b[0marange\u001b[0m\u001b[0;34m(\u001b[0m\u001b[0;36m1\u001b[0m\u001b[0;34m,\u001b[0m\u001b[0;36m100\u001b[0m\u001b[0;34m)\u001b[0m\u001b[0;34m\u001b[0m\u001b[0;34m\u001b[0m\u001b[0m\n\u001b[1;32m      5\u001b[0m \u001b[0mprint\u001b[0m\u001b[0;34m(\u001b[0m\u001b[0ma\u001b[0m\u001b[0;34m)\u001b[0m\u001b[0;34m\u001b[0m\u001b[0;34m\u001b[0m\u001b[0m\n\u001b[0;32m----> 6\u001b[0;31m \u001b[0mprint\u001b[0m\u001b[0;34m(\u001b[0m\u001b[0msum\u001b[0m\u001b[0;34m(\u001b[0m\u001b[0ma\u001b[0m\u001b[0;34m)\u001b[0m\u001b[0;34m)\u001b[0m\u001b[0;34m\u001b[0m\u001b[0;34m\u001b[0m\u001b[0m\n\u001b[0m",
            "\u001b[0;31mTypeError\u001b[0m: 'int' object is not callable"
          ]
        }
      ]
    },
    {
      "cell_type": "code",
      "source": [
        "# find LCM of given nums\n",
        "a = 18\n",
        "b = 12\n",
        "\n",
        "c = a*b\n",
        "\n",
        "for i in range(2,c+1):\n",
        "  if i%a == 0 and i%b == 0:\n",
        "    LCM = i\n",
        "    break\n",
        "print(\"LCM of given num is:\", LCM)"
      ],
      "metadata": {
        "colab": {
          "base_uri": "https://localhost:8080/"
        },
        "id": "gK2mLbkEcEx8",
        "outputId": "c6f2b8cb-f92f-47f7-d6c3-755de6d1a9ae"
      },
      "execution_count": null,
      "outputs": [
        {
          "output_type": "stream",
          "name": "stdout",
          "text": [
            "LCM of given num is: 36\n"
          ]
        }
      ]
    },
    {
      "cell_type": "code",
      "source": [
        "# find HCF/GCD\n",
        "a = 18\n",
        "b = 12\n",
        "\n",
        "min = 12     # min(a,b)\n",
        "for i in range(2, min+1):\n",
        "  if a%i==0 and b%i==0:\n",
        "    HCF = i\n",
        "print(\"HCF of given num is:\", HCF)"
      ],
      "metadata": {
        "colab": {
          "base_uri": "https://localhost:8080/"
        },
        "id": "ajWmU9O5cds6",
        "outputId": "48d82941-e367-4172-9cd3-ad5cbe66e943"
      },
      "execution_count": null,
      "outputs": [
        {
          "output_type": "stream",
          "name": "stdout",
          "text": [
            "HCF of given num is: 6\n"
          ]
        }
      ]
    },
    {
      "cell_type": "code",
      "source": [
        "# GCD by recursion\n",
        "a = 18\n",
        "b = 12\n",
        "\n",
        "def gcd(a,b):\n",
        "  if a == 0:\n",
        "    return b\n",
        "  return gcd((b%a),a)\n",
        "\n",
        "print(\"GCD/HCF of given number:\",gcd(a,b))\n",
        "\n",
        "# LCM by using formula\n",
        "LCM = (a*b)/gcd(a,b)\n",
        "print(\"LCM of given num:\", LCM)"
      ],
      "metadata": {
        "colab": {
          "base_uri": "https://localhost:8080/"
        },
        "id": "FA24MuGvc4O2",
        "outputId": "6bc1a6f6-dd52-4e37-8608-7035a2dd5140"
      },
      "execution_count": null,
      "outputs": [
        {
          "output_type": "stream",
          "name": "stdout",
          "text": [
            "GCD/HCF of given number: 6\n",
            "LCM of given num: 36.0\n"
          ]
        }
      ]
    },
    {
      "cell_type": "code",
      "source": [
        "a = 18\n",
        "b = 12\n",
        "\n",
        "c = [1,3,4,5,6]\n",
        "print(sum(c))\n",
        "\n",
        "print(max(a,b))\n",
        "\n",
        "print(sum(a,b))\n",
        "\n",
        "print(min(a,b))"
      ],
      "metadata": {
        "colab": {
          "base_uri": "https://localhost:8080/",
          "height": 235
        },
        "id": "34C2Z-Fzdr5I",
        "outputId": "d7b2190c-7341-436d-d338-02350ff82eff"
      },
      "execution_count": null,
      "outputs": [
        {
          "output_type": "error",
          "ename": "TypeError",
          "evalue": "ignored",
          "traceback": [
            "\u001b[0;31m---------------------------------------------------------------------------\u001b[0m",
            "\u001b[0;31mTypeError\u001b[0m                                 Traceback (most recent call last)",
            "\u001b[0;32m<ipython-input-294-752c78c8d390>\u001b[0m in \u001b[0;36m<module>\u001b[0;34m\u001b[0m\n\u001b[1;32m      3\u001b[0m \u001b[0;34m\u001b[0m\u001b[0m\n\u001b[1;32m      4\u001b[0m \u001b[0mc\u001b[0m \u001b[0;34m=\u001b[0m \u001b[0;34m[\u001b[0m\u001b[0;36m1\u001b[0m\u001b[0;34m,\u001b[0m\u001b[0;36m3\u001b[0m\u001b[0;34m,\u001b[0m\u001b[0;36m4\u001b[0m\u001b[0;34m,\u001b[0m\u001b[0;36m5\u001b[0m\u001b[0;34m,\u001b[0m\u001b[0;36m6\u001b[0m\u001b[0;34m]\u001b[0m\u001b[0;34m\u001b[0m\u001b[0;34m\u001b[0m\u001b[0m\n\u001b[0;32m----> 5\u001b[0;31m \u001b[0mprint\u001b[0m\u001b[0;34m(\u001b[0m\u001b[0msum\u001b[0m\u001b[0;34m(\u001b[0m\u001b[0mc\u001b[0m\u001b[0;34m)\u001b[0m\u001b[0;34m)\u001b[0m\u001b[0;34m\u001b[0m\u001b[0;34m\u001b[0m\u001b[0m\n\u001b[0m\u001b[1;32m      6\u001b[0m \u001b[0;34m\u001b[0m\u001b[0m\n\u001b[1;32m      7\u001b[0m \u001b[0mprint\u001b[0m\u001b[0;34m(\u001b[0m\u001b[0mmax\u001b[0m\u001b[0;34m(\u001b[0m\u001b[0ma\u001b[0m\u001b[0;34m,\u001b[0m\u001b[0mb\u001b[0m\u001b[0;34m)\u001b[0m\u001b[0;34m)\u001b[0m\u001b[0;34m\u001b[0m\u001b[0;34m\u001b[0m\u001b[0m\n",
            "\u001b[0;31mTypeError\u001b[0m: 'int' object is not callable"
          ]
        }
      ]
    },
    {
      "cell_type": "code",
      "source": [
        "a = \"hello world pythonic way\"\n",
        "a = a.split()\n",
        "\n",
        "print(a[0][0])\n",
        "print(a[1][0])\n"
      ],
      "metadata": {
        "colab": {
          "base_uri": "https://localhost:8080/"
        },
        "id": "snUPPc0Ke4yI",
        "outputId": "080ff93d-9774-48a7-ce7d-d7c4dbde70d9"
      },
      "execution_count": null,
      "outputs": [
        {
          "output_type": "stream",
          "name": "stdout",
          "text": [
            "h\n",
            "w\n"
          ]
        }
      ]
    },
    {
      "cell_type": "code",
      "source": [
        "# dictionary in ascending and descending order\n",
        "\n",
        "a = {\"pritam\":28, \"mani\":32, \"shani\":24, \"fani\":30}\n",
        "for i in a:\n",
        "  print(i)                # keys return\n",
        "\n",
        "for i in a:\n",
        "  print(a[i])                 # values return\n",
        "\n",
        "for i in a.items():                # pair of keys and values return\n",
        "  print(i) \n",
        "\n",
        "for i in a.keys():               # keys return\n",
        "  print(i)\n",
        "\n",
        "for i in a.values():              # values return\n",
        "  print(i)\n",
        "\n",
        "for i,j in a.items():\n",
        "  print(i)                       # i for keys, keys return\n",
        "\n",
        "for j in a.items():\n",
        "  print(j)                        # both keys values retun, j is for values"
      ],
      "metadata": {
        "colab": {
          "base_uri": "https://localhost:8080/"
        },
        "id": "SQ2wB4FigqJ9",
        "outputId": "606370db-0772-41c5-fad1-c504476c8d97"
      },
      "execution_count": null,
      "outputs": [
        {
          "output_type": "stream",
          "name": "stdout",
          "text": [
            "pritam\n",
            "mani\n",
            "shani\n",
            "fani\n",
            "28\n",
            "32\n",
            "24\n",
            "30\n",
            "('pritam', 28)\n",
            "('mani', 32)\n",
            "('shani', 24)\n",
            "('fani', 30)\n",
            "pritam\n",
            "mani\n",
            "shani\n",
            "fani\n",
            "28\n",
            "32\n",
            "24\n",
            "30\n",
            "pritam\n",
            "mani\n",
            "shani\n",
            "fani\n",
            "('pritam', 28)\n",
            "('mani', 32)\n",
            "('shani', 24)\n",
            "('fani', 30)\n"
          ]
        }
      ]
    },
    {
      "cell_type": "code",
      "source": [
        "# sorting dictionary on the values basis\n",
        "\n",
        "a = {\"pritam\":28, \"mani\":32, \"shani\":24, \"fani\":30}\n",
        "print(a)\n",
        "\n",
        "b = sorted(a.items(), key=lambda x: x[0])                          # on the basis of key, alphabetical order\n",
        "print(b)\n",
        "\n",
        "c = sorted(a.items(), key=lambda x:x[1])                           # on the basis of values\n",
        "print(c)"
      ],
      "metadata": {
        "colab": {
          "base_uri": "https://localhost:8080/"
        },
        "id": "p12FELvqirwf",
        "outputId": "eaa58528-1ba5-4460-9b18-7b2588369b3e"
      },
      "execution_count": null,
      "outputs": [
        {
          "output_type": "stream",
          "name": "stdout",
          "text": [
            "{'pritam': 28, 'mani': 32, 'shani': 24, 'fani': 30}\n",
            "[('fani', 30), ('mani', 32), ('pritam', 28), ('shani', 24)]\n",
            "[('shani', 24), ('pritam', 28), ('fani', 30), ('mani', 32)]\n"
          ]
        }
      ]
    },
    {
      "cell_type": "code",
      "source": [
        "a = {\"pritam\":28, \"mani\":32, \"shani\":24, \"fani\":30}\n",
        "b = sorted(a.items(), key = lambda x: len(x[0]))                    # sorting on the basis of length of key\n",
        "print(b)"
      ],
      "metadata": {
        "colab": {
          "base_uri": "https://localhost:8080/"
        },
        "id": "0i9Zk37skDNd",
        "outputId": "777393db-7e01-4a09-af95-8982b4b22081"
      },
      "execution_count": null,
      "outputs": [
        {
          "output_type": "stream",
          "name": "stdout",
          "text": [
            "[('mani', 32), ('fani', 30), ('shani', 24), ('pritam', 28)]\n"
          ]
        }
      ]
    },
    {
      "cell_type": "code",
      "source": [
        "# descending order\n",
        "a = {\"pritam\":28, \"mani\":32, \"shani\":24, \"fani\":30}\n",
        "b = sorted(a.items(), key=lambda x:x[1], reverse=True)              # on the bais of values, reverse oderd\n",
        "print(b)"
      ],
      "metadata": {
        "colab": {
          "base_uri": "https://localhost:8080/"
        },
        "id": "tZair8t3lAdA",
        "outputId": "662345b0-7ea8-4e04-dd01-a7e0027d7124"
      },
      "execution_count": null,
      "outputs": [
        {
          "output_type": "stream",
          "name": "stdout",
          "text": [
            "[('mani', 32), ('fani', 30), ('pritam', 28), ('shani', 24)]\n"
          ]
        }
      ]
    },
    {
      "cell_type": "code",
      "source": [
        "# add key to dictionary\n",
        "a = {\"pritam\":28, \"mani\":32, \"shani\":24, \"fani\":30}\n",
        "a[\"soni\"] = 41\n",
        "print(a)"
      ],
      "metadata": {
        "colab": {
          "base_uri": "https://localhost:8080/"
        },
        "id": "BLt4uwu9lp4w",
        "outputId": "8225c79c-8c4e-4019-9fe9-c4c4832efca1"
      },
      "execution_count": null,
      "outputs": [
        {
          "output_type": "stream",
          "name": "stdout",
          "text": [
            "{'pritam': 28, 'mani': 32, 'shani': 24, 'fani': 30, 'soni': 41}\n"
          ]
        }
      ]
    },
    {
      "cell_type": "code",
      "source": [
        "# sorting of dictionary\n",
        "a = {'pritam': 28, 'mani': 32, 'shani': 24, 'fani': 30, 'soni': 41}\n",
        "b = sorted(a.items(), key=lambda x:x[1])\n",
        "print(b)"
      ],
      "metadata": {
        "colab": {
          "base_uri": "https://localhost:8080/"
        },
        "id": "m_u54O5Hl4vY",
        "outputId": "d743fa6b-832c-4d64-d06a-c1a623d55e30"
      },
      "execution_count": null,
      "outputs": [
        {
          "output_type": "stream",
          "name": "stdout",
          "text": [
            "[('shani', 24), ('pritam', 28), ('fani', 30), ('mani', 32), ('soni', 41)]\n"
          ]
        }
      ]
    },
    {
      "cell_type": "code",
      "source": [
        "# concatenate following dictionaries\n",
        "d1={\"Name\":\"Ram\" , \"Age\":23}\n",
        "d2={\"City\": \"Salem\", \"Gender\": \"Male\"}\n",
        "d3={\"Mark\":450}\n",
        "\n",
        "d = {}\n",
        "\n",
        "for i in d1,d2,d3:          # update method\n",
        "  d.update(i)\n",
        "print(d)\n",
        "\n",
        "# another option            # unpacking of elements\n",
        "e = {**d1,**d2,**d3}\n",
        "print(e)"
      ],
      "metadata": {
        "colab": {
          "base_uri": "https://localhost:8080/"
        },
        "id": "aPa9yH-DmThz",
        "outputId": "734769c3-22e1-4811-997a-132105ca61aa"
      },
      "execution_count": null,
      "outputs": [
        {
          "output_type": "stream",
          "name": "stdout",
          "text": [
            "{'Name': 'Ram', 'Age': 23, 'City': 'Salem', 'Gender': 'Male', 'Mark': 450}\n",
            "{'Name': 'Ram', 'Age': 23, 'City': 'Salem', 'Gender': 'Male', 'Mark': 450}\n"
          ]
        }
      ]
    },
    {
      "cell_type": "code",
      "source": [
        "# iterate dict with for loop\n",
        "a = {'Name': 'Ram', 'Age': 23, 'City': 'Salem', 'Gender': 'Male', 'Mark': 450}\n",
        "for i, j in a.items():\n",
        "  print(i,\":\", j)"
      ],
      "metadata": {
        "colab": {
          "base_uri": "https://localhost:8080/"
        },
        "id": "AoVc8scfnSlb",
        "outputId": "6a566b10-b35e-480b-f131-96cc72bedd10"
      },
      "execution_count": null,
      "outputs": [
        {
          "output_type": "stream",
          "name": "stdout",
          "text": [
            "Name : Ram\n",
            "Age : 23\n",
            "City : Salem\n",
            "Gender : Male\n",
            "Mark : 450\n"
          ]
        }
      ]
    },
    {
      "cell_type": "code",
      "source": [
        "# generate sq nums - {x:x**2}\n",
        "d = {}\n",
        "nums = 8\n",
        "for i in range(1, nums):\n",
        "  d[i] = i**2\n",
        "print(d)\n"
      ],
      "metadata": {
        "colab": {
          "base_uri": "https://localhost:8080/"
        },
        "id": "8IDxDOD9n0IP",
        "outputId": "58598ba4-fd29-4653-ea70-442ed668e6b9"
      },
      "execution_count": null,
      "outputs": [
        {
          "output_type": "stream",
          "name": "stdout",
          "text": [
            "{1: 1, 2: 4, 3: 9, 4: 16, 5: 25, 6: 36, 7: 49}\n"
          ]
        }
      ]
    },
    {
      "cell_type": "code",
      "source": [
        "# merge 2 dictionaries\n",
        "d1={\"Name\":\"Ram\" , \"Age\":23}\n",
        "d2={\"City\": \"Salem\", \"Gender\": \"Male\"}\n",
        "\n",
        "# by using update\n",
        "d = {}\n",
        "for i in d1,d2:\n",
        "  d.update(i)\n",
        "print(d)\n",
        "\n",
        "# by using unpacking\n",
        "e = {**d1,**d2}\n",
        "print(e)\n",
        "\n",
        "# by using copy() and update\n",
        "d12 = d1.copy()\n",
        "d12.update(d3)\n",
        "print(d12)"
      ],
      "metadata": {
        "colab": {
          "base_uri": "https://localhost:8080/"
        },
        "id": "KndJek83oTjx",
        "outputId": "fc402e31-70bf-4aca-c614-c812ee6df1a6"
      },
      "execution_count": null,
      "outputs": [
        {
          "output_type": "stream",
          "name": "stdout",
          "text": [
            "{'Name': 'Ram', 'Age': 23, 'City': 'Salem', 'Gender': 'Male'}\n",
            "{'Name': 'Ram', 'Age': 23, 'City': 'Salem', 'Gender': 'Male'}\n",
            "{'Name': 'Ram', 'Age': 23, 'City': 'Salem', 'Gender': 'Male'}\n"
          ]
        }
      ]
    },
    {
      "cell_type": "code",
      "source": [
        "# sum of all values in dict\n",
        "a = {1: 1, 2: 4, 3: 9, 4: 16, 5: 25, 6: 36, 7: 49}\n",
        "b = []\n",
        "for i in a.values():\n",
        "  b.append(i)\n",
        "print(b)\n",
        "\n",
        "sum = 0\n",
        "for i in b:\n",
        "  sum = sum + i\n",
        "print(sum)"
      ],
      "metadata": {
        "colab": {
          "base_uri": "https://localhost:8080/"
        },
        "id": "cZWmxu9NpTjy",
        "outputId": "4fb69d91-969e-4e81-ba6a-dd5e6cde74e0"
      },
      "execution_count": null,
      "outputs": [
        {
          "output_type": "stream",
          "name": "stdout",
          "text": [
            "[1, 4, 9, 16, 25, 36, 49]\n",
            "140\n"
          ]
        }
      ]
    },
    {
      "cell_type": "code",
      "source": [
        "# access elements by index\n",
        "a = {'Name': 'Ram', 'Age': 23, 'City': 'Salem', 'Gender': 'Male'}\n",
        "a = list(a)                    # indexing not possible in dictionary, background datastructure is hashtable\n",
        "for i in range(len(a)):\n",
        "  print(a[i])"
      ],
      "metadata": {
        "colab": {
          "base_uri": "https://localhost:8080/"
        },
        "id": "5Pp7gqpyrWYO",
        "outputId": "eaad4263-7ff8-433d-81e1-bf52462fc6cd"
      },
      "execution_count": null,
      "outputs": [
        {
          "output_type": "stream",
          "name": "stdout",
          "text": [
            "Name\n",
            "Age\n",
            "City\n",
            "Gender\n"
          ]
        }
      ]
    },
    {
      "cell_type": "code",
      "source": [
        "# remove empty values from dict\n",
        "a = {\"Name\": \"Pooja\", \"Age\":23, \"Gender\": None, \"Mark\":488, \"City\": None}\n",
        "b = {}\n",
        "for i,j in a.items():\n",
        "  if j != None:\n",
        "    b[i] = j\n",
        "\n",
        "print(b)"
      ],
      "metadata": {
        "colab": {
          "base_uri": "https://localhost:8080/"
        },
        "id": "K7gcVL9AsY8F",
        "outputId": "7dc9567e-6ad2-4a7a-bddb-457472ec8ee0"
      },
      "execution_count": null,
      "outputs": [
        {
          "output_type": "stream",
          "name": "stdout",
          "text": [
            "{'Name': 'Pooja', 'Age': 23, 'Mark': 488}\n"
          ]
        }
      ]
    },
    {
      "cell_type": "code",
      "source": [
        "# match same\n",
        "A = {'Tamil': 92, 'English': 56, 'Maths': 88, 'Sceince': 97, 'Social': 89}\n",
        "B= {'Tamil': 78, 'English': 68, 'Maths': 88, 'Sceince': 97, 'Social': 56}\n",
        "\n",
        "for i,j in A.items():\n",
        "  for x,y in B.items():\n",
        "    if j == y:\n",
        "      print(i,\":\",j)"
      ],
      "metadata": {
        "colab": {
          "base_uri": "https://localhost:8080/"
        },
        "id": "DQo0uTUctqQ7",
        "outputId": "78713fc6-872d-49aa-8e68-a0ec406fc8d9"
      },
      "execution_count": null,
      "outputs": [
        {
          "output_type": "stream",
          "name": "stdout",
          "text": [
            "English : 56\n",
            "Maths : 88\n",
            "Sceince : 97\n"
          ]
        }
      ]
    },
    {
      "cell_type": "code",
      "source": [
        "# count num of ele in dict values\n",
        "a = {'M1': [67,79,90,73,36], 'M2': [89,67,84], 'M3': [82,57]}\n",
        "b = []\n",
        "for i,j in a.items():\n",
        "  b.append(j)\n",
        "print(b)\n",
        "\n",
        "count = 0\n",
        "for i in b:\n",
        "  for j in i:\n",
        "    count = count + 1\n",
        "print(\"no of values:\",count)"
      ],
      "metadata": {
        "colab": {
          "base_uri": "https://localhost:8080/"
        },
        "id": "lfkwRB62vSKr",
        "outputId": "a6032bc3-9f1f-46d9-c3da-1fc331c834ec"
      },
      "execution_count": null,
      "outputs": [
        {
          "output_type": "stream",
          "name": "stdout",
          "text": [
            "[[67, 79, 90, 73, 36], [89, 67, 84], [82, 57]]\n",
            "no of values: 10\n"
          ]
        }
      ]
    },
    {
      "cell_type": "code",
      "source": [
        "# print dict line by line\n",
        "a = {\"Sam\":{\"M1\":89,\"M2\":56,\"M3\":89}, \"Suresh\":{\"M1\":49,\"M2\":96,\"M3\":89}}\n",
        "\n",
        "for i in a:\n",
        "  print(i)                      # i is key of main dict\n",
        "  # print(a[i])                         # whole nested dict \n",
        "  for j in a[i]:                 # j is key of nested dict\n",
        "    print(j)\n",
        "    print(a[i][j])               # a[i][j]   values of nested dict\n",
        "  "
      ],
      "metadata": {
        "colab": {
          "base_uri": "https://localhost:8080/"
        },
        "id": "XlPiPVC9wLME",
        "outputId": "fc55d47e-095b-414a-828f-cfae7411b7d5"
      },
      "execution_count": null,
      "outputs": [
        {
          "output_type": "stream",
          "name": "stdout",
          "text": [
            "Sam\n",
            "M1\n",
            "89\n",
            "M2\n",
            "56\n",
            "M3\n",
            "89\n",
            "Suresh\n",
            "M1\n",
            "49\n",
            "M2\n",
            "96\n",
            "M3\n",
            "89\n"
          ]
        }
      ]
    },
    {
      "cell_type": "code",
      "source": [
        "# convert two list into dict\n",
        "a = [\"a\",\"b\",\"c\"]\n",
        "b = [1,3,5]\n",
        "\n",
        "# zip method\n",
        "c = dict(zip(a,b))\n",
        "print(c)  "
      ],
      "metadata": {
        "colab": {
          "base_uri": "https://localhost:8080/"
        },
        "id": "E38qXGbSyOxb",
        "outputId": "c1e43999-7d16-4fd0-dea6-21f256666e41"
      },
      "execution_count": null,
      "outputs": [
        {
          "output_type": "stream",
          "name": "stdout",
          "text": [
            "{'a': 1, 'b': 3, 'c': 5}\n"
          ]
        }
      ]
    },
    {
      "cell_type": "code",
      "source": [
        "# merge two dict\n",
        "keys = [\"One\", \"Two\", \"Three\", \"Four\", \"Five\"]\n",
        "values = [1, 2, 3, 4, 5]\n",
        "\n",
        "items = dict(zip(keys,values))\n",
        "print(items)"
      ],
      "metadata": {
        "colab": {
          "base_uri": "https://localhost:8080/"
        },
        "id": "vokUjP0Dy__D",
        "outputId": "5f0486d4-e89e-4a3d-f027-74651f61fe1c"
      },
      "execution_count": null,
      "outputs": [
        {
          "output_type": "stream",
          "name": "stdout",
          "text": [
            "{'One': 1, 'Two': 2, 'Three': 3, 'Four': 4, 'Five': 5}\n"
          ]
        }
      ]
    },
    {
      "cell_type": "code",
      "source": [
        "# Initialize dictionary with default values -- Fromkeys\n",
        "stu = [\"Siva\", \"Sam\", \"Ram\", \"Pooja\"]\n",
        "defaults = {\"designation\": \"Student\", \"Department\": \"BCA\"}\n",
        "\n",
        "items = dict.fromkeys(stu,defaults)\n",
        "print(items)"
      ],
      "metadata": {
        "colab": {
          "base_uri": "https://localhost:8080/"
        },
        "id": "pGFB1b0hzSl7",
        "outputId": "2e259dfe-7662-4a9d-94b2-e0ffa1e8138c"
      },
      "execution_count": null,
      "outputs": [
        {
          "output_type": "stream",
          "name": "stdout",
          "text": [
            "{'Siva': {'designation': 'Student', 'Department': 'BCA'}, 'Sam': {'designation': 'Student', 'Department': 'BCA'}, 'Ram': {'designation': 'Student', 'Department': 'BCA'}, 'Pooja': {'designation': 'Student', 'Department': 'BCA'}}\n"
          ]
        }
      ]
    },
    {
      "cell_type": "code",
      "source": [
        "# swaap chars\n",
        "a = \"pritam\"\n",
        "b = a[1]+a[0]+a[3]+a[2]+a[5]+a[4]\n",
        "print(b)"
      ],
      "metadata": {
        "colab": {
          "base_uri": "https://localhost:8080/"
        },
        "id": "T9VUI46M5K4r",
        "outputId": "8f921342-eeca-4457-dd22-4f4df70fac2f"
      },
      "execution_count": null,
      "outputs": [
        {
          "output_type": "stream",
          "name": "stdout",
          "text": [
            "rptima\n"
          ]
        }
      ]
    },
    {
      "cell_type": "code",
      "source": [
        "# delete keys from dict\n",
        "a = {'One': 1, 'Two': 2, 'Three': 3, 'Four': 4, 'Five': 5}\n",
        "#for i in a.items():\n",
        "a.pop(\"Three\")\n",
        "print(a)\n",
        "\n",
        "del a[\"Four\"]\n",
        "print(a)\n",
        "\n",
        "a.popitem()                   # remove last elem\n",
        "print(a)"
      ],
      "metadata": {
        "colab": {
          "base_uri": "https://localhost:8080/"
        },
        "id": "NnOGV6o053-g",
        "outputId": "4f87271a-9dc3-44bb-eafe-bafd0daeecb9"
      },
      "execution_count": null,
      "outputs": [
        {
          "output_type": "stream",
          "name": "stdout",
          "text": [
            "{'One': 1, 'Two': 2, 'Four': 4, 'Five': 5}\n",
            "{'One': 1, 'Two': 2, 'Five': 5}\n",
            "{'One': 1, 'Two': 2}\n"
          ]
        }
      ]
    },
    {
      "cell_type": "code",
      "source": [
        "# extract keys \n",
        "a = { \"Name\": \"Tara\", \"RollNo\":130046, \"Mark\": 458, \"City\": \"Chennai\" }\n",
        "keys = [\"Name\",\"Mark\"]\n",
        "\n",
        "d = {k:a[k] for k in keys}\n",
        "print(d)"
      ],
      "metadata": {
        "colab": {
          "base_uri": "https://localhost:8080/"
        },
        "id": "JnZRjWNj6w00",
        "outputId": "56845fa3-97ec-4904-e1a3-e8afb48ddf85"
      },
      "execution_count": null,
      "outputs": [
        {
          "output_type": "stream",
          "name": "stdout",
          "text": [
            "{'Name': 'Tara', 'Mark': 458}\n"
          ]
        }
      ]
    },
    {
      "cell_type": "code",
      "source": [
        "# extract keys \n",
        "a = { \"Name\": \"Tara\", \"RollNo\":130046, \"Mark\": 458, \"City\": \"Chennai\" }\n",
        "keys = [\"Name\",\"Mark\"]\n",
        "\n",
        "for i in keys:\n",
        "  a.pop(i)\n",
        "print(a)"
      ],
      "metadata": {
        "colab": {
          "base_uri": "https://localhost:8080/"
        },
        "id": "DXfWV9kc7jl7",
        "outputId": "6e7f1f29-3082-4268-ebb6-8129cd1d8e2d"
      },
      "execution_count": null,
      "outputs": [
        {
          "output_type": "stream",
          "name": "stdout",
          "text": [
            "{'RollNo': 130046, 'City': 'Chennai'}\n"
          ]
        }
      ]
    },
    {
      "cell_type": "code",
      "source": [
        "# rename keys\n",
        "\n",
        "a = { \"Name\": \"Tara\", \"RollNo\":130046, \"Mark\": 458, \"City\": \"Chennai\" }\n",
        "a[\"ENG_Mark\"] = a.pop(\"Mark\")\n",
        "a[\"Reg_No\"] = a.pop(\"RollNo\")\n",
        "print(a)"
      ],
      "metadata": {
        "colab": {
          "base_uri": "https://localhost:8080/"
        },
        "id": "GFZ2fMWF9Ln6",
        "outputId": "5b5c926d-8b75-49c0-9662-1ed39b57e39b"
      },
      "execution_count": null,
      "outputs": [
        {
          "output_type": "stream",
          "name": "stdout",
          "text": [
            "{'Name': 'Tara', 'City': 'Chennai', 'ENG_Mark': 458, 'Reg_No': 130046}\n"
          ]
        }
      ]
    },
    {
      "cell_type": "code",
      "source": [
        "# sort dict by values .. descending\n",
        "a = {'One': 1, 'Two': 2, 'Four': 4, 'Five': 5}\n",
        "\n",
        "b = sorted(a.items(), key= lambda x:x[1], reverse=True)\n",
        "print(b)"
      ],
      "metadata": {
        "colab": {
          "base_uri": "https://localhost:8080/"
        },
        "id": "cPFRGRek9s2M",
        "outputId": "e3d0b16e-0685-4cbd-ec70-371072a070db"
      },
      "execution_count": null,
      "outputs": [
        {
          "output_type": "stream",
          "name": "stdout",
          "text": [
            "[('Five', 5), ('Four', 4), ('Two', 2), ('One', 1)]\n"
          ]
        }
      ]
    },
    {
      "cell_type": "code",
      "source": [
        "# max and min value from dict\n",
        "\n",
        "a = {'One': 1, 'Two': 2, 'Four': 4, 'Five': 5}\n",
        "print(max(a.items(), key=lambda x:x[1]))\n",
        "\n",
        "print(min(a.items(), key=lambda x:x[1]))\n"
      ],
      "metadata": {
        "colab": {
          "base_uri": "https://localhost:8080/"
        },
        "id": "jXO44Uua-eMa",
        "outputId": "6d5229e0-6221-4741-b697-fd807e0d6fa7"
      },
      "execution_count": null,
      "outputs": [
        {
          "output_type": "stream",
          "name": "stdout",
          "text": [
            "('Five', 5)\n",
            "('One', 1)\n"
          ]
        }
      ]
    },
    {
      "cell_type": "code",
      "source": [
        "# count word frequency\n",
        "a = [\"the\", \"name\",\"of\", \"the\", \"rose\", \"the\",\"english\", \"patient\", \"the\",\"greatest\", \"showman\", \"in\", \"the\", \"name\", \"of\", \"the\", \"father\"]\n",
        "d = {}\n",
        "for i in a:\n",
        "  count = a.count(i)\n",
        "  d[i] = count\n",
        "\n",
        "print(d)"
      ],
      "metadata": {
        "colab": {
          "base_uri": "https://localhost:8080/"
        },
        "id": "SS_LVfEN-2uB",
        "outputId": "9183e753-66be-4b36-8e59-8ea7271567fb"
      },
      "execution_count": null,
      "outputs": [
        {
          "output_type": "stream",
          "name": "stdout",
          "text": [
            "{'the': 6, 'name': 2, 'of': 2, 'rose': 1, 'english': 1, 'patient': 1, 'greatest': 1, 'showman': 1, 'in': 1, 'father': 1}\n"
          ]
        }
      ]
    },
    {
      "cell_type": "code",
      "source": [
        "# dict concatinate\n",
        "d1 = {\"HP\": 11, \"Acer\": 7, \"Lenovo\": 17, \"Del\": 23}\n",
        "d2 = {\"Sumsung\": 22, \"Iphone\": 9, \"Other\": 13}\n",
        "d3 = {\"Sumsung\": 15, \"Other\": 13}\n",
        "\n",
        "d = {}\n",
        "for i in d1,d2,d3:\n",
        "  d.update(i)\n",
        "print(d)\n",
        "\n",
        "# another method\n",
        "e = {**d1,**d2,**d3}\n",
        "print(e)"
      ],
      "metadata": {
        "colab": {
          "base_uri": "https://localhost:8080/"
        },
        "id": "CDRPqxqFAIYm",
        "outputId": "2d388230-ec80-497f-85f2-ba59fb24bba4"
      },
      "execution_count": null,
      "outputs": [
        {
          "output_type": "stream",
          "name": "stdout",
          "text": [
            "{'HP': 11, 'Acer': 7, 'Lenovo': 17, 'Del': 23, 'Sumsung': 15, 'Iphone': 9, 'Other': 13}\n",
            "{'HP': 11, 'Acer': 7, 'Lenovo': 17, 'Del': 23, 'Sumsung': 15, 'Iphone': 9, 'Other': 13}\n"
          ]
        }
      ]
    },
    {
      "cell_type": "code",
      "source": [
        "# admitted sudents avg>=10\n",
        "students = {\"student_1\" : 13 , \"student_2\" : 17 , \"student_3\" : 9 , \"student_4\" : 15 , \n",
        "\t\t\t \"student_5\" : 8 , \"student_6\" : 14 , \"student_7\" : 16 , \"student_8\" : 12 , \n",
        "\t\t\t \"student_9\" : 13 , \"student_10\" : 15 , \"student_11\" : 14 , \"student_112\" : 9 , \n",
        "\t\t\t \"student_13\" : 10 , \"student_14\" : 12 , \"student_15\" : 13 , \"student_16\" : 7 ,\n",
        "\t\t\t \"student_17\" : 12 , \"student_18\" : 15 , \"student_19\" : 9 , \"student_20\" : 17 ,}\n",
        "adm_st = {}\n",
        "non_ad_st = {}\n",
        "\n",
        "for i,j in students.items():\n",
        "  if j >= 10:\n",
        "    adm_st[i] = j\n",
        "  else:\n",
        "    non_ad_st[i] = j\n",
        "\n",
        "print(\"admitted sudents:\",adm_st)\n",
        "print(\"non-admitted sudents:\",non_ad_st)\n"
      ],
      "metadata": {
        "colab": {
          "base_uri": "https://localhost:8080/"
        },
        "id": "CE-WzCLTBOSe",
        "outputId": "fdbfa6bc-da20-4ed6-cd98-b79ef775f866"
      },
      "execution_count": null,
      "outputs": [
        {
          "output_type": "stream",
          "name": "stdout",
          "text": [
            "admitted sudents: {'student_1': 13, 'student_2': 17, 'student_4': 15, 'student_6': 14, 'student_7': 16, 'student_8': 12, 'student_9': 13, 'student_10': 15, 'student_11': 14, 'student_13': 10, 'student_14': 12, 'student_15': 13, 'student_17': 12, 'student_18': 15, 'student_20': 17}\n",
            "non-admitted sudents: {'student_3': 9, 'student_5': 8, 'student_112': 9, 'student_16': 7, 'student_19': 9}\n"
          ]
        }
      ]
    },
    {
      "cell_type": "code",
      "source": [
        "# keyboard type integer and shows sq of num in range\n",
        "num = 10\n",
        "d = {}\n",
        "for i in range(1,num+1):\n",
        "  d[i] = i**2\n",
        "print(d)"
      ],
      "metadata": {
        "colab": {
          "base_uri": "https://localhost:8080/"
        },
        "id": "qVliToa2C38C",
        "outputId": "569cdea6-248f-4636-8516-78145b93d598"
      },
      "execution_count": null,
      "outputs": [
        {
          "output_type": "stream",
          "name": "stdout",
          "text": [
            "{1: 1, 2: 4, 3: 9, 4: 16, 5: 25, 6: 36, 7: 49, 8: 64, 9: 81, 10: 100}\n"
          ]
        }
      ]
    },
    {
      "cell_type": "code",
      "source": [
        "# count the occurance of each char\n",
        "a = \"turbodrive\"\n",
        "d = {}\n",
        "for i in a:\n",
        "  count = a.count(i)\n",
        "  d[i] = count\n",
        "print(d)"
      ],
      "metadata": {
        "colab": {
          "base_uri": "https://localhost:8080/"
        },
        "id": "yielQMyCC6M3",
        "outputId": "86ba3261-1c76-49fc-9b3b-a1ed2d393647"
      },
      "execution_count": null,
      "outputs": [
        {
          "output_type": "stream",
          "name": "stdout",
          "text": [
            "{'t': 1, 'u': 1, 'r': 2, 'b': 1, 'o': 1, 'd': 1, 'i': 1, 'v': 1, 'e': 1}\n"
          ]
        }
      ]
    },
    {
      "cell_type": "code",
      "source": [
        "# Write a function in Python that takes a list of integers as a parameter and returns a dictionary whose keys are the list integers and \n",
        "#whose values are \"even\" or \"odd\" depending on the number parity.\n",
        "\n",
        "list = []\n",
        "num = int(input(\"please enter num of entries:\"))\n",
        "for i in range(num):\n",
        "  list.append(int(input(\"value is:\")))\n",
        "print(list)\n",
        "\n",
        "d = {}\n",
        "for i in list:\n",
        "  if i%2 == 0:\n",
        "    d[i] = \"even\"\n",
        "  else:\n",
        "    d[i] = \"odd\"\n",
        "\n",
        "print(d)"
      ],
      "metadata": {
        "colab": {
          "base_uri": "https://localhost:8080/"
        },
        "id": "baIBhardDeHU",
        "outputId": "6b51fa2f-20d4-4839-cede-9bb567779d2c"
      },
      "execution_count": null,
      "outputs": [
        {
          "output_type": "stream",
          "name": "stdout",
          "text": [
            "please enter num of entries:4\n",
            "value is:1\n",
            "value is:3\n",
            "value is:4\n",
            "value is:5\n",
            "[1, 3, 4, 5]\n",
            "{1: 'odd', 3: 'odd', 4: 'even', 5: 'odd'}\n"
          ]
        }
      ]
    },
    {
      "cell_type": "code",
      "source": [
        "# ask user to enter list of integers and return the dict with int and \"prime num or not\"\n",
        "\"\"\"\n",
        "\n",
        "num = int(input(\"pls enter num  of entries:\"))\n",
        "list = []\n",
        "for i in range(num):\n",
        "  list.append(int(input(\"pls enter num:\")))\n",
        "\n",
        "print(list)\n",
        "\"\"\"\n",
        "list = [15,7,8,9,5,6,11]\n",
        "d = {}\n",
        "count = 0\n",
        "for i in list:\n",
        "  for j in range(1, i+1):\n",
        "    if i%j == 0:\n",
        "      count = count + 1\n",
        "\n",
        "  if count == 2:\n",
        "    d[i] = \"prime\"\n",
        "  else:\n",
        "    d[i] = \"not prime\"\n",
        "print(d)"
      ],
      "metadata": {
        "colab": {
          "base_uri": "https://localhost:8080/"
        },
        "id": "0K2NmkAoEbOf",
        "outputId": "108be1df-53e5-4dc2-d1cc-b5defb75fac8"
      },
      "execution_count": null,
      "outputs": [
        {
          "output_type": "stream",
          "name": "stdout",
          "text": [
            "{15: 'not prime', 7: 'not prime', 8: 'not prime', 9: 'not prime', 5: 'not prime', 6: 'not prime', 11: 'not prime'}\n"
          ]
        }
      ]
    },
    {
      "cell_type": "code",
      "source": [
        "\n",
        "# divisor\n",
        "def div(n):\n",
        "  b = []\n",
        "  for i in range(1, n+1):\n",
        "    if n%i == 0:\n",
        "      b.append(i)\n",
        "  return b\n",
        "\n",
        "d = {}\n",
        "\n",
        "for i in range(1,11):          # for taking 10 entries from user\n",
        "  n = int(input(\"pls enter num:\"))\n",
        "  d[n] = div(n)\n",
        "\n",
        "print(d)\n",
        "\n",
        "      "
      ],
      "metadata": {
        "colab": {
          "base_uri": "https://localhost:8080/"
        },
        "id": "V-mNfyKrHAfS",
        "outputId": "46eafbd4-e33b-4d1f-fc8a-27d03978b193"
      },
      "execution_count": null,
      "outputs": [
        {
          "output_type": "stream",
          "name": "stdout",
          "text": [
            "pls enter num:13\n",
            "pls enter num:14\n",
            "pls enter num:15\n",
            "pls enter num:3\n",
            "pls enter num:1\n",
            "pls enter num:4\n",
            "pls enter num:8\n",
            "pls enter num:9\n",
            "pls enter num:7\n",
            "pls enter num:6\n",
            "{13: [1, 13], 14: [1, 2, 7, 14], 15: [1, 3, 5, 15], 3: [1, 3], 1: [1], 4: [1, 2, 4], 8: [1, 2, 4, 8], 9: [1, 3, 9], 7: [1, 7], 6: [1, 2, 3, 6]}\n"
          ]
        }
      ]
    },
    {
      "cell_type": "code",
      "source": [
        "# return len and name\n",
        "a = \"Python is a programming language\"\n",
        "d = {}\n",
        "for i in a.split():\n",
        "  d[i] = len(i)\n",
        "print(d)"
      ],
      "metadata": {
        "colab": {
          "base_uri": "https://localhost:8080/"
        },
        "id": "eB07Gga7TfCx",
        "outputId": "193a2cc2-6149-4df6-8029-20c29ef9c9cc"
      },
      "execution_count": null,
      "outputs": [
        {
          "output_type": "stream",
          "name": "stdout",
          "text": [
            "{'Python': 6, 'is': 2, 'a': 1, 'programming': 11, 'language': 8}\n"
          ]
        }
      ]
    },
    {
      "cell_type": "code",
      "source": [
        "# take a input from user and return factorial\n",
        "\n",
        "# for factorial\n",
        "def fact(n):\n",
        "  if n == 1:\n",
        "    return 1\n",
        "  else:\n",
        "    return n*(fact(n-1))\n",
        "fact(n)\n",
        "\n",
        "# for taking input\n",
        "d = {}\n",
        "for i in range(1,5):\n",
        "  n = int(input(\"pls enter num:\"))\n",
        "\n",
        "  d[n] = fact(n)\n",
        "print(d)"
      ],
      "metadata": {
        "colab": {
          "base_uri": "https://localhost:8080/"
        },
        "id": "mc5Jlpm0U3jj",
        "outputId": "38673f55-ba93-493d-ff2d-e381bf201730"
      },
      "execution_count": null,
      "outputs": [
        {
          "output_type": "stream",
          "name": "stdout",
          "text": [
            "pls enter num:3\n",
            "pls enter num:4\n",
            "pls enter num:5\n",
            "pls enter num:6\n",
            "{3: 6, 4: 24, 5: 120, 6: 720}\n"
          ]
        }
      ]
    },
    {
      "cell_type": "code",
      "source": [
        "# prime or not\n",
        "\n",
        "# funtion for prime num\n",
        "def prime(n):\n",
        "  count = 0\n",
        "  for i in range(1,n+1):\n",
        "    if n%i == 0:\n",
        "      count = count + 1\n",
        "  if count == 2:\n",
        "    return \"prime number\"\n",
        "  else:\n",
        "    return \"not prime\"\n",
        "\n",
        "\n",
        "# taking input from user\n",
        "d = {}\n",
        "for i in range(1,6):\n",
        "  n = int(input(\"pls enter num:\"))\n",
        "  d[n] = prime(n)                              # funtion prime(n)\n",
        "print(d)"
      ],
      "metadata": {
        "colab": {
          "base_uri": "https://localhost:8080/"
        },
        "id": "oZq-_lzTWCSE",
        "outputId": "f9af4316-091e-424e-8de7-2db94fb7b756"
      },
      "execution_count": null,
      "outputs": [
        {
          "output_type": "stream",
          "name": "stdout",
          "text": [
            "pls enter num:11\n",
            "pls enter num:15\n",
            "pls enter num:3\n",
            "pls enter num:4\n",
            "pls enter num:7\n",
            "{11: 'prime number', 15: 'not prime', 3: 'prime number', 4: 'not prime', 7: 'prime number'}\n"
          ]
        }
      ]
    },
    {
      "cell_type": "code",
      "source": [
        "# divisor return list of divisor\n",
        "# function for divisor\n",
        "def div(n):\n",
        "  b = []\n",
        "  for i in range(1,n+1):\n",
        "    if n%i == 0:\n",
        "      b.append(i)\n",
        "  return b\n",
        "\n",
        "# for taking input from user\n",
        "d = {}\n",
        "for i in range(1,6):\n",
        "  n = int(input(\"pls enter num:\"))\n",
        "  d[n] = div(n)                     # function div(n)\n",
        "\n",
        "print(d)\n"
      ],
      "metadata": {
        "colab": {
          "base_uri": "https://localhost:8080/"
        },
        "id": "LTuryAnxXmS1",
        "outputId": "f6a93613-fb33-4549-d5b7-3b6ef25bbe57"
      },
      "execution_count": null,
      "outputs": [
        {
          "output_type": "stream",
          "name": "stdout",
          "text": [
            "pls enter num:11\n",
            "pls enter num:6\n",
            "pls enter num:8\n",
            "pls enter num:9\n",
            "pls enter num:42\n",
            "{11: [1, 11], 6: [1, 2, 3, 6], 8: [1, 2, 4, 8], 9: [1, 3, 9], 42: [1, 2, 3, 6, 7, 14, 21, 42]}\n"
          ]
        }
      ]
    },
    {
      "cell_type": "code",
      "source": [
        "# sum\n",
        "\n",
        "def sum(n):\n",
        "  s = 0\n",
        "  for i in range(1, n+1):\n",
        "    s = s + i\n",
        "  return s\n",
        "\n",
        "# for taking input from user\n",
        "n = int(input(\"pls enter number:\"))\n",
        "d = {}\n",
        "for i in range(1,n+1):\n",
        "  d[i] = sum(i)\n",
        "print(d)"
      ],
      "metadata": {
        "colab": {
          "base_uri": "https://localhost:8080/"
        },
        "id": "BpMg2tgaYmED",
        "outputId": "c9ae1c13-9403-4f59-e88a-dbc9a007fc5a"
      },
      "execution_count": null,
      "outputs": [
        {
          "output_type": "stream",
          "name": "stdout",
          "text": [
            "pls enter number:10\n",
            "{1: 1, 2: 3, 3: 6, 4: 10, 5: 15, 6: 21, 7: 28, 8: 36, 9: 45, 10: 55}\n"
          ]
        }
      ]
    },
    {
      "cell_type": "code",
      "source": [
        "# Write a Python program that asks the user to enter a text and return him a dictionary whose keys are the words of the text entered and the values are the reverse of the words that make up the text. \n",
        "a = \"Python is easy\"\n",
        "d = {}\n",
        "for i in a.split():\n",
        "  d[i] = \"\".join(reversed(i))\n",
        "print(d)"
      ],
      "metadata": {
        "colab": {
          "base_uri": "https://localhost:8080/"
        },
        "id": "0EDX1nu6ZsTo",
        "outputId": "ef2743fc-051a-43f5-b977-6c16651a3acc"
      },
      "execution_count": null,
      "outputs": [
        {
          "output_type": "stream",
          "name": "stdout",
          "text": [
            "{'Python': 'nohtyP', 'is': 'si', 'easy': 'ysae'}\n"
          ]
        }
      ]
    },
    {
      "cell_type": "code",
      "source": [
        "# sort dict by values\n",
        "a = {'a1': [21, 17, 22, 3], 'a2': [11, 15, 8, 13], 'a3': [7, 13, 2, 11], 'a4': [22,14,7,9]}\n",
        "\n",
        "d = {}\n",
        "for i,j in a.items():\n",
        "  d[i] = sorted(j)\n",
        "print(d)"
      ],
      "metadata": {
        "colab": {
          "base_uri": "https://localhost:8080/"
        },
        "id": "lukJOVaBaI9z",
        "outputId": "f0e852fc-1f5a-4bde-9ca5-129f38817a62"
      },
      "execution_count": null,
      "outputs": [
        {
          "output_type": "stream",
          "name": "stdout",
          "text": [
            "{'a1': [3, 17, 21, 22], 'a2': [8, 11, 13, 15], 'a3': [2, 7, 11, 13], 'a4': [7, 9, 14, 22]}\n"
          ]
        }
      ]
    },
    {
      "cell_type": "code",
      "source": [
        "# merge two dicts\n",
        "keys = ['Name', 'Email', 'Phone']\n",
        "values = ['Albert', 'albert@gmail.com', 2225668877]\n",
        "\n",
        "c = dict(zip(keys, values))\n",
        "print(c)"
      ],
      "metadata": {
        "colab": {
          "base_uri": "https://localhost:8080/"
        },
        "id": "Etiut0ZDbbMC",
        "outputId": "e78f602e-e0b7-436e-da21-3277e8096773"
      },
      "execution_count": null,
      "outputs": [
        {
          "output_type": "stream",
          "name": "stdout",
          "text": [
            "{'Name': 'Albert', 'Email': 'albert@gmail.com', 'Phone': 2225668877}\n"
          ]
        }
      ]
    },
    {
      "cell_type": "code",
      "source": [
        "# update dict by adding avg score\n",
        "scores = {'score1' : 16, 'score2' : 14, 'score3' : 17}\n",
        "a = []\n",
        "for j in scores.values():\n",
        "  a.append(j)\n",
        "print(a)\n",
        "sum = 0\n",
        "for i in a:\n",
        "  sum = sum + i\n",
        "print(sum)\n",
        "\n",
        "avg = sum/len(a)\n",
        "print(round(avg, 2))            # to round off 2 decimal\n",
        "\n",
        "scores[\"average\"] = avg\n",
        "\n",
        "print(scores)"
      ],
      "metadata": {
        "colab": {
          "base_uri": "https://localhost:8080/"
        },
        "id": "MvGX2Kyqbj7Y",
        "outputId": "ae22a848-772e-47be-9da1-fb9595b96ef2"
      },
      "execution_count": null,
      "outputs": [
        {
          "output_type": "stream",
          "name": "stdout",
          "text": [
            "[16, 14, 17]\n",
            "47\n",
            "15.67\n",
            "{'score1': 16, 'score2': 14, 'score3': 17, 'average': 15.666666666666666}\n"
          ]
        }
      ]
    },
    {
      "cell_type": "code",
      "source": [
        "# convert list of values to avg ans- d = {'student1': 16.0, 'students2': 14.666666666666666, 'student3': 15.0}\n",
        "d = {'student1': [14, 16, 18], 'students2': [12, 15, 17], 'student3': [16, 16, 13]}\n",
        "a = []\n",
        "for i,j in d.items():\n",
        "  a.append(j)\n",
        "print(a)\n",
        "\n",
        "rec = lambda x: sum(map(rec, x))\n",
        "print(rec(a))\n",
        "\n",
        "c = {}\n",
        "\n",
        "#print(a)\n",
        "c[i] = a\n",
        "print(c)"
      ],
      "metadata": {
        "colab": {
          "base_uri": "https://localhost:8080/",
          "height": 373
        },
        "id": "AMgm2IFJc7ve",
        "outputId": "4158bb4e-499c-49d8-d8a4-86af51b2ffd1"
      },
      "execution_count": null,
      "outputs": [
        {
          "output_type": "stream",
          "name": "stdout",
          "text": [
            "[[14, 16, 18], [12, 15, 17], [16, 16, 13]]\n"
          ]
        },
        {
          "output_type": "error",
          "ename": "TypeError",
          "evalue": "ignored",
          "traceback": [
            "\u001b[0;31m---------------------------------------------------------------------------\u001b[0m",
            "\u001b[0;31mTypeError\u001b[0m                                 Traceback (most recent call last)",
            "\u001b[0;32m<ipython-input-191-db0fff737eac>\u001b[0m in \u001b[0;36m<module>\u001b[0;34m\u001b[0m\n\u001b[1;32m      7\u001b[0m \u001b[0;34m\u001b[0m\u001b[0m\n\u001b[1;32m      8\u001b[0m \u001b[0mrec\u001b[0m \u001b[0;34m=\u001b[0m \u001b[0;32mlambda\u001b[0m \u001b[0mx\u001b[0m\u001b[0;34m:\u001b[0m \u001b[0msum\u001b[0m\u001b[0;34m(\u001b[0m\u001b[0mmap\u001b[0m\u001b[0;34m(\u001b[0m\u001b[0mrec\u001b[0m\u001b[0;34m,\u001b[0m \u001b[0mx\u001b[0m\u001b[0;34m)\u001b[0m\u001b[0;34m)\u001b[0m\u001b[0;34m\u001b[0m\u001b[0;34m\u001b[0m\u001b[0m\n\u001b[0;32m----> 9\u001b[0;31m \u001b[0mprint\u001b[0m\u001b[0;34m(\u001b[0m\u001b[0mrec\u001b[0m\u001b[0;34m(\u001b[0m\u001b[0ma\u001b[0m\u001b[0;34m)\u001b[0m\u001b[0;34m)\u001b[0m\u001b[0;34m\u001b[0m\u001b[0;34m\u001b[0m\u001b[0m\n\u001b[0m\u001b[1;32m     10\u001b[0m \u001b[0;34m\u001b[0m\u001b[0m\n\u001b[1;32m     11\u001b[0m \u001b[0mc\u001b[0m \u001b[0;34m=\u001b[0m \u001b[0;34m{\u001b[0m\u001b[0;34m}\u001b[0m\u001b[0;34m\u001b[0m\u001b[0;34m\u001b[0m\u001b[0m\n",
            "\u001b[0;32m<ipython-input-191-db0fff737eac>\u001b[0m in \u001b[0;36m<lambda>\u001b[0;34m(x)\u001b[0m\n\u001b[1;32m      6\u001b[0m \u001b[0mprint\u001b[0m\u001b[0;34m(\u001b[0m\u001b[0ma\u001b[0m\u001b[0;34m)\u001b[0m\u001b[0;34m\u001b[0m\u001b[0;34m\u001b[0m\u001b[0m\n\u001b[1;32m      7\u001b[0m \u001b[0;34m\u001b[0m\u001b[0m\n\u001b[0;32m----> 8\u001b[0;31m \u001b[0mrec\u001b[0m \u001b[0;34m=\u001b[0m \u001b[0;32mlambda\u001b[0m \u001b[0mx\u001b[0m\u001b[0;34m:\u001b[0m \u001b[0msum\u001b[0m\u001b[0;34m(\u001b[0m\u001b[0mmap\u001b[0m\u001b[0;34m(\u001b[0m\u001b[0mrec\u001b[0m\u001b[0;34m,\u001b[0m \u001b[0mx\u001b[0m\u001b[0;34m)\u001b[0m\u001b[0;34m)\u001b[0m\u001b[0;34m\u001b[0m\u001b[0;34m\u001b[0m\u001b[0m\n\u001b[0m\u001b[1;32m      9\u001b[0m \u001b[0mprint\u001b[0m\u001b[0;34m(\u001b[0m\u001b[0mrec\u001b[0m\u001b[0;34m(\u001b[0m\u001b[0ma\u001b[0m\u001b[0;34m)\u001b[0m\u001b[0;34m)\u001b[0m\u001b[0;34m\u001b[0m\u001b[0;34m\u001b[0m\u001b[0m\n\u001b[1;32m     10\u001b[0m \u001b[0;34m\u001b[0m\u001b[0m\n",
            "\u001b[0;31mTypeError\u001b[0m: 'int' object is not callable"
          ]
        }
      ]
    },
    {
      "cell_type": "code",
      "source": [
        "# sum of integer num\n",
        "Number = 4156\n",
        "Sum = 0\n",
        "while(Number > 0):\n",
        "    Reminder = Number % 10\n",
        "    Sum = Sum + Reminder\n",
        "    Number = Number //10\n",
        "\n",
        "print(\"Sum of the digits of Given Number = %d\" %Sum)\n"
      ],
      "metadata": {
        "colab": {
          "base_uri": "https://localhost:8080/"
        },
        "id": "9FvhqDz4f4zf",
        "outputId": "406743e6-22d2-4c9b-c29b-4a4578f34ba0"
      },
      "execution_count": null,
      "outputs": [
        {
          "output_type": "stream",
          "name": "stdout",
          "text": [
            "Sum of the digits of Given Number = 16\n"
          ]
        }
      ]
    },
    {
      "cell_type": "code",
      "source": [
        "# find LCM and GCD\n",
        "a = 18\n",
        "b = 12\n",
        "c = a*b\n",
        "for i in range(1,c+1):\n",
        "  if i%a==0 and i%b==0:\n",
        "    LCM = i\n",
        "    break\n",
        "print(\"LCM of given number is:\", LCM)\n",
        "\n",
        "# HCF by using formula\n",
        "#gcd = "
      ],
      "metadata": {
        "colab": {
          "base_uri": "https://localhost:8080/"
        },
        "id": "Vlp_4aIYSH2N",
        "outputId": "38f4df9b-fa8d-4dcf-e4e3-6434254b8fd8"
      },
      "execution_count": null,
      "outputs": [
        {
          "output_type": "stream",
          "name": "stdout",
          "text": [
            "LCM of given number is: 36\n"
          ]
        }
      ]
    },
    {
      "cell_type": "code",
      "source": [
        "# find gcd \n",
        "a = 18\n",
        "b = 12\n",
        "\n",
        "min = 12\n",
        "\n",
        "for i in range(1,min+1):\n",
        "  if a%i == 0 and b%i == 0:\n",
        "    HCF = i\n",
        "print(\"hcf is:\", HCF)"
      ],
      "metadata": {
        "colab": {
          "base_uri": "https://localhost:8080/"
        },
        "id": "VACmpagUTDhi",
        "outputId": "a4f0d917-81bc-432e-e2df-8d58f648926b"
      },
      "execution_count": null,
      "outputs": [
        {
          "output_type": "stream",
          "name": "stdout",
          "text": [
            "hcf is: 6\n"
          ]
        }
      ]
    },
    {
      "cell_type": "code",
      "source": [
        "# gcd by using recursion\n",
        "a = 18\n",
        "b = 12\n",
        "\n",
        "def gcd(a,b):\n",
        "  if a == 0:\n",
        "    return b\n",
        "  return gcd((b%a),a)\n",
        "\n",
        "print(gcd(a,b))\n",
        "\n",
        "lcm = (a*b)/gcd(a,b)\n",
        "print(lcm)"
      ],
      "metadata": {
        "colab": {
          "base_uri": "https://localhost:8080/"
        },
        "id": "7otEq0UnTYs9",
        "outputId": "9f886855-4bee-4b5b-86b4-ab6eadd912f8"
      },
      "execution_count": null,
      "outputs": [
        {
          "output_type": "stream",
          "name": "stdout",
          "text": [
            "6\n",
            "36.0\n"
          ]
        }
      ]
    },
    {
      "cell_type": "code",
      "source": [
        "# prime or not\n",
        "\n",
        "def prime(n):\n",
        "  count = 0\n",
        "  for i in range(1,n+1):\n",
        "    if n%i == 0:\n",
        "      count = count + 1\n",
        "  \n",
        "  if count == 2:\n",
        "    return \"PRime number\"\n",
        "  else:\n",
        "    return \"not prime number\"\n",
        "\n",
        "d = {}\n",
        "for i in range(1,10):\n",
        "  n = int(input(\"pls enter number:\"))\n",
        "  d[n] = prime(n)\n",
        "print(d)"
      ],
      "metadata": {
        "colab": {
          "base_uri": "https://localhost:8080/"
        },
        "id": "IPiof3cNYHz_",
        "outputId": "c349d49d-f723-4e97-a2b0-20c15dbdea4a"
      },
      "execution_count": null,
      "outputs": [
        {
          "output_type": "stream",
          "name": "stdout",
          "text": [
            "pls enter number:11\n",
            "pls enter number:3\n",
            "pls enter number:4\n",
            "pls enter number:5\n",
            "pls enter number:6\n",
            "pls enter number:7\n",
            "pls enter number:8\n",
            "pls enter number:9\n",
            "pls enter number:13\n",
            "{11: 'PRime number', 3: 'PRime number', 4: 'not prime number', 5: 'PRime number', 6: 'not prime number', 7: 'PRime number', 8: 'not prime number', 9: 'not prime number', 13: 'PRime number'}\n"
          ]
        }
      ]
    },
    {
      "cell_type": "code",
      "source": [
        "# print all prime nums upto 100\n",
        "\n",
        "d = {}\n",
        "n = 100\n",
        "for i in range(1,n+1):\n",
        "  c = 0\n",
        "  for j in range(1,i+1):\n",
        "    if i%j==0:\n",
        "      c = c +  1\n",
        "\n",
        "  if c == 2:\n",
        "    d[i] = \"Prime\"\n",
        "  else:\n",
        "    d[i] = \"not prime\"    \n",
        "\n",
        "print(d)    "
      ],
      "metadata": {
        "colab": {
          "base_uri": "https://localhost:8080/"
        },
        "id": "v1G4dRCGZobh",
        "outputId": "b6a51a23-f2e0-4aff-f711-8f56cf49b5bb"
      },
      "execution_count": null,
      "outputs": [
        {
          "output_type": "stream",
          "name": "stdout",
          "text": [
            "{1: 'not prime', 2: 'Prime', 3: 'Prime', 4: 'not prime', 5: 'Prime', 6: 'not prime', 7: 'Prime', 8: 'not prime', 9: 'not prime', 10: 'not prime', 11: 'Prime', 12: 'not prime', 13: 'Prime', 14: 'not prime', 15: 'not prime', 16: 'not prime', 17: 'Prime', 18: 'not prime', 19: 'Prime', 20: 'not prime', 21: 'not prime', 22: 'not prime', 23: 'Prime', 24: 'not prime', 25: 'not prime', 26: 'not prime', 27: 'not prime', 28: 'not prime', 29: 'Prime', 30: 'not prime', 31: 'Prime', 32: 'not prime', 33: 'not prime', 34: 'not prime', 35: 'not prime', 36: 'not prime', 37: 'Prime', 38: 'not prime', 39: 'not prime', 40: 'not prime', 41: 'Prime', 42: 'not prime', 43: 'Prime', 44: 'not prime', 45: 'not prime', 46: 'not prime', 47: 'Prime', 48: 'not prime', 49: 'not prime', 50: 'not prime', 51: 'not prime', 52: 'not prime', 53: 'Prime', 54: 'not prime', 55: 'not prime', 56: 'not prime', 57: 'not prime', 58: 'not prime', 59: 'Prime', 60: 'not prime', 61: 'Prime', 62: 'not prime', 63: 'not prime', 64: 'not prime', 65: 'not prime', 66: 'not prime', 67: 'Prime', 68: 'not prime', 69: 'not prime', 70: 'not prime', 71: 'Prime', 72: 'not prime', 73: 'Prime', 74: 'not prime', 75: 'not prime', 76: 'not prime', 77: 'not prime', 78: 'not prime', 79: 'Prime', 80: 'not prime', 81: 'not prime', 82: 'not prime', 83: 'Prime', 84: 'not prime', 85: 'not prime', 86: 'not prime', 87: 'not prime', 88: 'not prime', 89: 'Prime', 90: 'not prime', 91: 'not prime', 92: 'not prime', 93: 'not prime', 94: 'not prime', 95: 'not prime', 96: 'not prime', 97: 'Prime', 98: 'not prime', 99: 'not prime', 100: 'not prime'}\n"
          ]
        }
      ]
    },
    {
      "cell_type": "code",
      "source": [
        "# convert two list into dict\n",
        "a = [\"a\",\"b\",\"c\",\"d\"]\n",
        "b = [1,3,5,7]\n",
        "\n",
        "c = dict(zip(a,b))\n",
        "print(c)\n",
        "\n",
        "c = {}\n",
        "for i in range(len(a)):\n",
        "  c.update({a[i]:b[i]})\n",
        "print(c)"
      ],
      "metadata": {
        "colab": {
          "base_uri": "https://localhost:8080/"
        },
        "id": "jXW5hSVRCeY-",
        "outputId": "c558308c-afc9-48af-b2c3-3a783e980596"
      },
      "execution_count": null,
      "outputs": [
        {
          "output_type": "stream",
          "name": "stdout",
          "text": [
            "{'a': 1, 'b': 3, 'c': 5, 'd': 7}\n",
            "{'a': 1, 'b': 3, 'c': 5, 'd': 7}\n"
          ]
        }
      ]
    },
    {
      "cell_type": "code",
      "source": [
        "# merge two dict in one\n",
        "a = {'a': 1, 'b': 3, 'c': 5, 'd': 7}\n",
        "b = {\"e\": 8, \"f\": 9, \"g\": 10}\n",
        "\n",
        "c = {**a,**b}\n",
        "print(c)\n",
        "\n",
        "# upate and copy\n",
        "c = {}\n",
        "c = a.copy()\n",
        "c.update(b)\n",
        "print(c)\n"
      ],
      "metadata": {
        "colab": {
          "base_uri": "https://localhost:8080/"
        },
        "id": "59OhbkUUElac",
        "outputId": "34f7157d-695c-4712-d70a-19721f214aa3"
      },
      "execution_count": null,
      "outputs": [
        {
          "output_type": "stream",
          "name": "stdout",
          "text": [
            "{'a': 1, 'b': 3, 'c': 5, 'd': 7, 'e': 8, 'f': 9, 'g': 10}\n",
            "{'a': 1, 'b': 3, 'c': 5, 'd': 7, 'e': 8, 'f': 9, 'g': 10}\n",
            "{'a': 'e', 'b': 'f', 'c': 'g'}\n"
          ]
        }
      ]
    },
    {
      "cell_type": "code",
      "source": [
        "# initialise key with default values\n",
        "a = ['Kelly', 'Emma']\n",
        "b = {\"designation\": 'Developer', \"salary\": 8000}\n",
        "\n",
        "c = {}\n",
        "c  = c.fromkeys(a,b)\n",
        "print(c)\n",
        "\n",
        "\n",
        "# by using dict\n",
        "d = {}\n",
        "for i in a:\n",
        "  d.update({i:b})\n",
        "print(d)\n",
        "\n",
        "c = {}\n",
        "for i in a:\n",
        "  c[i] = b\n",
        "print(c)"
      ],
      "metadata": {
        "colab": {
          "base_uri": "https://localhost:8080/"
        },
        "id": "ww0XNGfnIFln",
        "outputId": "3d3b2f19-5441-455c-a6a1-e88f565adfff"
      },
      "execution_count": null,
      "outputs": [
        {
          "output_type": "stream",
          "name": "stdout",
          "text": [
            "{'Kelly': {'designation': 'Developer', 'salary': 8000}, 'Emma': {'designation': 'Developer', 'salary': 8000}}\n",
            "{'Kelly': {'designation': 'Developer', 'salary': 8000}, 'Emma': {'designation': 'Developer', 'salary': 8000}}\n",
            "{'Kelly': {'designation': 'Developer', 'salary': 8000}, 'Emma': {'designation': 'Developer', 'salary': 8000}}\n"
          ]
        }
      ]
    },
    {
      "cell_type": "code",
      "source": [
        "# extract name, salary\n",
        "a = {\"name\": \"Kelly\",\"age\": 25, \"salary\": 8000,\"city\": \"New york\"}\n",
        "\n",
        "a.pop(\"name\")\n",
        "a.pop(\"salary\")\n",
        "print(a)\n",
        "\n",
        "a = {\"name\": \"Kelly\",\"age\": 25, \"salary\": 8000,\"city\": \"New york\"}\n",
        "a.pop(\"name\",\"salary\")                                            # we cant remove more than 1 key from dict by using pop\n",
        "print(a) \n",
        "\n",
        "a = {\"name\": \"Kelly\",\"age\": 25, \"salary\": 8000,\"city\": \"New york\"}\n",
        "del a[\"name\"]\n",
        "print(a)"
      ],
      "metadata": {
        "colab": {
          "base_uri": "https://localhost:8080/"
        },
        "id": "hrWVQwKoJEin",
        "outputId": "90879f2b-9f22-4c2b-a520-29c8675930b3"
      },
      "execution_count": null,
      "outputs": [
        {
          "output_type": "stream",
          "name": "stdout",
          "text": [
            "{'age': 25, 'city': 'New york'}\n",
            "{'age': 25, 'salary': 8000, 'city': 'New york'}\n",
            "{'age': 25, 'salary': 8000, 'city': 'New york'}\n"
          ]
        }
      ]
    },
    {
      "cell_type": "code",
      "source": [
        "# access key-name and salary\n",
        "a = {\"name\": \"Kelly\",\"age\": 25, \"salary\": 8000,\"city\": \"New york\"}\n",
        "b = {}\n",
        "c = [\"name\",\"salary\"]\n",
        "b = {x:a[x] for x in c}\n",
        "print(b)\n",
        "\n",
        "d = {}\n",
        "for i in c:\n",
        "  d.update({i:a[i]})\n",
        "print(d)"
      ],
      "metadata": {
        "colab": {
          "base_uri": "https://localhost:8080/"
        },
        "id": "HTojmEftJ-Hj",
        "outputId": "2b88caf1-1258-4d8f-92ca-7e5ce6c43fb8"
      },
      "execution_count": null,
      "outputs": [
        {
          "output_type": "stream",
          "name": "stdout",
          "text": [
            "{'name': 'Kelly', 'salary': 8000}\n",
            "{'name': 'Kelly', 'salary': 8000}\n"
          ]
        }
      ]
    },
    {
      "cell_type": "code",
      "source": [
        "#  rename key\n",
        "a = {\"name\": \"Kelly\",\"age\": 25, \"salary\": 8000,\"city\": \"New york\"}\n",
        "\n",
        "a[\"location\"] = a.pop(\"city\")\n",
        "print(a)"
      ],
      "metadata": {
        "colab": {
          "base_uri": "https://localhost:8080/"
        },
        "id": "PxpA_snJOclX",
        "outputId": "be575823-805d-4158-dd49-eb9838d6174d"
      },
      "execution_count": null,
      "outputs": [
        {
          "output_type": "stream",
          "name": "stdout",
          "text": [
            "{'name': 'Kelly', 'age': 25, 'salary': 8000, 'location': 'New york'}\n"
          ]
        }
      ]
    },
    {
      "cell_type": "code",
      "source": [
        "a = {'Physics': 82,'Math': 65, 'history': 75}\n",
        "\n",
        "print(min(a, key=a.get))"
      ],
      "metadata": {
        "id": "5ZER6YJCPGYI",
        "colab": {
          "base_uri": "https://localhost:8080/"
        },
        "outputId": "9c7056db-67af-4bfc-b9c4-5a8859b720bd"
      },
      "execution_count": null,
      "outputs": [
        {
          "output_type": "stream",
          "name": "stdout",
          "text": [
            "Math\n"
          ]
        }
      ]
    },
    {
      "cell_type": "code",
      "source": [
        "# change dict value of nested dict\n",
        "a = {'emp1': {'name': 'Jhon', 'salary': 7500},'emp2': {'name': 'Emma', 'salary': 8000},'emp3': {'name': 'Brad', 'salary': 6500}}\n",
        "a[\"emp3\"][\"salary\"] = 10000\n",
        "print(a)"
      ],
      "metadata": {
        "colab": {
          "base_uri": "https://localhost:8080/"
        },
        "id": "Cg1jCLm9QH2m",
        "outputId": "94676d62-a6f3-45a5-f2d9-2ebead9c3de5"
      },
      "execution_count": null,
      "outputs": [
        {
          "output_type": "stream",
          "name": "stdout",
          "text": [
            "{'emp1': {'name': 'Jhon', 'salary': 7500}, 'emp2': {'name': 'Emma', 'salary': 8000}, 'emp3': {'name': 'Brad', 'salary': 10000}}\n"
          ]
        }
      ]
    },
    {
      "cell_type": "code",
      "source": [
        "var = 10\n",
        "for i in range(10):\n",
        "    for j in range(2, 10, 1):\n",
        "        if j % 2 == 0:\n",
        "          continue\n",
        "          var += 1\n",
        "        var+=1\n",
        "else:\n",
        "    var+=1\n",
        "print(var)"
      ],
      "metadata": {
        "colab": {
          "base_uri": "https://localhost:8080/"
        },
        "id": "5DMTxekBw7xj",
        "outputId": "2a7d1c44-6e22-4046-c08a-12e09db9cc53"
      },
      "execution_count": null,
      "outputs": [
        {
          "output_type": "stream",
          "name": "stdout",
          "text": [
            "51\n"
          ]
        }
      ]
    },
    {
      "cell_type": "code",
      "source": [
        "for num in range(10, 14):\n",
        "   for i in range(2, num):\n",
        "     #print(i, end=\" \")\n",
        "     if num%i == 1:\n",
        "       print(num)\n",
        "       break"
      ],
      "metadata": {
        "colab": {
          "base_uri": "https://localhost:8080/"
        },
        "id": "hJflXdrHzsaS",
        "outputId": "ee032cd6-935a-4c6f-f59a-43d5c60c1da4"
      },
      "execution_count": null,
      "outputs": [
        {
          "output_type": "stream",
          "name": "stdout",
          "text": [
            "10\n",
            "11\n",
            "12\n",
            "13\n"
          ]
        }
      ]
    },
    {
      "cell_type": "code",
      "source": [
        "x = 0\n",
        "for i in range(10):                        # it runs 10 times\n",
        "  #print(i)\n",
        "  for j in range(-1, -10, -1):              # j loop runs 9 times..after 1 execution of i loop\n",
        "    #print(j, end=\"\")\n",
        "    x += 1                                   # total iteration = 90\n",
        "  #print()\n",
        "print(x)"
      ],
      "metadata": {
        "colab": {
          "base_uri": "https://localhost:8080/"
        },
        "id": "8yQAYy7Z0aCU",
        "outputId": "2b47f7d9-4b51-4d8b-c658-8691c933d265"
      },
      "execution_count": null,
      "outputs": [
        {
          "output_type": "stream",
          "name": "stdout",
          "text": [
            "90\n"
          ]
        }
      ]
    },
    {
      "cell_type": "code",
      "source": [
        "# sort dict \n",
        "a = {\"eng\":15,\"mar\":81,\"math\":64,\"sci\":63}\n",
        "a = sorted(a.items(), key=lambda x:x[1])\n",
        "print(a)"
      ],
      "metadata": {
        "colab": {
          "base_uri": "https://localhost:8080/"
        },
        "id": "aFc_lkB29Rnf",
        "outputId": "f025f908-5437-4309-c17a-a336b5c63518"
      },
      "execution_count": null,
      "outputs": [
        {
          "output_type": "stream",
          "name": "stdout",
          "text": [
            "[('eng', 15), ('sci', 63), ('math', 64), ('mar', 81)]\n"
          ]
        }
      ]
    },
    {
      "cell_type": "code",
      "source": [
        "# add key in dict\n",
        "a = {\"eng\":15,\"mar\":81,\"math\":64,\"sci\":63}\n",
        "a[\"sports\"] = 88\n",
        "print(a)"
      ],
      "metadata": {
        "colab": {
          "base_uri": "https://localhost:8080/"
        },
        "id": "myzMJkO69sNL",
        "outputId": "aac0082a-180e-4183-c273-c0ede574bd79"
      },
      "execution_count": null,
      "outputs": [
        {
          "output_type": "stream",
          "name": "stdout",
          "text": [
            "{'eng': 15, 'mar': 81, 'math': 64, 'sci': 63, 'sports': 88}\n"
          ]
        }
      ]
    },
    {
      "cell_type": "code",
      "source": [
        "# concatenate dict\n",
        "a = {1:10, 2:20}\n",
        "b = {3:30, 4:40}\n",
        "c = {5:50,6:60}\n",
        "\n",
        "# unpacking method\n",
        "d = {**a,**b,**c}\n",
        "print(d)\n",
        "\n",
        "# for loop\n",
        "e = {}\n",
        "for i in a,b,c:\n",
        "  e.update(i)\n",
        "print(e)"
      ],
      "metadata": {
        "colab": {
          "base_uri": "https://localhost:8080/"
        },
        "id": "eP0WV4_A9_Or",
        "outputId": "f71fdf83-5416-48ac-e7fe-452eae6d7c51"
      },
      "execution_count": null,
      "outputs": [
        {
          "output_type": "stream",
          "name": "stdout",
          "text": [
            "{1: 10, 2: 20, 3: 30, 4: 40, 5: 50, 6: 60}\n",
            "{1: 10, 2: 20, 3: 30, 4: 40, 5: 50, 6: 60}\n"
          ]
        }
      ]
    },
    {
      "cell_type": "code",
      "source": [
        "# check key present or not\n",
        "a = {'eng': 15, 'mar': 81, 'math': 64, 'sci': 63, 'sports': 88}\n",
        "\n",
        "b = []\n",
        "for i in a:\n",
        "  b.append(i)\n",
        "\n",
        "if \"math\" in b:\n",
        "  print(\"key present\")\n",
        "else:\n",
        "  print(\"not present\")"
      ],
      "metadata": {
        "colab": {
          "base_uri": "https://localhost:8080/"
        },
        "id": "IHmJR-9n-uRL",
        "outputId": "ff95927b-a77b-4536-c64d-bc241132c950"
      },
      "execution_count": null,
      "outputs": [
        {
          "output_type": "stream",
          "name": "stdout",
          "text": [
            "key present\n"
          ]
        }
      ]
    },
    {
      "cell_type": "code",
      "source": [
        "# iterate over loops\n",
        "a = {'eng': 15, 'mar': 81, 'math': 64, 'sci': 63, 'sports': 88}\n",
        "# for keys\n",
        "for i in a:\n",
        "  print(i, end=\" \")\n",
        "print()\n",
        "for i in a.keys():\n",
        "  print(i, end=\" \")\n",
        "print()\n",
        "# for values\n",
        "for i in a:\n",
        "  print(a[i], end=\" \")\n",
        "print()\n",
        "for i in a.values():\n",
        "  print(i, end=\" \")\n",
        "print()\n",
        "# both together\n",
        "for i, j in a.items():\n",
        "  print(i, end=\" \")\n",
        "  print(j, end=\" \")\n",
        "print()\n",
        "\n",
        "# both keys and values\n",
        "for i in a.items():\n",
        "  print(i)"
      ],
      "metadata": {
        "colab": {
          "base_uri": "https://localhost:8080/"
        },
        "id": "0X5cSmew_ZXm",
        "outputId": "817571e0-6d59-494e-86c7-9516521a3b1a"
      },
      "execution_count": null,
      "outputs": [
        {
          "output_type": "stream",
          "name": "stdout",
          "text": [
            "eng mar math sci sports \n",
            "eng mar math sci sports \n",
            "15 81 64 63 88 \n",
            "15 81 64 63 88 \n",
            "eng 15 mar 81 math 64 sci 63 sports 88 \n",
            "('eng', 15)\n",
            "('mar', 81)\n",
            "('math', 64)\n",
            "('sci', 63)\n",
            "('sports', 88)\n"
          ]
        }
      ]
    },
    {
      "cell_type": "code",
      "source": [
        "# sq of given range, upto 12nums\n",
        "num = 12\n",
        "d = {}\n",
        "for i in range(1, num+1):\n",
        "  d[i] = i**2\n",
        "print(d)\n"
      ],
      "metadata": {
        "colab": {
          "base_uri": "https://localhost:8080/"
        },
        "id": "0btz9rmKACHJ",
        "outputId": "cbcdd1c9-5ca4-48be-80df-cf438b742e1a"
      },
      "execution_count": null,
      "outputs": [
        {
          "output_type": "stream",
          "name": "stdout",
          "text": [
            "{1: 1, 2: 4, 3: 9, 4: 16, 5: 25, 6: 36, 7: 49, 8: 64, 9: 81, 10: 100, 11: 121, 12: 144}\n"
          ]
        }
      ]
    },
    {
      "cell_type": "code",
      "source": [
        "# merge two dic\n",
        "a = {'a': 100, 'b': 200}\n",
        "b = {'x': 300, 'y': 200}\n",
        "\n",
        "# using for loop\n",
        "c = {}\n",
        "for i in a,b:\n",
        "  c.update(i)\n",
        "print(c)\n",
        "\n",
        "# using unpacking method\n",
        "d = {**a,**b}\n",
        "print(d)\n",
        "\n",
        "# using copy & update\n",
        "e = a.copy()\n",
        "e.update(b)\n",
        "print(e)"
      ],
      "metadata": {
        "colab": {
          "base_uri": "https://localhost:8080/"
        },
        "id": "6AqzN2QQAlU8",
        "outputId": "2b022450-39c0-4bbc-9ca3-6425e44ddc98"
      },
      "execution_count": null,
      "outputs": [
        {
          "output_type": "stream",
          "name": "stdout",
          "text": [
            "{'a': 100, 'b': 200, 'x': 300, 'y': 200}\n",
            "{'a': 100, 'b': 200, 'x': 300, 'y': 200}\n",
            "{'a': 100, 'b': 200, 'x': 300, 'y': 200}\n"
          ]
        }
      ]
    },
    {
      "cell_type": "code",
      "source": [
        "# sum of all values in dict\n",
        "a = {'eng': 15, 'mar': 81, 'math': 64, 'sci': 63, 'sports': 88}\n",
        "b = []\n",
        "for i,j in a.items():\n",
        "  b.append(j)\n",
        "print(b)\n",
        "sum = 0\n",
        "for i in b:\n",
        "  sum = sum + i\n",
        "print(\"sum of vals:\", sum)"
      ],
      "metadata": {
        "colab": {
          "base_uri": "https://localhost:8080/"
        },
        "id": "3hprhEybBZT0",
        "outputId": "e87ac2ec-0f3d-4ab0-8373-744ed8aec75c"
      },
      "execution_count": null,
      "outputs": [
        {
          "output_type": "stream",
          "name": "stdout",
          "text": [
            "[15, 81, 64, 63, 88]\n",
            "sum of vals: 311\n"
          ]
        }
      ]
    },
    {
      "cell_type": "code",
      "source": [
        "# multiply all values from dict\n",
        "a = {'eng': 15, 'mar': 81, 'math': 64, 'sci': 63, 'sports': 88}\n",
        "d = []\n",
        "for i in a:\n",
        "  d.append(a[i])\n",
        "print(d)\n",
        "\n",
        "from functools import reduce\n",
        "c = reduce(lambda x,y:x*y, d)\n",
        "print(\"prod is:\", c)\n",
        "\n",
        "#another method\n",
        "import math\n",
        "print(math.prod([15, 81, 64, 63, 88]))"
      ],
      "metadata": {
        "colab": {
          "base_uri": "https://localhost:8080/"
        },
        "id": "xpEXqcmwBw8P",
        "outputId": "5402cdb2-1dbf-4a91-893e-b0e11ba59fa1"
      },
      "execution_count": null,
      "outputs": [
        {
          "output_type": "stream",
          "name": "stdout",
          "text": [
            "[15, 81, 64, 63, 88]\n",
            "prod is: 431101440\n",
            "431101440\n"
          ]
        }
      ]
    },
    {
      "cell_type": "code",
      "source": [
        "# remove key from dict\n",
        "a = {'eng': 15, 'mar': 81, 'math': 64, 'sci': 63, 'sports': 88}\n",
        "\n",
        "b = a.pop(\"math\")\n",
        "print(a)\n",
        "\n",
        "# popitem removes last element\n",
        "a.popitem()\n",
        "print(a)\n",
        "\n",
        "# del\n",
        "del a[\"sci\"]\n",
        "print(a)\n",
        "\n",
        "# clear\n",
        "a.clear()\n",
        "print(a)"
      ],
      "metadata": {
        "colab": {
          "base_uri": "https://localhost:8080/"
        },
        "id": "kt9ebkz9Ce1I",
        "outputId": "fb3cc73a-1b87-4ac2-95bd-3ba3d7443d6d"
      },
      "execution_count": null,
      "outputs": [
        {
          "output_type": "stream",
          "name": "stdout",
          "text": [
            "{'eng': 15, 'mar': 81, 'sci': 63, 'sports': 88}\n",
            "{'eng': 15, 'mar': 81, 'sci': 63}\n",
            "{'eng': 15, 'mar': 81}\n",
            "{}\n"
          ]
        }
      ]
    },
    {
      "cell_type": "code",
      "source": [
        "# map two list into dict\n",
        "a = [\"a\",\"b\",\"c\",\"d\"]\n",
        "b = [1,3,4,6]\n",
        "\n",
        "b = dict(zip(a,b))\n",
        "print(b)"
      ],
      "metadata": {
        "colab": {
          "base_uri": "https://localhost:8080/"
        },
        "id": "6Y2Akl6tDEPn",
        "outputId": "e62c3734-8d9c-4425-e50c-90f2fd264754"
      },
      "execution_count": null,
      "outputs": [
        {
          "output_type": "stream",
          "name": "stdout",
          "text": [
            "{'a': 1, 'b': 3, 'c': 4, 'd': 6}\n"
          ]
        }
      ]
    },
    {
      "cell_type": "code",
      "source": [
        "# sort dict by key\n",
        "a = {'a': 1,'d': 6,\"f\":8, 'b': 3, 'c': 4}\n",
        "print(a)\n",
        "b = sorted(a.items(), key=lambda x:x[0])\n",
        "print(b)"
      ],
      "metadata": {
        "colab": {
          "base_uri": "https://localhost:8080/"
        },
        "id": "-E_FQtEWDROD",
        "outputId": "52f3a8f9-608e-41ba-dec1-de76233d0114"
      },
      "execution_count": null,
      "outputs": [
        {
          "output_type": "stream",
          "name": "stdout",
          "text": [
            "{'a': 1, 'd': 6, 'f': 8, 'b': 3, 'c': 4}\n",
            "[('a', 1), ('b', 3), ('c', 4), ('d', 6), ('f', 8)]\n"
          ]
        }
      ]
    },
    {
      "cell_type": "code",
      "source": [
        "# get max and min from dict\n",
        "\n",
        "a = {'a': 1,'d': 6,\"f\":8, 'b': 3, 'c': 4}\n",
        "b = max(a.items(), key=lambda x:x[0])\n",
        "print(b)\n",
        "\n",
        "b = min(a.items(), key=lambda x:x[0])\n",
        "print(b)"
      ],
      "metadata": {
        "colab": {
          "base_uri": "https://localhost:8080/"
        },
        "id": "q_g7OYLrDsKe",
        "outputId": "f7675975-131b-409f-a5e4-a69329fa58c6"
      },
      "execution_count": null,
      "outputs": [
        {
          "output_type": "stream",
          "name": "stdout",
          "text": [
            "('f', 8)\n",
            "('a', 1)\n"
          ]
        }
      ]
    },
    {
      "cell_type": "code",
      "source": [
        "# get dict from objcet field\n",
        "a = {'a': 1,'d': 6,\"f\":8, 'b': 3, 'c': 4}\n",
        "b = a.get(\"b\")\n",
        "print(b)"
      ],
      "metadata": {
        "colab": {
          "base_uri": "https://localhost:8080/"
        },
        "id": "i-T84pYTEgaN",
        "outputId": "34cb7f46-52d7-4220-ae56-7caace4e54a7"
      },
      "execution_count": null,
      "outputs": [
        {
          "output_type": "stream",
          "name": "stdout",
          "text": [
            "3\n"
          ]
        }
      ]
    },
    {
      "cell_type": "code",
      "source": [
        "# check dict empty or not\n",
        "\n",
        "b = {}\n",
        "\n",
        "# len option\n",
        "if len(b) == 0:\n",
        "  print(\"dict is empty\")\n",
        "else:\n",
        "  print(\"dict is full\")\n",
        "\n",
        "# for loop\n",
        "for i in b:\n",
        "  if i != None:\n",
        "    print(\"not empty\")\n",
        "  else:\n",
        "    print(\"empty\")"
      ],
      "metadata": {
        "colab": {
          "base_uri": "https://localhost:8080/"
        },
        "id": "Mf2YmZZ9GC3E",
        "outputId": "6b19ebc9-3030-4ba0-a5c8-f5f0fde8fbb2"
      },
      "execution_count": null,
      "outputs": [
        {
          "output_type": "stream",
          "name": "stdout",
          "text": [
            "dict is empty\n"
          ]
        }
      ]
    },
    {
      "cell_type": "code",
      "source": [
        "# addition of values\n",
        "a = {'a': 100, 'b': 200, 'c':300}\n",
        "b = {'a': 300, 'b': 200, 'd':400}\n",
        "\n",
        "for key in a:\n",
        "  if key in b:\n",
        "    b[key] = a[key] + b[key]\n",
        "  else:\n",
        "    b[key] = a[key]\n",
        "print(b)\n"
      ],
      "metadata": {
        "colab": {
          "base_uri": "https://localhost:8080/"
        },
        "id": "Qs6ID8iJGQ-U",
        "outputId": "650397f9-30f9-4555-8857-ac7b03d51bdc"
      },
      "execution_count": null,
      "outputs": [
        {
          "output_type": "stream",
          "name": "stdout",
          "text": [
            "{'a': 400, 'b': 400, 'd': 400, 'c': 300}\n",
            "Counter({'b': 600, 'c': 600, 'a': 500, 'd': 400})\n"
          ]
        }
      ]
    },
    {
      "cell_type": "code",
      "source": [
        "a = {'a': 100, 'b': 200, 'c':300}\n",
        "b = {'a': 300, 'b': 200, 'd':400}\n",
        "\n",
        "from collections import Counter\n",
        "c = Counter(a) + Counter(b)\n",
        "print(c)"
      ],
      "metadata": {
        "colab": {
          "base_uri": "https://localhost:8080/"
        },
        "id": "-21wZ-SHMS9s",
        "outputId": "701f05c7-97ca-409c-c0e9-edcad52e309a"
      },
      "execution_count": null,
      "outputs": [
        {
          "output_type": "stream",
          "name": "stdout",
          "text": [
            "Counter({'a': 400, 'b': 400, 'd': 400, 'c': 300})\n"
          ]
        }
      ]
    },
    {
      "cell_type": "code",
      "source": [
        "dict1 = {0: 33.422, 1: 39.2308, 2: 30.132}\n",
        "dict2 = {0: 42.2422, 1: 43.342, 2: 42.424}\n",
        "dict3 = {0: 13.422, 1: 9.2308, 2: 20.132}\n",
        "dicts = []\n",
        "dicts.append(dict1)\n",
        "dicts.append(dict2)\n",
        "dicts.append(dict3)\n",
        "\n",
        "print(dicts)"
      ],
      "metadata": {
        "colab": {
          "base_uri": "https://localhost:8080/"
        },
        "id": "cGTd08GUI8e9",
        "outputId": "d1767751-3a7d-4fc8-bb5f-57f019d893f3"
      },
      "execution_count": null,
      "outputs": [
        {
          "output_type": "stream",
          "name": "stdout",
          "text": [
            "[{0: 33.422, 1: 39.2308, 2: 30.132}, {0: 42.2422, 1: 43.342, 2: 42.424}, {0: 13.422, 1: 9.2308, 2: 20.132}]\n"
          ]
        }
      ]
    },
    {
      "cell_type": "code",
      "source": [
        "# print only unique values\n",
        "L = [{\"V\":\"S001\"}, {\"V\": \"S002\"}, {\"VI\": \"S001\"}, {\"VI\": \"S005\"}, {\"VII\":\"S005\"}, {\"V\":\"S009\"},{\"VIII\":\"S007\"}]\n",
        "print(\"Original List: \",L)\n",
        "u_value = set( val for dic in L for val in dic.values())\n",
        "print(\"Unique Values: \",u_value)"
      ],
      "metadata": {
        "colab": {
          "base_uri": "https://localhost:8080/"
        },
        "id": "V_y27EKgL2OF",
        "outputId": "054c5f2b-749e-46fb-98ec-63b2cb3452bc"
      },
      "execution_count": null,
      "outputs": [
        {
          "output_type": "stream",
          "name": "stdout",
          "text": [
            "Original List:  [{'V': 'S001'}, {'V': 'S002'}, {'VI': 'S001'}, {'VI': 'S005'}, {'VII': 'S005'}, {'V': 'S009'}, {'VIII': 'S007'}]\n",
            "Unique Values:  {'S007', 'S005', 'S002', 'S001', 'S009'}\n"
          ]
        }
      ]
    },
    {
      "cell_type": "code",
      "source": [
        "# largest prime number\n",
        "\n",
        "n = 124\n",
        "def prime(n):\n",
        "  for i in range(2, n):\n",
        "    if n%i == 0:\n",
        "      return False\n",
        "  return True\n",
        "\n",
        "f = []                # to store factors\n",
        "for i in range(2, n):\n",
        "  if prime(i):\n",
        "    #print(i)    # all prime nums upto n\n",
        "    if n%i == 0:\n",
        "      f.append(i)\n",
        "\n",
        "#print(f)\n",
        "print(\"largest prime num:\",max(f))          # largest"
      ],
      "metadata": {
        "colab": {
          "base_uri": "https://localhost:8080/"
        },
        "id": "Nieyh70Uxa_g",
        "outputId": "b3242fdf-ffe3-4963-c072-859208989538"
      },
      "execution_count": null,
      "outputs": [
        {
          "output_type": "stream",
          "name": "stdout",
          "text": [
            "largest prime num: 31\n"
          ]
        }
      ]
    },
    {
      "cell_type": "code",
      "source": [
        "# factorial of given num\n",
        "n = 5\n",
        "\n",
        "# factorial by recursion method\n",
        "def fact(n):\n",
        "  if n == 1:\n",
        "    return 1\n",
        "  else:\n",
        "    return n*fact(n-1)\n",
        "\n",
        "print(\"factorial of 5:\", fact(n))\n",
        "\n",
        "# factorial by for loop\n",
        "n = 6\n",
        "fact = 1\n",
        "for i in range(1,n+1):\n",
        "  fact = fact * i\n",
        "print(\"factorial of 6:\",fact)"
      ],
      "metadata": {
        "colab": {
          "base_uri": "https://localhost:8080/"
        },
        "id": "4TYh4c6C56FQ",
        "outputId": "bf15d861-4c1c-461e-ec3a-c288783006de"
      },
      "execution_count": null,
      "outputs": [
        {
          "output_type": "stream",
          "name": "stdout",
          "text": [
            "factorial of 5: 120\n",
            "factorial of 6: 720\n"
          ]
        }
      ]
    },
    {
      "cell_type": "code",
      "source": [
        "# find sum of odd nums of factors\n",
        "n = 68\n",
        "f = []              # to store factors\n",
        "\n",
        "for i in range(2,n+1):\n",
        "  if n%i == 0:\n",
        "    f.append(i)\n",
        "#print(f)\n",
        "\n",
        "odd = []\n",
        "even = []\n",
        "for x in f:        # access nums from list\n",
        "  if x%2 == 0:\n",
        "    even.append(x)\n",
        "  else:\n",
        "    odd.append(x)\n",
        "\n",
        "#print(odd)\n",
        "#print(even)\n",
        "\n",
        "print(\"sum of odd nums:\", sum(odd))"
      ],
      "metadata": {
        "colab": {
          "base_uri": "https://localhost:8080/"
        },
        "id": "9mMi4bUN7zYp",
        "outputId": "3fd2bd74-479d-4a27-9072-3830197d87fe"
      },
      "execution_count": null,
      "outputs": [
        {
          "output_type": "stream",
          "name": "stdout",
          "text": [
            "sum of odd nums: 17\n"
          ]
        }
      ]
    }
  ]
}