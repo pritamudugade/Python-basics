{
  "nbformat": 4,
  "nbformat_minor": 0,
  "metadata": {
    "colab": {
      "provenance": [],
      "authorship_tag": "ABX9TyMKPj1MEVmsklIho9au+R2W",
      "include_colab_link": true
    },
    "kernelspec": {
      "name": "python3",
      "display_name": "Python 3"
    },
    "language_info": {
      "name": "python"
    }
  },
  "cells": [
    {
      "cell_type": "markdown",
      "metadata": {
        "id": "view-in-github",
        "colab_type": "text"
      },
      "source": [
        "<a href=\"https://colab.research.google.com/github/pritamudugade/Python-basics-codes/blob/main/Dictionary.ipynb\" target=\"_parent\"><img src=\"https://colab.research.google.com/assets/colab-badge.svg\" alt=\"Open In Colab\"/></a>"
      ]
    },
    {
      "cell_type": "code",
      "execution_count": null,
      "metadata": {
        "id": "Ezhk509s1hzS"
      },
      "outputs": [],
      "source": [
        "# dictionary\n",
        "\n",
        "\"\"\"\n",
        "Key points\n",
        "1. Mutable in nature- add/remove data can be possible\n",
        "2. hashtable is background data structure\n",
        "3. pair of key-values\n",
        "4. key - only immutable objects (like string, numbers, tuples) can be used as key. we cannot use mutable obejcts like list as key\n",
        "5. dictionary can be access by key \n",
        "6. dictionary only accepts immuatble objects for keys, hence we cannot access dictionary with index number.\n",
        "7. dictionaries are very fast.\n",
        "8. value can be of any type..\n",
        "9. keys duplication not accptable\n",
        "\"\"\""
      ]
    },
    {
      "cell_type": "code",
      "source": [
        "# creating dictionay\n",
        "# dict() constructor\n",
        "\n",
        "a = dict({1:2,3:4,5:6})                 # encapuslated in curly braces\n",
        "print(a)\n",
        "print(type(a))\n",
        "\n",
        "b = {}                  # blank dict\n",
        "print(b)\n",
        "print(type(b))"
      ],
      "metadata": {
        "colab": {
          "base_uri": "https://localhost:8080/"
        },
        "id": "EIoGN_CR2xvo",
        "outputId": "c3f1cd21-9d6b-4658-e424-a8dc46937a96"
      },
      "execution_count": null,
      "outputs": [
        {
          "output_type": "stream",
          "name": "stdout",
          "text": [
            "{1: 2, 3: 4, 5: 6}\n",
            "<class 'dict'>\n",
            "{}\n",
            "<class 'dict'>\n"
          ]
        }
      ]
    },
    {
      "cell_type": "code",
      "source": [
        "a = ({\"car\":\"honda\",\"model\":\"H5\",\"price\":\"85858\"})\n",
        "print(a)\n",
        "print(type(a))"
      ],
      "metadata": {
        "colab": {
          "base_uri": "https://localhost:8080/"
        },
        "id": "036z0M3V3O2e",
        "outputId": "9eb99861-c334-47d5-e306-2f534f0a9605"
      },
      "execution_count": null,
      "outputs": [
        {
          "output_type": "stream",
          "name": "stdout",
          "text": [
            "{'car': 'honda', 'model': 'H5', 'price': '85858'}\n",
            "<class 'dict'>\n"
          ]
        }
      ]
    },
    {
      "cell_type": "code",
      "source": [
        "# accessing dictionary by using key\n",
        "print(a[\"car\"])\n",
        "print(a[\"model\"])\n",
        "print(a[\"price\"])"
      ],
      "metadata": {
        "colab": {
          "base_uri": "https://localhost:8080/"
        },
        "id": "2JajbT-_3fVJ",
        "outputId": "bbb4a826-3bcc-46b2-c9de-749188d222dd"
      },
      "execution_count": null,
      "outputs": [
        {
          "output_type": "stream",
          "name": "stdout",
          "text": [
            "honda\n",
            "H5\n",
            "85858\n"
          ]
        }
      ]
    },
    {
      "cell_type": "code",
      "source": [
        "# updating dictionary\n",
        "a = ({\"car\":\"honda\",\"model\":\"H5\",\"price\":\"85858\"})\n",
        "print(a)\n",
        "a[\"car\"] = \"BMW\"               # name changed to BMW\n",
        "print(a)\n",
        "\n",
        "a[\"mileage\"] = 15                   # one extra key- mileage added to a dict\n",
        "print(a)\n",
        "\n",
        "a[\"price\"] = 78974\n",
        "print(a)"
      ],
      "metadata": {
        "colab": {
          "base_uri": "https://localhost:8080/"
        },
        "id": "g1tRewLY3udm",
        "outputId": "8d31a27e-bb3d-46e5-f010-59af75280485"
      },
      "execution_count": null,
      "outputs": [
        {
          "output_type": "stream",
          "name": "stdout",
          "text": [
            "{'car': 'honda', 'model': 'H5', 'price': '85858'}\n",
            "{'car': 'BMW', 'model': 'H5', 'price': '85858'}\n",
            "{'car': 'BMW', 'model': 'H5', 'price': '85858', 'mileage': 15}\n",
            "{'car': 'BMW', 'model': 'H5', 'price': 78974, 'mileage': 15}\n"
          ]
        }
      ]
    },
    {
      "cell_type": "code",
      "source": [
        "# update method"
      ],
      "metadata": {
        "id": "SBCs5tVJ4i93"
      },
      "execution_count": null,
      "outputs": []
    },
    {
      "cell_type": "code",
      "source": [
        "# copy dict\n",
        "b = a\n",
        "print(b)             # this is not copy, any chages in a will affect b and vice versa"
      ],
      "metadata": {
        "colab": {
          "base_uri": "https://localhost:8080/"
        },
        "id": "PcS3q_XM5TLG",
        "outputId": "225fbd39-4b0c-4db2-e021-daf61176f616"
      },
      "execution_count": null,
      "outputs": [
        {
          "output_type": "stream",
          "name": "stdout",
          "text": [
            "{'car': 'BMW', 'model': 'H5', 'price': 78974, 'mileage': 15}\n"
          ]
        }
      ]
    },
    {
      "cell_type": "code",
      "source": [
        "b = a.copy()\n",
        "print(b)"
      ],
      "metadata": {
        "colab": {
          "base_uri": "https://localhost:8080/"
        },
        "id": "83SGW7205fRa",
        "outputId": "529dec4a-1a5e-4cc5-9d41-813d2a0bb79b"
      },
      "execution_count": null,
      "outputs": [
        {
          "output_type": "stream",
          "name": "stdout",
          "text": [
            "{'car': 'BMW', 'model': 'H5', 'price': 78974, 'mileage': 15}\n"
          ]
        }
      ]
    },
    {
      "cell_type": "code",
      "source": [
        "# pop method, del method and clear and popitems()\n",
        "a = {'car': 'BMW', 'model': 'H5', 'price': 78974, 'mileage': 15}\n",
        "print(a)\n",
        "\n",
        "print(a.pop(\"model\"))          # remove model\n",
        "print(a)\n",
        "\n",
        "print(a)\n",
        "print(a.popitem())                   # remove last element\n",
        "print(a)\n",
        "\n",
        "# by using del keyword\n",
        "\n",
        "del (a[\"price\"])\n",
        "print(a)\n",
        "\n",
        "a.clear()\n",
        "print(a)\n",
        "\n",
        "del a\n",
        "# print(a)                   will give error beacause now a del forever"
      ],
      "metadata": {
        "colab": {
          "base_uri": "https://localhost:8080/"
        },
        "id": "px5TrfGi5mJ1",
        "outputId": "df3527b6-5cf4-4b6a-ff21-43691ea7a000"
      },
      "execution_count": null,
      "outputs": [
        {
          "output_type": "stream",
          "name": "stdout",
          "text": [
            "{'car': 'BMW', 'model': 'H5', 'price': 78974, 'mileage': 15}\n",
            "H5\n",
            "{'car': 'BMW', 'price': 78974, 'mileage': 15}\n",
            "{'car': 'BMW', 'price': 78974, 'mileage': 15}\n",
            "('mileage', 15)\n",
            "{'car': 'BMW', 'price': 78974}\n",
            "{'car': 'BMW'}\n",
            "{}\n"
          ]
        }
      ]
    },
    {
      "cell_type": "code",
      "source": [
        "# iterating through for loop\n",
        "a = {'car': 'BMW', 'model': 'H5', 'price': 78974, 'mileage': 15}\n",
        "print(a)\n",
        "\n",
        "for i in a:\n",
        "  print(i)                     # will give keys\n",
        "\n",
        "for i in a:\n",
        "  print(a[i])                   # will give values\n",
        "\n",
        "for i in a.keys():\n",
        "  print(i)                         # will give keys\n",
        "\n",
        "for i in a.values():\n",
        "  print(i)                            # values\n",
        "\n",
        "for i,j in a.items():\n",
        "  print(i)                               # keys\n",
        "\n",
        "for i,j in a.items():\n",
        "  print(j)                            # values\n",
        "\n",
        "for i in a.items():\n",
        "  print(i)                                # both key-value pair"
      ],
      "metadata": {
        "colab": {
          "base_uri": "https://localhost:8080/"
        },
        "id": "bwaaZjFS6MkP",
        "outputId": "61746dc2-9063-410e-81f4-74fb195d1101"
      },
      "execution_count": null,
      "outputs": [
        {
          "output_type": "stream",
          "name": "stdout",
          "text": [
            "{'car': 'BMW', 'model': 'H5', 'price': 78974, 'mileage': 15}\n",
            "car\n",
            "model\n",
            "price\n",
            "mileage\n",
            "BMW\n",
            "H5\n",
            "78974\n",
            "15\n",
            "car\n",
            "model\n",
            "price\n",
            "mileage\n",
            "BMW\n",
            "H5\n",
            "78974\n",
            "15\n",
            "car\n",
            "model\n",
            "price\n",
            "mileage\n",
            "BMW\n",
            "H5\n",
            "78974\n",
            "15\n",
            "('car', 'BMW')\n",
            "('model', 'H5')\n",
            "('price', 78974)\n",
            "('mileage', 15)\n"
          ]
        }
      ]
    },
    {
      "cell_type": "code",
      "source": [
        "# convert tuple of tuple into dictionary\n",
        "a = ((1,15),(5,31),(8,75))\n",
        "b = dict((x,y) for x,y in a)\n",
        "print(b)\n",
        "print(type(b))"
      ],
      "metadata": {
        "colab": {
          "base_uri": "https://localhost:8080/"
        },
        "id": "qN2ak0PK89Y8",
        "outputId": "e7301c32-c4da-47ed-d336-a00213c15f64"
      },
      "execution_count": null,
      "outputs": [
        {
          "output_type": "stream",
          "name": "stdout",
          "text": [
            "{1: 15, 5: 31, 8: 75}\n",
            "<class 'dict'>\n"
          ]
        }
      ]
    },
    {
      "cell_type": "code",
      "source": [
        "a = {'car': 'BMW', 'model': 'H5', 'price': 78974, 'mileage': 15}\n",
        "print(a)"
      ],
      "metadata": {
        "colab": {
          "base_uri": "https://localhost:8080/"
        },
        "id": "LDqzo_sQ-xFg",
        "outputId": "17a5c2c6-fefe-49de-8e7f-41b0c0a6f741"
      },
      "execution_count": null,
      "outputs": [
        {
          "output_type": "stream",
          "name": "stdout",
          "text": [
            "{'car': 'BMW', 'model': 'H5', 'price': 78974, 'mileage': 15}\n"
          ]
        }
      ]
    },
    {
      "cell_type": "code",
      "source": [
        "# add element\n",
        "b = {0: 10, 1: 20}\n",
        "b[2] = 30\n",
        "print(b)"
      ],
      "metadata": {
        "colab": {
          "base_uri": "https://localhost:8080/"
        },
        "id": "KV_c06Gs_1EX",
        "outputId": "495a04d0-eba4-430f-9cec-ff22ec3fdb77"
      },
      "execution_count": null,
      "outputs": [
        {
          "output_type": "stream",
          "name": "stdout",
          "text": [
            "{0: 10, 1: 20, 2: 30}\n"
          ]
        }
      ]
    },
    {
      "cell_type": "code",
      "source": [
        "# concatenate dictionaries\n",
        "\n",
        "a = {1:10, 2:20}\n",
        "b = {3:30, 4:40}\n",
        "c = {5:50, 6:60}\n",
        "\n",
        "d = {}\n",
        "for i in (a,b,c): d.update(i)\n",
        "print(d)\n"
      ],
      "metadata": {
        "colab": {
          "base_uri": "https://localhost:8080/"
        },
        "id": "dbMDO4KWAC6r",
        "outputId": "b3f771c4-8deb-48c9-c95a-8dceb842c5dd"
      },
      "execution_count": null,
      "outputs": [
        {
          "output_type": "stream",
          "name": "stdout",
          "text": [
            "{1: 10, 2: 20, 3: 30, 4: 40, 5: 50, 6: 60}\n"
          ]
        }
      ]
    },
    {
      "cell_type": "code",
      "source": [
        "a = {'car': 'BMW', 'model': 'H5', 'price': 78974, 'mileage': 15}\n",
        "print(a)\n",
        "\n",
        "if \"car\" in a:\n",
        "  print(\"given key available in dictionary\")\n",
        "else:\n",
        "  print(\"given key not available\")\n",
        "\n",
        "if \"mobile\" in a:\n",
        "  print(\"given key avaialble in dictionary \")\n",
        "else:\n",
        "  print(\"given key not available\")"
      ],
      "metadata": {
        "colab": {
          "base_uri": "https://localhost:8080/"
        },
        "id": "Iqg5CsZNBr0k",
        "outputId": "b46eec3d-fbbc-40f5-a5dd-a26947899d8d"
      },
      "execution_count": null,
      "outputs": [
        {
          "output_type": "stream",
          "name": "stdout",
          "text": [
            "{'car': 'BMW', 'model': 'H5', 'price': 78974, 'mileage': 15}\n",
            "given key available in dictionary\n",
            "given key not available\n"
          ]
        }
      ]
    },
    {
      "cell_type": "code",
      "source": [
        "# square nums of given range upto n number\n",
        "n = 6\n",
        "d = {}\n",
        "for i in range(1, n+1):\n",
        "  d[i] = i*i\n",
        "print(d)"
      ],
      "metadata": {
        "colab": {
          "base_uri": "https://localhost:8080/"
        },
        "id": "BrMuuZOHI-Hs",
        "outputId": "7c52b3ea-970f-4825-9f56-9c52ddb12c80"
      },
      "execution_count": null,
      "outputs": [
        {
          "output_type": "stream",
          "name": "stdout",
          "text": [
            "{1: 1, 2: 4, 3: 9, 4: 16, 5: 25, 6: 36}\n"
          ]
        }
      ]
    },
    {
      "cell_type": "code",
      "source": [
        "# square on 1 to 15 number range\n",
        "for i in range(1,16):\n",
        "  d[i] = i*i\n",
        "print(d)"
      ],
      "metadata": {
        "colab": {
          "base_uri": "https://localhost:8080/"
        },
        "id": "G7fo5ltlKMPg",
        "outputId": "f6cb675b-8e51-49a0-d156-7c3496568a5a"
      },
      "execution_count": null,
      "outputs": [
        {
          "output_type": "stream",
          "name": "stdout",
          "text": [
            "{1: 1, 2: 4, 3: 9, 4: 16, 5: 25, 6: 36, 7: 49, 8: 64, 9: 81, 10: 100, 11: 121, 12: 144, 13: 169, 14: 196, 15: 225}\n"
          ]
        }
      ]
    },
    {
      "cell_type": "code",
      "source": [
        "# merge two python dictionary\n",
        "\n",
        "d1 = {'a': 100, 'b': 200}\n",
        "d2 = {'x': 300, 'y': 200}\n",
        "\n",
        "d3 = d1.copy()\n",
        "d3.update(d2)\n",
        "print(d3)\n",
        "\n",
        "# another method\n",
        "d3 = {**d1, **d2}\n",
        "print(d3)"
      ],
      "metadata": {
        "colab": {
          "base_uri": "https://localhost:8080/"
        },
        "id": "OD0vf7gGLF8C",
        "outputId": "c8acbdd8-3571-4495-c8ea-422526fd91de"
      },
      "execution_count": null,
      "outputs": [
        {
          "output_type": "stream",
          "name": "stdout",
          "text": [
            "{'a': 100, 'b': 200, 'x': 300, 'y': 200}\n",
            "{'a': 100, 'b': 200, 'x': 300, 'y': 200}\n"
          ]
        }
      ]
    },
    {
      "cell_type": "code",
      "source": [
        "# Python program to iterate over dictionaries using for loops\n",
        "a = {'a': 100, 'b': 200, 'x': 300, 'y': 200}\n",
        "for i in a:\n",
        "  print(\"keys:\", i)         # print keys\n",
        "print()\n",
        "\n",
        "for i in a:\n",
        "  print(\"values:\", a[i])         # print values\n",
        "print()\n",
        "\n",
        "for i in a.keys():\n",
        "  print(\"keys:\", i)\n",
        "print()\n",
        "\n",
        "for i in a.values():\n",
        "  print(\"values:\", i)       \n",
        "print()\n",
        "\n",
        "for i in a.items():\n",
        "  print(\"pair of key and values:\", i)"
      ],
      "metadata": {
        "colab": {
          "base_uri": "https://localhost:8080/"
        },
        "id": "VlH2DIoHEE7m",
        "outputId": "b06af754-e0f6-48e3-eaa1-dd5e003300ff"
      },
      "execution_count": null,
      "outputs": [
        {
          "output_type": "stream",
          "name": "stdout",
          "text": [
            "keys: a\n",
            "keys: b\n",
            "keys: x\n",
            "keys: y\n",
            "\n",
            "values: 100\n",
            "values: 200\n",
            "values: 300\n",
            "values: 200\n",
            "\n",
            "keys: a\n",
            "keys: b\n",
            "keys: x\n",
            "keys: y\n",
            "\n",
            "values: 100\n",
            "values: 200\n",
            "values: 300\n",
            "values: 200\n",
            "\n",
            "pair of key and values: ('a', 100)\n",
            "pair of key and values: ('b', 200)\n",
            "pair of key and values: ('x', 300)\n",
            "pair of key and values: ('y', 200)\n"
          ]
        }
      ]
    },
    {
      "cell_type": "code",
      "source": [
        "a = {'a': 100, 'b': 200, 'x': 300, 'y': 200}\n",
        "for i in a:\n",
        "  print(a[i[0]])"
      ],
      "metadata": {
        "colab": {
          "base_uri": "https://localhost:8080/"
        },
        "id": "3FEG92bnGD3t",
        "outputId": "cc61b968-ecb1-4ca2-9ba9-2e1d08732984"
      },
      "execution_count": null,
      "outputs": [
        {
          "output_type": "stream",
          "name": "stdout",
          "text": [
            "100\n",
            "200\n",
            "300\n",
            "200\n"
          ]
        }
      ]
    },
    {
      "cell_type": "code",
      "source": [
        "a = {'a': 100, 'b': 200, 'x': 300, 'y': 200}\n",
        "b = []\n",
        "for i in a:\n",
        "  b.append(a[i])\n",
        "print(b)\n",
        "print(type(b))\n",
        "print(\"sum is:\", sum(b))"
      ],
      "metadata": {
        "colab": {
          "base_uri": "https://localhost:8080/"
        },
        "id": "lLupICP7GcGs",
        "outputId": "fb60ac81-61d3-473a-b63b-d9ad02298c06"
      },
      "execution_count": null,
      "outputs": [
        {
          "output_type": "stream",
          "name": "stdout",
          "text": [
            "[100, 200, 300, 200]\n",
            "<class 'list'>\n",
            "sum is: 800\n"
          ]
        }
      ]
    },
    {
      "cell_type": "code",
      "source": [
        "# extract values form dict\n",
        "a = {'a': 100, 'b': 200, 'x': 300, 'y': 200}\n",
        "b = a.values()                   # values return the tuple of list\n",
        "print(b)\n",
        "print(type(b))                 # class dict_values"
      ],
      "metadata": {
        "colab": {
          "base_uri": "https://localhost:8080/"
        },
        "id": "U26ekK6dHKWP",
        "outputId": "fb782384-0874-4385-e27e-a767724e02c0"
      },
      "execution_count": null,
      "outputs": [
        {
          "output_type": "stream",
          "name": "stdout",
          "text": [
            "dict_values([100, 200, 300, 200])\n",
            "<class 'dict_values'>\n"
          ]
        }
      ]
    },
    {
      "cell_type": "code",
      "source": [
        "a = {'a': 100, 'b': 200, 'x': 300, 'y': 200}\n",
        "b = a.keys()\n",
        "print(b)\n",
        "print(type(b))                 # class dict_keys"
      ],
      "metadata": {
        "colab": {
          "base_uri": "https://localhost:8080/"
        },
        "id": "EypYyFbaHiuR",
        "outputId": "e88c3fc4-0c60-430c-e77e-dcfb6d786289"
      },
      "execution_count": null,
      "outputs": [
        {
          "output_type": "stream",
          "name": "stdout",
          "text": [
            "dict_keys(['a', 'b', 'x', 'y'])\n",
            "<class 'dict_keys'>\n"
          ]
        }
      ]
    },
    {
      "cell_type": "code",
      "source": [
        "# extract values from dict and sum\n",
        "a = {'a': 100, 'b': 200, 'x': 300, 'y': 200}\n",
        "b = a.values()\n",
        "sum_values = sum(b)\n",
        "print(sum_values)"
      ],
      "metadata": {
        "colab": {
          "base_uri": "https://localhost:8080/"
        },
        "id": "kxN0pJeXHqfG",
        "outputId": "a74b3075-05cc-40dd-f70f-bd56875c1d68"
      },
      "execution_count": null,
      "outputs": [
        {
          "output_type": "stream",
          "name": "stdout",
          "text": [
            "800\n"
          ]
        }
      ]
    },
    {
      "cell_type": "code",
      "source": [
        "# multiply all items\n",
        "a = {'a': 100, 'b': 200, 'x': 300, 'y': 200}\n",
        "b = a.values()\n",
        "print(b)\n",
        "\n",
        "mul = 1\n",
        "for i in b:\n",
        "  mul = mul * i\n",
        "print(\"mul of values:\", mul)\n",
        "\n",
        "from functools import reduce\n",
        "#b = reduce(lambda x,y: x*y ,a)\n",
        "print(b)"
      ],
      "metadata": {
        "colab": {
          "base_uri": "https://localhost:8080/"
        },
        "id": "48iR6qErIA88",
        "outputId": "e3c17064-e2aa-48d8-8700-11d1f3f0f672"
      },
      "execution_count": null,
      "outputs": [
        {
          "output_type": "stream",
          "name": "stdout",
          "text": [
            "dict_values([100, 200, 300, 200])\n",
            "<class 'int'>\n",
            "<class 'int'>\n",
            "<class 'int'>\n",
            "<class 'int'>\n",
            "dict_values([100, 200, 300, 200])\n"
          ]
        }
      ]
    },
    {
      "cell_type": "code",
      "source": [
        "a = {'a': 100, 'b': 200, 'x': 300, 'y': 200}\n",
        "mul = 1\n",
        "for i in a:\n",
        "  b = mul * a[i]\n",
        "print(\"multiplication of values:\", b)"
      ],
      "metadata": {
        "colab": {
          "base_uri": "https://localhost:8080/"
        },
        "id": "2Qf3iyCmJQsJ",
        "outputId": "c7fc03fa-0e2c-41df-b219-65e91a332cb9"
      },
      "execution_count": null,
      "outputs": [
        {
          "output_type": "stream",
          "name": "stdout",
          "text": [
            "multiplication of values: 200\n"
          ]
        }
      ]
    },
    {
      "cell_type": "code",
      "source": [
        "# remove key from dict\n",
        "a = {'a': 100, 'b': 200, 'x': 300, 'y': 200}\n",
        "a.pop(\"x\")\n",
        "print(a)"
      ],
      "metadata": {
        "colab": {
          "base_uri": "https://localhost:8080/"
        },
        "id": "s43mjjNgIQxn",
        "outputId": "021320c1-2594-4e70-d50f-82ba196990b5"
      },
      "execution_count": null,
      "outputs": [
        {
          "output_type": "stream",
          "name": "stdout",
          "text": [
            "{'a': 100, 'b': 200, 'y': 200}\n"
          ]
        }
      ]
    },
    {
      "cell_type": "code",
      "source": [
        "# map two list into dict\n",
        "m = [1,3,5,7]\n",
        "l= [\"a\",\"b\",\"c\",\"d\"]\n",
        "d = dict(zip(m,l))\n",
        "print(d)\n",
        "\n",
        "e = dict(zip(l,m))\n",
        "print(e)"
      ],
      "metadata": {
        "colab": {
          "base_uri": "https://localhost:8080/"
        },
        "id": "AUetjgXyKLKC",
        "outputId": "bf21213f-a4b8-49d9-de2a-f1511d012287"
      },
      "execution_count": null,
      "outputs": [
        {
          "output_type": "stream",
          "name": "stdout",
          "text": [
            "{1: 'a', 3: 'b', 5: 'c', 7: 'd'}\n",
            "{'a': 1, 'b': 3, 'c': 5, 'd': 7}\n"
          ]
        }
      ]
    },
    {
      "cell_type": "code",
      "source": [
        "# sort given dict by key\n",
        "s = {'red':'#FF0000','green':'#008000','black':'#000000','white':'#FFFFFF'}\n",
        "for i in sorted(s):\n",
        "  print(i,\":\" ,s[i])"
      ],
      "metadata": {
        "colab": {
          "base_uri": "https://localhost:8080/"
        },
        "id": "a0xP5ofBL3Cj",
        "outputId": "992cf944-f45d-4bea-d19d-ab860db63fda"
      },
      "execution_count": null,
      "outputs": [
        {
          "output_type": "stream",
          "name": "stdout",
          "text": [
            "black : #000000\n",
            "green : #008000\n",
            "red : #FF0000\n",
            "white : #FFFFFF\n"
          ]
        }
      ]
    },
    {
      "cell_type": "code",
      "source": [
        "# maximum and minimum vals from values\n",
        "\n",
        "p = {'a': 100, 'b': 200, 'x': 300, 'y': 200}\n",
        "\n",
        "maxi = max(p.keys(), key= lambda x: p[x])\n",
        "print(\"maximum:\",maxi, \":\", p[maxi])\n",
        "\n",
        "mini = min(p.keys(), key=lambda x: p[x])\n",
        "print(\"minimum:\",mini,\":\",p[mini])\n"
      ],
      "metadata": {
        "colab": {
          "base_uri": "https://localhost:8080/"
        },
        "id": "T7dd-I9tMX3A",
        "outputId": "dc66ea86-f7b4-4217-ba92-56c2f5b245ca"
      },
      "execution_count": null,
      "outputs": [
        {
          "output_type": "stream",
          "name": "stdout",
          "text": [
            "maximum: x : 300\n",
            "minimum: a : 100\n"
          ]
        }
      ]
    },
    {
      "cell_type": "code",
      "source": [
        "# check dict is empty or not\n",
        "dic = {}\n",
        "\n",
        "if not (dic):\n",
        "  print(\"Dictionary is empty\")\n",
        "\n",
        "\n",
        "# another method\n",
        "if len(dic) == 0:\n",
        "  print(\"dict is empty\")\n",
        "else:\n",
        "  print(\"dict has something\")\n",
        "\n",
        "# another method\n",
        "if dic == {}:\n",
        "  print(\"dict is empty\")\n",
        "else:\n",
        "  print(\"dict has something\")\n",
        "\n",
        "# to check list empty or not!!\n",
        "li = []\n",
        "if not bool(li):\n",
        "  print(\"list is empty\")"
      ],
      "metadata": {
        "colab": {
          "base_uri": "https://localhost:8080/"
        },
        "id": "tGn_3JjJhP0n",
        "outputId": "92bd0a68-f4a9-406a-cd4b-47bf10d76f1c"
      },
      "execution_count": null,
      "outputs": [
        {
          "output_type": "stream",
          "name": "stdout",
          "text": [
            "Dictionary is empty\n",
            "dict is empty\n",
            "dict is empty\n",
            "list is empty\n"
          ]
        }
      ]
    },
    {
      "cell_type": "code",
      "source": [
        "# combine two dict (add elements with same key)\n",
        "# when elemts are same\n",
        "\n",
        "d1 = {'a': 100, 'b': 200, 'c':300}\n",
        "d2 = {'a': 300, 'b': 200, 'c':400}\n",
        "\n",
        "\n",
        "d = {i: d1[i] + d2[i] for i in d1.keys()}\n",
        "print(d)"
      ],
      "metadata": {
        "colab": {
          "base_uri": "https://localhost:8080/"
        },
        "id": "EXXUELl9jJwN",
        "outputId": "d5e7a250-548e-4428-82bf-c8bb118593ae"
      },
      "execution_count": null,
      "outputs": [
        {
          "output_type": "stream",
          "name": "stdout",
          "text": [
            "{'a': 400, 'b': 400, 'c': 700}\n"
          ]
        }
      ]
    },
    {
      "cell_type": "code",
      "source": [
        "from collections import Counter\n",
        "d1 = {'a': 100, 'b': 200, 'c':300}\n",
        "d2 = {'a': 300, 'b': 200, 'd':400}\n",
        "d = Counter(d1) + Counter(d2)\n",
        "print(d)"
      ],
      "metadata": {
        "colab": {
          "base_uri": "https://localhost:8080/"
        },
        "id": "iXAiVQPDl9p2",
        "outputId": "0f680625-c10c-493b-d4e4-52fccee5f77a"
      },
      "execution_count": null,
      "outputs": [
        {
          "output_type": "stream",
          "name": "stdout",
          "text": [
            "Counter({'a': 400, 'b': 400, 'd': 400, 'c': 300})\n"
          ]
        }
      ]
    },
    {
      "cell_type": "code",
      "source": [
        "# **operator used for unpacking purpose\n",
        "k = {'John': 15, 'Rick': 10, 'Misa': 12}\n",
        "print({**k})"
      ],
      "metadata": {
        "colab": {
          "base_uri": "https://localhost:8080/"
        },
        "id": "wEOrZFy5mGFe",
        "outputId": "f08017ab-721d-40fb-a42c-6ab457699f7c"
      },
      "execution_count": null,
      "outputs": [
        {
          "output_type": "stream",
          "name": "stdout",
          "text": [
            "{'John': 15, 'Rick': 10, 'Misa': 12}\n"
          ]
        }
      ]
    },
    {
      "cell_type": "code",
      "source": [
        "# convert list of dict into single dict\n",
        "a = [{\"V\":\"S001\"}, {\"V\": \"S002\"}, {\"VI\": \"S001\"}, {\"VI\": \"S005\"}, {\"VII\":\"S005\"}, {\"V\":\"S009\"},{\"VIII\":\"S007\"}]\n",
        "print(type(a))\n",
        "print(len(a))\n",
        "b = {}\n",
        "for i in a:\n",
        "  b.update(i)\n",
        "print(b)\n",
        "print(type(b))\n",
        "print(len(b))"
      ],
      "metadata": {
        "colab": {
          "base_uri": "https://localhost:8080/"
        },
        "id": "vtukbhkdpXBK",
        "outputId": "97fee245-bb37-412a-ea72-fb07b7d824a1"
      },
      "execution_count": null,
      "outputs": [
        {
          "output_type": "stream",
          "name": "stdout",
          "text": [
            "<class 'list'>\n",
            "7\n",
            "{'V': 'S009', 'VI': 'S005', 'VII': 'S005', 'VIII': 'S007'}\n",
            "<class 'dict'>\n",
            "4\n"
          ]
        }
      ]
    },
    {
      "cell_type": "code",
      "source": [
        "# print unique values\n",
        "a = [{\"V\":\"S001\"}, {\"V\": \"S002\"}, {\"VI\": \"S001\"}, {\"VI\": \"S005\"}, {\"VII\":\"S005\"}, {\"V\":\"S009\"},{\"VIII\":\"S007\"}]\n",
        "c = {}\n",
        "\n",
        "for i in a:\n",
        "  c.update(i)                 # duplicates not possible in dictionary hence same key name not get updated\n",
        "print(c)\n",
        "\n",
        "b = []\n",
        "for i in c.values():\n",
        "  if i not in b:\n",
        "    b.append(i)\n",
        "print(b)"
      ],
      "metadata": {
        "colab": {
          "base_uri": "https://localhost:8080/"
        },
        "id": "ovTcZ3ccnoJd",
        "outputId": "e4a6ae1d-acb7-4151-a59f-704b040b7425"
      },
      "execution_count": null,
      "outputs": [
        {
          "output_type": "stream",
          "name": "stdout",
          "text": [
            "{'V': 'S009', 'VI': 'S005', 'VII': 'S005', 'VIII': 'S007'}\n",
            "['S009', 'S005', 'S007']\n"
          ]
        }
      ]
    },
    {
      "cell_type": "code",
      "source": [
        "# find 1st 3 largest digits\n",
        "x = {'a':500, 'b':5874, 'c': 560,'d':400, 'e':5874, 'f': 20}  \n",
        "from heapq import nlargest\n",
        "y = nlargest(3, x, key=x.get)\n",
        "print(y)"
      ],
      "metadata": {
        "colab": {
          "base_uri": "https://localhost:8080/"
        },
        "id": "BRnLCGHZq7W9",
        "outputId": "dc46e993-6f39-4718-abdc-f82b7580252b"
      },
      "execution_count": null,
      "outputs": [
        {
          "output_type": "stream",
          "name": "stdout",
          "text": [
            "['b', 'e', 'c']\n"
          ]
        }
      ]
    },
    {
      "cell_type": "code",
      "source": [
        "# find 1st 3 largest digits\n",
        "a = [1,2,3,4,5,6,7,8,9]\n",
        "\n",
        "b = []\n",
        "for i in range(len(a)):\n",
        "  b.append(max(a))\n",
        "  if max(a) in b:\n",
        "    a.remove(max(a))\n",
        "    if len(b) == 3:\n",
        "      break\n",
        "\n",
        "print(sorted(b))\n",
        "\n",
        "\n",
        "# another method\n",
        "from heapq import nlargest\n",
        "c = nlargest(3, a)\n",
        "print(c)"
      ],
      "metadata": {
        "colab": {
          "base_uri": "https://localhost:8080/"
        },
        "id": "6rP4JGTorZfT",
        "outputId": "a60140fd-54de-497c-b3df-15be82121d5a"
      },
      "execution_count": null,
      "outputs": [
        {
          "output_type": "stream",
          "name": "stdout",
          "text": [
            "[7, 8, 9]\n",
            "[6, 5, 4]\n"
          ]
        }
      ]
    },
    {
      "cell_type": "code",
      "source": [
        "a = [1,2,3,4,5,6,7,8,9]\n",
        "from heapq import nlargest\n",
        "c = nlargest(3, a)\n",
        "print(c)"
      ],
      "metadata": {
        "colab": {
          "base_uri": "https://localhost:8080/"
        },
        "id": "vlsI_jb2sXlD",
        "outputId": "92d8d411-3793-490f-8957-6d1908da54c1"
      },
      "execution_count": null,
      "outputs": [
        {
          "output_type": "stream",
          "name": "stdout",
          "text": [
            "[9, 8, 7]\n"
          ]
        }
      ]
    },
    {
      "cell_type": "code",
      "source": [
        "# sum individual key\n",
        "student = [{'id': 1, 'success': True, 'name': 'Lary'},\n",
        " {'id': 2, 'success': False, 'name': 'Rabi'},\n",
        " {'id': 3, 'success': True, 'name': 'Alex'}]\n",
        "\n",
        "print(sum(d[\"id\"] for d in student))\n",
        "print(sum(d[\"success\"] for d in student))\n",
        " "
      ],
      "metadata": {
        "colab": {
          "base_uri": "https://localhost:8080/"
        },
        "id": "UhsZQ9xqxGae",
        "outputId": "b889e68e-2e0c-40ee-9995-035d7cd56c24"
      },
      "execution_count": null,
      "outputs": [
        {
          "output_type": "stream",
          "name": "stdout",
          "text": [
            "6\n",
            "2\n"
          ]
        }
      ]
    },
    {
      "cell_type": "code",
      "source": [
        "num = {'n1': [2, 3, 1], 'n2': [5, 1, 2], 'n3': [3, 2, 4]}\n",
        "a = {x:sorted(y) for x,y in num.items()}\n",
        "print(a)"
      ],
      "metadata": {
        "colab": {
          "base_uri": "https://localhost:8080/"
        },
        "id": "Mx-UXSMEx3E_",
        "outputId": "f4461279-e3b7-45b7-bf9a-e27168b28bdb"
      },
      "execution_count": null,
      "outputs": [
        {
          "output_type": "stream",
          "name": "stdout",
          "text": [
            "{'n1': [1, 2, 3], 'n2': [1, 2, 5], 'n3': [2, 3, 4]}\n"
          ]
        }
      ]
    },
    {
      "cell_type": "code",
      "source": [
        "a = {'Aex':{'class':'V','rolld_id':2},'Puja':{'class':'V','roll_id':3}}\n",
        "\n",
        "for i in a:\n",
        "  print(a[i])\n",
        "  for j in a[i]:\n",
        "    print(j, a[i][j])"
      ],
      "metadata": {
        "colab": {
          "base_uri": "https://localhost:8080/"
        },
        "id": "_351HVyByv62",
        "outputId": "1f7fca90-1b07-496c-82a8-3109548aff4f"
      },
      "execution_count": null,
      "outputs": [
        {
          "output_type": "stream",
          "name": "stdout",
          "text": [
            "{'class': 'V', 'rolld_id': 2}\n",
            "class V\n",
            "rolld_id 2\n",
            "{'class': 'V', 'roll_id': 3}\n",
            "class V\n",
            "roll_id 3\n"
          ]
        }
      ]
    },
    {
      "cell_type": "code",
      "source": [
        "# find number of values present in gven dict\n",
        "dict =  {'Alex': ['subj1', 'subj2', 'subj3'], 'David': ['subj1', 'subj2']}\n",
        "ctr = sum(map(len, dict.values()))\n",
        "print(ctr)"
      ],
      "metadata": {
        "colab": {
          "base_uri": "https://localhost:8080/"
        },
        "id": "kU7TelMP0v6d",
        "outputId": "c2cb1b4e-1c98-470a-f17c-2df7aed3514e"
      },
      "execution_count": null,
      "outputs": [
        {
          "output_type": "stream",
          "name": "stdout",
          "text": [
            "5\n"
          ]
        }
      ]
    },
    {
      "cell_type": "code",
      "source": [
        "marks = {'Cierra Vega': 175, 'Alden Cantrell': 180, 'Kierra Gentry': 165, 'Pierre Cox': 190}\n",
        "b = marks.values()\n",
        "print(b)\n",
        "c = {key:value for (key,value) in marks.items() if value > 170}\n",
        "print(c)"
      ],
      "metadata": {
        "colab": {
          "base_uri": "https://localhost:8080/"
        },
        "id": "dekSAV9J2aCa",
        "outputId": "d028d973-7b98-4413-9114-b8414ac17957"
      },
      "execution_count": null,
      "outputs": [
        {
          "output_type": "stream",
          "name": "stdout",
          "text": [
            "dict_values([175, 180, 165, 190])\n",
            "{'Cierra Vega': 175, 'Alden Cantrell': 180, 'Pierre Cox': 190}\n"
          ]
        }
      ]
    },
    {
      "cell_type": "code",
      "source": [
        "# find out height and weight more than 6,70\n",
        "a = {'Cierra Vega': (6.2, 70), 'Alden Cantrell': (5.9, 65), 'Kierra Gentry': (6.0, 68), 'Pierre Cox': (5.8, 66)}\n",
        "res = {x:y for (x,y) in a.items() if y[0] >= 6 and y[1] >= 70}\n",
        "print(res)"
      ],
      "metadata": {
        "colab": {
          "base_uri": "https://localhost:8080/"
        },
        "id": "ATYQc1T56KfO",
        "outputId": "07123390-1b35-4a8d-9f5c-266eff46ca81"
      },
      "execution_count": null,
      "outputs": [
        {
          "output_type": "stream",
          "name": "stdout",
          "text": [
            "{'Cierra Vega': (6.2, 70)}\n"
          ]
        }
      ]
    },
    {
      "cell_type": "code",
      "source": [
        "# check all values are same\n",
        "a = {'Cierra Vega': 12, 'Alden Cantrell': 12, 'Kierra Gentry': 12, 'Pierre Cox': 12}\n",
        "def check(a, n):\n",
        "    result = all(x == n for x in a.values()) \n",
        "    return result\n",
        "\n",
        "print(check(a,12))"
      ],
      "metadata": {
        "colab": {
          "base_uri": "https://localhost:8080/"
        },
        "id": "vqv7O8yb7hS0",
        "outputId": "4f8da850-316a-4e45-b387-5f27468eb194"
      },
      "execution_count": null,
      "outputs": [
        {
          "output_type": "stream",
          "name": "stdout",
          "text": [
            "True\n"
          ]
        }
      ]
    },
    {
      "cell_type": "code",
      "source": [
        "# access dictionary by index number\n",
        "num = {'physics': 80, 'math': 90, 'chemistry': 86}\n",
        "num = list(num)\n",
        "print(num)\n",
        "print(num[0])"
      ],
      "metadata": {
        "colab": {
          "base_uri": "https://localhost:8080/"
        },
        "id": "ow4F7LVm8o9e",
        "outputId": "32e8e8d8-2aa1-4552-9131-b3f4e45e4f94"
      },
      "execution_count": null,
      "outputs": [
        {
          "output_type": "stream",
          "name": "stdout",
          "text": [
            "['physics', 'math', 'chemistry']\n",
            "physics\n"
          ]
        }
      ]
    },
    {
      "cell_type": "code",
      "source": [
        "# converrt dict into list of list\n",
        "a = {1 : 'red', 2 : 'green', 3 : 'black', 4 : 'white', 5 : 'black'}\n",
        "a = list(map(list, a.items()))\n",
        "print(a)"
      ],
      "metadata": {
        "colab": {
          "base_uri": "https://localhost:8080/"
        },
        "id": "56J6xU60kgiH",
        "outputId": "98dde034-a1ae-446f-cd22-6f7442b10ccf"
      },
      "execution_count": null,
      "outputs": [
        {
          "output_type": "stream",
          "name": "stdout",
          "text": [
            "[[1, 'red'], [2, 'green'], [3, 'black'], [4, 'white'], [5, 'black']]\n"
          ]
        }
      ]
    },
    {
      "cell_type": "code",
      "source": [
        "# print only values of even nums \n",
        "a = {'V': [1, 4, 6, 10], 'VI': [1, 4, 12], 'VII': [1, 3, 8]}\n",
        "b = {x:[i for i in y if i%2==0] for (x,y) in a.items()}\n",
        "print(b)"
      ],
      "metadata": {
        "colab": {
          "base_uri": "https://localhost:8080/"
        },
        "id": "4KAx2EesnfJr",
        "outputId": "830b4a8c-a0eb-40e4-8f52-5df75199778d"
      },
      "execution_count": null,
      "outputs": [
        {
          "output_type": "stream",
          "name": "stdout",
          "text": [
            "{'V': [4, 6, 10], 'VI': [4, 12], 'VII': [8]}\n"
          ]
        }
      ]
    },
    {
      "cell_type": "code",
      "source": [
        "a = {'a': 5, 'b': 14, 'c': 32, 'd': 35, 'e': 24, 'f': 100, 'g': 57, 'h': 8, 'i': 100}\n",
        "from heapq import nlargest\n",
        "b = nlargest(1, a, key = a.get)\n",
        "print(b)\n",
        "\n",
        "b = nlargest(3, a, key=a.get)\n",
        "print(b)\n",
        "\n",
        "b = nlargest(5, a, a.get)\n",
        "print(b)\n"
      ],
      "metadata": {
        "colab": {
          "base_uri": "https://localhost:8080/"
        },
        "id": "6LdOgadMOiUE",
        "outputId": "7cc9af08-1c7b-422d-f987-e4e76c2837fa"
      },
      "execution_count": null,
      "outputs": [
        {
          "output_type": "stream",
          "name": "stdout",
          "text": [
            "['f']\n",
            "['f', 'i', 'g']\n",
            "['f', 'i', 'g', 'd', 'c']\n"
          ]
        }
      ]
    },
    {
      "cell_type": "code",
      "source": [
        "# identify shortest values \n",
        "a = {'V': [10, 12], 'VI': [10], 'VII': [10, 20, 30, 40], 'VIII': [20], 'IX': [10, 30, 50, 70], 'X': [80]}\n",
        "\n",
        "b = {x:y for x,y in a.items() if len(y)==1}                        # for both key and values\n",
        "print(b)\n",
        "\n",
        "b = {x for x,y in a.items() if len(y)==1}                        # only for key elements\n",
        "print(b)\n"
      ],
      "metadata": {
        "colab": {
          "base_uri": "https://localhost:8080/"
        },
        "id": "zhoG7T6VUQ7i",
        "outputId": "02943ae9-e0b4-4993-b650-7c7a6d8cf960"
      },
      "execution_count": null,
      "outputs": [
        {
          "output_type": "stream",
          "name": "stdout",
          "text": [
            "{'VI': [10], 'VIII': [20], 'X': [80]}\n",
            "{'VIII', 'VI', 'X'}\n"
          ]
        }
      ]
    },
    {
      "cell_type": "code",
      "source": [
        "# frequency of given num values\n",
        "\n",
        "a = {'V': 10, 'VI': 10, 'VII': 40, 'VIII': 20, 'IX': 70, 'X': 80, 'XI': 40, 'XII': 20}\n",
        "\n",
        "from collections import Counter\n",
        "def test(a):    \n",
        "    result = Counter(a.values())\n",
        "    return result\n",
        "print(test(a))"
      ],
      "metadata": {
        "colab": {
          "base_uri": "https://localhost:8080/"
        },
        "id": "zvjNze0RYm9Z",
        "outputId": "1ec988a8-357d-405e-c1d2-08d9ea50b193"
      },
      "execution_count": null,
      "outputs": [
        {
          "output_type": "stream",
          "name": "stdout",
          "text": [
            "{'V': 1, 'VI': 1, 'VII': 1, 'VIII': 1, 'IX': 1, 'X': 1, 'XI': 1, 'XII': 1}\n",
            "{70, 40, 10, 80, 20}\n",
            "Counter({10: 2, 40: 2, 20: 2, 70: 1, 80: 1})\n"
          ]
        }
      ]
    },
    {
      "cell_type": "code",
      "source": [
        "# separate duplicate values.\n",
        "a = {'V': 10, 'VI': 10, 'VII': 40, 'VIII': 20, 'IX': 70, 'X': 80, 'XI': 40, 'XII': 20}\n",
        "c = []\n",
        "d = []\n",
        "count = 0\n",
        "for i in a.values():\n",
        "  #print(type(i))\n",
        "  if i not in c:\n",
        "    c.append(i)\n",
        "  else:\n",
        "    d.append(i)\n",
        "\n",
        "print(c)\n",
        "print(d)"
      ],
      "metadata": {
        "colab": {
          "base_uri": "https://localhost:8080/"
        },
        "id": "6WoQQby6aWYA",
        "outputId": "99b3d810-3096-490e-b498-27a77e417970"
      },
      "execution_count": null,
      "outputs": [
        {
          "output_type": "stream",
          "name": "stdout",
          "text": [
            "[10, 40, 20, 70, 80]\n",
            "[10, 40, 20]\n"
          ]
        }
      ]
    },
    {
      "cell_type": "code",
      "source": [
        "# count occurance of values\n",
        "\n",
        "a = {'V': 10, 'VI': 10, 'VII': 40, 'VIII': 20, 'IX': 70, 'X': 80, 'XI': 40, 'XII': 20}\n",
        " \n",
        "x = a.values()                         # extract values from dict\n",
        "x = list(x)                                # dict_values has no attribute count, hence convert it to list\n",
        "print(x)\n",
        "e = {}                           # empty dict to update values\n",
        "for i in x:\n",
        "  count = x.count(i)                      # x is list of dict values\n",
        "  e[i] = count\n",
        "print(e)"
      ],
      "metadata": {
        "colab": {
          "base_uri": "https://localhost:8080/"
        },
        "id": "A-YnCVXqcQqk",
        "outputId": "4fe2a6fc-92cc-43cb-8316-ba565a2faf07"
      },
      "execution_count": null,
      "outputs": [
        {
          "output_type": "stream",
          "name": "stdout",
          "text": [
            "[10, 10, 40, 20, 70, 80, 40, 20]\n",
            "{10: 2, 40: 2, 20: 2, 70: 1, 80: 1}\n"
          ]
        }
      ]
    },
    {
      "cell_type": "code",
      "source": [
        "# frequency of given num values\n",
        "\n",
        "a = {'V': 10, 'VI': 10, 'VII': 40, 'VIII': 20, 'IX': 70, 'X': 80, 'XI': 40, 'XII': 20}\n",
        "\n",
        "from collections import Counter\n",
        "def test(a):    \n",
        "    result = Counter(a.values())\n",
        "    return result\n",
        "print(test(a))"
      ],
      "metadata": {
        "colab": {
          "base_uri": "https://localhost:8080/"
        },
        "id": "q5ep1NkuckVZ",
        "outputId": "a5b9704b-4dc1-4cac-ed68-b73ab40728c3"
      },
      "execution_count": null,
      "outputs": [
        {
          "output_type": "stream",
          "name": "stdout",
          "text": [
            "Counter({10: 2, 40: 2, 20: 2, 70: 1, 80: 1})\n"
          ]
        }
      ]
    },
    {
      "cell_type": "code",
      "source": [
        "# get the total length of all values of a given dictionary with string values. Go to the editor\n",
        "a = {'#FF0000': 'Red', '#800000': 'Maroon', '#FFFF00': 'Yellow', '#808000': 'Olive'}\n",
        "\n",
        "count = 0\n",
        "for i in a.values():\n",
        "  print(i, end=\" \")\n",
        "  count = count + len(i)\n",
        "print(\"\\ntotal count of string value is:\", count)\n"
      ],
      "metadata": {
        "colab": {
          "base_uri": "https://localhost:8080/"
        },
        "id": "a8HRc492ctwI",
        "outputId": "ac08d5a0-41d6-4357-a1f6-1700a5a93159"
      },
      "execution_count": null,
      "outputs": [
        {
          "output_type": "stream",
          "name": "stdout",
          "text": [
            "Red Maroon Yellow Olive \n",
            "total count of string value is: 20\n"
          ]
        }
      ]
    },
    {
      "cell_type": "code",
      "source": [
        "# combine 2 dict\n",
        "a = {'w': 50, 'x': 100, 'y': 'Green', 'z': 400}\n",
        "b = {'x': 300, 'y': 'Red', 'z': 600}\n",
        "c = []\n",
        "for i in a,b:\n",
        "  for x in i:\n",
        "    print(x)\n",
        "    print(i[x])\n",
        "    print(c[x])\n",
        "    #c[x].append(i[x])\n",
        "print(c)\n",
        "\n",
        "\n",
        "    "
      ],
      "metadata": {
        "colab": {
          "base_uri": "https://localhost:8080/",
          "height": 269
        },
        "id": "KpyB66oOiTsp",
        "outputId": "09b101fc-5f7e-45f4-ba2e-3bf6b920969c"
      },
      "execution_count": null,
      "outputs": [
        {
          "output_type": "stream",
          "name": "stdout",
          "text": [
            "w\n",
            "50\n"
          ]
        },
        {
          "output_type": "error",
          "ename": "TypeError",
          "evalue": "ignored",
          "traceback": [
            "\u001b[0;31m---------------------------------------------------------------------------\u001b[0m",
            "\u001b[0;31mTypeError\u001b[0m                                 Traceback (most recent call last)",
            "\u001b[0;32m<ipython-input-113-c0f18a9dd8fa>\u001b[0m in \u001b[0;36m<module>\u001b[0;34m\u001b[0m\n\u001b[1;32m      7\u001b[0m     \u001b[0mprint\u001b[0m\u001b[0;34m(\u001b[0m\u001b[0mx\u001b[0m\u001b[0;34m)\u001b[0m\u001b[0;34m\u001b[0m\u001b[0;34m\u001b[0m\u001b[0m\n\u001b[1;32m      8\u001b[0m     \u001b[0mprint\u001b[0m\u001b[0;34m(\u001b[0m\u001b[0mi\u001b[0m\u001b[0;34m[\u001b[0m\u001b[0mx\u001b[0m\u001b[0;34m]\u001b[0m\u001b[0;34m)\u001b[0m\u001b[0;34m\u001b[0m\u001b[0;34m\u001b[0m\u001b[0m\n\u001b[0;32m----> 9\u001b[0;31m     \u001b[0mprint\u001b[0m\u001b[0;34m(\u001b[0m\u001b[0mc\u001b[0m\u001b[0;34m[\u001b[0m\u001b[0mx\u001b[0m\u001b[0;34m]\u001b[0m\u001b[0;34m)\u001b[0m\u001b[0;34m\u001b[0m\u001b[0;34m\u001b[0m\u001b[0m\n\u001b[0m\u001b[1;32m     10\u001b[0m     \u001b[0;31m#c[x].append(i[x])\u001b[0m\u001b[0;34m\u001b[0m\u001b[0;34m\u001b[0m\u001b[0;34m\u001b[0m\u001b[0m\n\u001b[1;32m     11\u001b[0m \u001b[0mprint\u001b[0m\u001b[0;34m(\u001b[0m\u001b[0mc\u001b[0m\u001b[0;34m)\u001b[0m\u001b[0;34m\u001b[0m\u001b[0;34m\u001b[0m\u001b[0m\n",
            "\u001b[0;31mTypeError\u001b[0m: list indices must be integers or slices, not str"
          ]
        }
      ]
    },
    {
      "cell_type": "code",
      "source": [
        "from collections import defaultdict\n",
        "def test(*dicts):\n",
        "  result = defaultdict(list)\n",
        "  for el in dicts:\n",
        "    for key in el:\n",
        "      result[key].append(el[key])\n",
        "  return dict(result)"
      ],
      "metadata": {
        "id": "P08Ap9pdnbbr"
      },
      "execution_count": null,
      "outputs": []
    }
  ]
}