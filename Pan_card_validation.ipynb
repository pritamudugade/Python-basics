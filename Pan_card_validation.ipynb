{
  "nbformat": 4,
  "nbformat_minor": 0,
  "metadata": {
    "colab": {
      "provenance": [],
      "authorship_tag": "ABX9TyNynak6EraWwyneQBKlfEZO",
      "include_colab_link": true
    },
    "kernelspec": {
      "name": "python3",
      "display_name": "Python 3"
    },
    "language_info": {
      "name": "python"
    },
    "accelerator": "GPU",
    "gpuClass": "standard"
  },
  "cells": [
    {
      "cell_type": "markdown",
      "metadata": {
        "id": "view-in-github",
        "colab_type": "text"
      },
      "source": [
        "<a href=\"https://colab.research.google.com/github/pritamudugade/Python-basics/blob/main/Pan_card_validation.ipynb\" target=\"_parent\"><img src=\"https://colab.research.google.com/assets/colab-badge.svg\" alt=\"Open In Colab\"/></a>"
      ]
    },
    {
      "cell_type": "code",
      "execution_count": null,
      "metadata": {
        "colab": {
          "base_uri": "https://localhost:8080/"
        },
        "id": "GF8v2K0Qsd4V",
        "outputId": "e031200a-a952-4ecb-9aa7-deee4b4968cb"
      },
      "outputs": [
        {
          "output_type": "stream",
          "name": "stdout",
          "text": [
            "Pan card number is valid!!!!!\n"
          ]
        }
      ],
      "source": [
        "\"\"\"\n",
        "# pan card validation...\n",
        "\n",
        "# Rules are as follows,\n",
        "1. alphabet should be in upper case- any letter A to Z\n",
        "2. Number should be at 6-9 position\n",
        "3. 4th Character must be from given char list\n",
        "4. 5th Charachter must be same as 1st char\n",
        "5. last char should be any alphabet\n",
        "\n",
        "\"\"\"\n",
        "ch = [\"A\",\"B\",\"C\",\"F\",\"G\",\"H\",\"L\",\"J\",\"P\",\"T\",\"K\"]           # given chars\n",
        "\n",
        "pan = \"HKCFH5336A\"\n",
        "\n",
        "if len(pan) == 10:\n",
        "    if pan[:4].isupper():\n",
        "        if pan[3] in ch:\n",
        "            if pan[4] == pan[0]:\n",
        "                if pan[5:9].isdigit():\n",
        "                    if pan[-1].isalpha():\n",
        "                        print(\"Pan card number is valid!!!!!\")\n",
        "                    else:\n",
        "                        print(\"invalid pan\")\n",
        "                else:\n",
        "                    print(\"invalid pan\")\n",
        "            else:\n",
        "                print(\"invalid pan\")\n",
        "        else:\n",
        "            print(\"invalid pan\")\n",
        "    else:\n",
        "        print(\"invalid pan\")\n",
        "else:\n",
        "    print(\"invalid pan\")\n"
      ]
    }
  ]
}