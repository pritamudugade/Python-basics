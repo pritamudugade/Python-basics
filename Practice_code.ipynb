{
  "cells": [
    {
      "cell_type": "markdown",
      "metadata": {
        "id": "view-in-github",
        "colab_type": "text"
      },
      "source": [
        "<a href=\"https://colab.research.google.com/github/pritamudugade/Python-basics-codes/blob/main/Practice_code.ipynb\" target=\"_parent\"><img src=\"https://colab.research.google.com/assets/colab-badge.svg\" alt=\"Open In Colab\"/></a>"
      ]
    },
    {
      "cell_type": "code",
      "execution_count": null,
      "metadata": {
        "colab": {
          "base_uri": "https://localhost:8080/"
        },
        "id": "hZYUWptzT6jL",
        "outputId": "f9fa7285-11b3-4393-c89c-7dab007e1aee"
      },
      "outputs": [
        {
          "name": "stdout",
          "output_type": "stream",
          "text": [
            "[1, 4, 9]\n"
          ]
        }
      ],
      "source": [
        "l= [1,2,3]\n",
        "k = [x**2 for x in l ] ##if x%2==0\n",
        "print(k)"
      ]
    },
    {
      "cell_type": "code",
      "execution_count": null,
      "metadata": {
        "colab": {
          "base_uri": "https://localhost:8080/"
        },
        "id": "XkyIZ4iG0nri",
        "outputId": "6f6211c1-aaaa-4aca-8065-22178a029f19"
      },
      "outputs": [
        {
          "name": "stdout",
          "output_type": "stream",
          "text": [
            "     * \n",
            "    * * \n",
            "   * * * \n",
            "  * * * * \n",
            " * * * * * \n",
            "* * * * * * \n"
          ]
        }
      ],
      "source": [
        "num = 6\n",
        "for i in range(0,num):\n",
        "    for j in range(num-i-1):\n",
        "        print(end=\" \")\n",
        "    for j in range (0,i+1):\n",
        "        print(\"*\", end=\" \")\n",
        "    print()"
      ]
    },
    {
      "cell_type": "code",
      "execution_count": null,
      "metadata": {
        "colab": {
          "base_uri": "https://localhost:8080/"
        },
        "id": "QXW5aok2nBlD",
        "outputId": "e478b2eb-f214-4261-cdbb-d6ac5765ca74"
      },
      "outputs": [
        {
          "name": "stdout",
          "output_type": "stream",
          "text": [
            "* * * * * * * \n",
            " * * * * * * \n",
            "  * * * * * \n",
            "   * * * * \n",
            "    * * * \n",
            "     * * \n"
          ]
        }
      ],
      "source": [
        "num = 6\n",
        "for i in range(num,0,-1):\n",
        "    for j in range(num-i):\n",
        "        print(end=\" \")\n",
        "    for j in range (0,i+1):\n",
        "        print(\"*\", end=\" \")\n",
        "    print()"
      ]
    },
    {
      "cell_type": "code",
      "execution_count": null,
      "metadata": {
        "colab": {
          "base_uri": "https://localhost:8080/"
        },
        "id": "MRdadGaBRpyA",
        "outputId": "0f2ee6dc-d045-45ee-d8cc-9348b9d220a0"
      },
      "outputs": [
        {
          "name": "stdout",
          "output_type": "stream",
          "text": [
            "[[('M', 'y'), ('na', 'me'), ('i', 's'), ('Ke', 'lly')]]\n"
          ]
        }
      ],
      "source": [
        "list1 = [\"M\", \"na\", \"i\", \"Ke\"] \n",
        "list2 = [\"y\", \"me\", \"s\", \"lly\"]\n",
        "list3 = [list(zip(list1, list2))]\n",
        "print(list3)"
      ]
    },
    {
      "cell_type": "code",
      "execution_count": null,
      "metadata": {
        "colab": {
          "base_uri": "https://localhost:8080/"
        },
        "id": "j1ne88DZSAGW",
        "outputId": "2983c5d5-d5f6-4d4d-cd9b-2ad146afc779"
      },
      "outputs": [
        {
          "name": "stdout",
          "output_type": "stream",
          "text": [
            "['My', 'name', 'is', 'Kelly']\n"
          ]
        }
      ],
      "source": [
        "list1 = [\"M\", \"na\", \"i\", \"Ke\"] \n",
        "list2 = [\"y\", \"me\", \"s\", \"lly\"]\n",
        "list3 = [i + j for i, j in zip(list1, list2)]\n",
        "print(list3)"
      ]
    },
    {
      "cell_type": "code",
      "execution_count": null,
      "metadata": {
        "colab": {
          "base_uri": "https://localhost:8080/"
        },
        "id": "jW17RSAySsu8",
        "outputId": "e3b75b9f-d25c-49c4-a664-4adbe71d2932"
      },
      "outputs": [
        {
          "name": "stdout",
          "output_type": "stream",
          "text": [
            "[[('Hello ', 'Dear'), ('take ', 'Sir')]]\n"
          ]
        }
      ],
      "source": [
        "\n",
        "list1 = [\"Hello \", \"take \"]\n",
        "list2 = [\"Dear\", \"Sir\"]\n",
        "\n",
        "res = [list(zip( list1, list2))]\n",
        "print(res)"
      ]
    },
    {
      "cell_type": "code",
      "execution_count": null,
      "metadata": {
        "colab": {
          "base_uri": "https://localhost:8080/"
        },
        "id": "YOP2TSTBUqlK",
        "outputId": "aaa8cf87-d756-4fb7-a8a0-8d85d04624e1"
      },
      "outputs": [
        {
          "name": "stdout",
          "output_type": "stream",
          "text": [
            "['Mike', 'Emma', 'Kelly', 'Brad']\n"
          ]
        }
      ],
      "source": [
        "\n",
        "list1 = [\"Mike\", \"\", \"Emma\", \"Kelly\", \"\", \"Brad\"]\n",
        "\n",
        "# remove None from list1 and convert result into list\n",
        "res = list(filter(None, list1))\n",
        "print(res)"
      ]
    },
    {
      "cell_type": "code",
      "execution_count": null,
      "metadata": {
        "colab": {
          "base_uri": "https://localhost:8080/"
        },
        "id": "EAmyiio1lLSo",
        "outputId": "072cc43c-4423-4b96-bb1a-d77e89255f11"
      },
      "outputs": [
        {
          "output_type": "stream",
          "name": "stdout",
          "text": [
            "False\n",
            "True\n"
          ]
        }
      ],
      "source": [
        "A = \"HELLO PYTHON\"\n",
        "import time\n",
        "time.sleep(5)\n",
        "print(A.islower())\n",
        "time.sleep(5)\n",
        "print(A.isupper())"
      ]
    },
    {
      "cell_type": "code",
      "execution_count": null,
      "metadata": {
        "colab": {
          "base_uri": "https://localhost:8080/"
        },
        "id": "nmj_ew2qYFCL",
        "outputId": "a14e9f59-72f3-493f-8fde-148e5819b230"
      },
      "outputs": [
        {
          "data": {
            "text/plain": [
              "datetime.datetime(2022, 12, 10, 0, 0)"
            ]
          },
          "execution_count": 4,
          "metadata": {},
          "output_type": "execute_result"
        }
      ],
      "source": [
        "import datetime\n",
        "datetime.datetime(2022,12,10)"
      ]
    },
    {
      "cell_type": "code",
      "execution_count": null,
      "metadata": {
        "colab": {
          "base_uri": "https://localhost:8080/",
          "height": 218
        },
        "id": "NhEdTmY4ihMI",
        "outputId": "43e79bf6-69c4-4b3a-c583-13a0bff5f45f"
      },
      "outputs": [
        {
          "data": {
            "image/png": "[encoded data removed]",
            "text/plain": [
              "<Figure size 432x288 with 1 Axes>"
            ]
          },
          "metadata": {},
          "output_type": "display_data"
        }
      ],
      "source": [
        "share = [98,56,78]\n",
        "company = [\"tata\",\"CRL\",\"tcs\"]\n",
        "import matplotlib.pyplot as plt\n",
        "plt.bar(company, share)\n",
        "plt.show()"
      ]
    },
    {
      "cell_type": "code",
      "execution_count": null,
      "metadata": {
        "colab": {
          "base_uri": "https://localhost:8080/"
        },
        "id": "EFNTw6wp-nj5",
        "outputId": "01a7b92b-3830-476e-be60-8a8c8afec68e"
      },
      "outputs": [
        {
          "name": "stdout",
          "output_type": "stream",
          "text": [
            "Original list: ['mango', 'orange', 'banana', 'apple', 'orange']\n",
            "Final list: []\n"
          ]
        }
      ],
      "source": [
        "A = [\"mango\",\"orange\", \"banana\", \"apple\",\"orange\"]\n",
        "B = []\n",
        "length = len(A)\n",
        "for i in range(length):\n",
        "    if(A[i] == \" orange\"):\n",
        "        B.append(A[0:i] + A[i + 1:length])\n",
        " \n",
        "print(\"Original list:\", A)\n",
        "print(\"Final list:\", B)"
      ]
    },
    {
      "cell_type": "code",
      "execution_count": null,
      "metadata": {
        "colab": {
          "base_uri": "https://localhost:8080/"
        },
        "id": "GYtg-LkgqA5e",
        "outputId": "927c98c1-e402-4f4a-adfd-36d31c2c2d9b"
      },
      "outputs": [
        {
          "output_type": "stream",
          "name": "stdout",
          "text": [
            "['mango', 'orange', 'banana', 'apple', 'orange']\n",
            "['mango', 'orange', 'banana', 'apple', 'orange']"
          ]
        }
      ],
      "source": [
        "A = [\"mango\",\"orange\", \"banana\", \"apple\",\"orange\"]\n",
        "B=str(A)\n",
        "print(B)\n",
        "for x in B:\n",
        "    if x == B.rfind(\"orange\"):\n",
        "        continue\n",
        "    print(x, end= \"\")"
      ]
    },
    {
      "cell_type": "code",
      "execution_count": null,
      "metadata": {
        "colab": {
          "base_uri": "https://localhost:8080/"
        },
        "id": "dv2GGGe0kVvk",
        "outputId": "b4c14c90-1a35-4fc5-b4a1-fa4cf4631d3e"
      },
      "outputs": [
        {
          "name": "stdout",
          "output_type": "stream",
          "text": [
            "0\n",
            "1\n",
            "1\n",
            "2\n",
            "3\n",
            "5\n",
            "8\n",
            "13\n",
            "21\n",
            "34\n"
          ]
        }
      ],
      "source": [
        "#n = int(input(\"please enter number:\"))\n",
        "first = 0 \n",
        "second = 1 \n",
        "for x in range(10):\n",
        "    print(first)\n",
        "    temp = first \n",
        "    first = second \n",
        "    second = first + temp"
      ]
    },
    {
      "cell_type": "code",
      "execution_count": null,
      "metadata": {
        "colab": {
          "base_uri": "https://localhost:8080/"
        },
        "id": "oVYEu0OfmdJA",
        "outputId": "95c0a242-15fc-413b-c309-32eb6bac09c0"
      },
      "outputs": [
        {
          "name": "stdout",
          "output_type": "stream",
          "text": [
            "0 1 1 2 3 5 8 13 21 34 "
          ]
        }
      ],
      "source": [
        "a = 0 \n",
        "b = 1 \n",
        "c = 0 \n",
        "for x in range(10):\n",
        "    print(c, end=\" \")\n",
        "    a = b \n",
        "    b = c \n",
        "    c = a + b"
      ]
    },
    {
      "cell_type": "code",
      "execution_count": null,
      "metadata": {
        "colab": {
          "base_uri": "https://localhost:8080/"
        },
        "id": "y5-HX3JrS9jH",
        "outputId": "29c60eac-5450-4da0-d956-0f1a2eeedeb8"
      },
      "outputs": [
        {
          "name": "stdout",
          "output_type": "stream",
          "text": [
            "3628800\n"
          ]
        }
      ],
      "source": [
        "mul= 1\n",
        "for x in range(1, 11):\n",
        "    mul = x * mul\n",
        "print(mul)"
      ]
    },
    {
      "cell_type": "code",
      "execution_count": null,
      "metadata": {
        "colab": {
          "base_uri": "https://localhost:8080/"
        },
        "id": "DRTRvitsU1Bg",
        "outputId": "1c11486e-c69c-4ca8-c3eb-c009ea5c8211"
      },
      "outputs": [
        {
          "name": "stdout",
          "output_type": "stream",
          "text": [
            "12\n",
            "24\n",
            "36\n",
            "48\n",
            "60\n",
            "72\n",
            "84\n",
            "96\n",
            "108\n",
            "120\n"
          ]
        }
      ],
      "source": [
        "n=12\n",
        "for x in range(1, 11):\n",
        "    mul= n*x \n",
        "    print(mul)"
      ]
    },
    {
      "cell_type": "code",
      "execution_count": null,
      "metadata": {
        "colab": {
          "base_uri": "https://localhost:8080/"
        },
        "id": "l0g0yvNbVKA3",
        "outputId": "45947b90-4ce2-4852-8f80-c3de2c5dbcf2"
      },
      "outputs": [
        {
          "name": "stdout",
          "output_type": "stream",
          "text": [
            "75\n",
            "150\n",
            "145\n",
            "50\n"
          ]
        }
      ],
      "source": [
        "numbers = [12, 75, 150, 180, 145, 525, 50]\n",
        "for x in numbers:\n",
        "    if x > 150:\n",
        "       continue \n",
        "    elif x > 500:\n",
        "       break \n",
        "    if x % 5 == 0:\n",
        "       print(x)"
      ]
    },
    {
      "cell_type": "code",
      "execution_count": null,
      "metadata": {
        "colab": {
          "base_uri": "https://localhost:8080/"
        },
        "id": "ahIvgRbTup7W",
        "outputId": "f976ff7e-f32e-4537-9273-c9e838632540"
      },
      "outputs": [
        {
          "name": "stdout",
          "output_type": "stream",
          "text": [
            "0 1 1 2 3 5 8 13 21 34 55 89 144 "
          ]
        }
      ],
      "source": [
        "a=0 \n",
        "b = 1 \n",
        "c = 0 \n",
        "for x in range(1, 14):\n",
        "    print(c, end= \" \")\n",
        "    a = b \n",
        "    b = c \n",
        "    c = a + b"
      ]
    },
    {
      "cell_type": "code",
      "execution_count": null,
      "metadata": {
        "colab": {
          "base_uri": "https://localhost:8080/"
        },
        "id": "5syE8ETYvGD2",
        "outputId": "847b414c-a3e1-4e4c-d6b7-1daa243a5acf"
      },
      "outputs": [
        {
          "name": "stdout",
          "output_type": "stream",
          "text": [
            "fact is: 720\n"
          ]
        }
      ],
      "source": [
        "fact=1 \n",
        "for x in range(1, 7):\n",
        "     fact = fact * x\n",
        "print(\"fact is:\", fact)"
      ]
    },
    {
      "cell_type": "code",
      "execution_count": null,
      "metadata": {
        "colab": {
          "base_uri": "https://localhost:8080/"
        },
        "id": "C3eiglvnxEX1",
        "outputId": "8140f3a7-2dc7-4138-9e84-79c43558d238"
      },
      "outputs": [
        {
          "name": "stdout",
          "output_type": "stream",
          "text": [
            "[10, 20, 60, 30, 40, 70, 80]\n",
            "[20, 30, 60]\n",
            "10\n",
            "7\n",
            "3\n"
          ]
        }
      ],
      "source": [
        "a = []\n",
        "b =[]\n",
        "list = [10, 20, 60, 30, 20, 40, 30, 60, 70, 80]\n",
        "for x in list:\n",
        "    if x not in a:\n",
        "        a.append(x)\n",
        "    else:\n",
        "         b.append(x)\n",
        "print(a)\n",
        "print(b)\n",
        "print(len(list))\n",
        "print(len(a))\n",
        "print(len(b))"
      ]
    },
    {
      "cell_type": "code",
      "execution_count": null,
      "metadata": {
        "colab": {
          "base_uri": "https://localhost:8080/"
        },
        "id": "nwStrM_BaF1-",
        "outputId": "468ce050-a181-4c09-aaa7-f7c69caa7b71"
      },
      "outputs": [
        {
          "name": "stdout",
          "output_type": "stream",
          "text": [
            "50\n",
            "40\n",
            "30\n",
            "20\n",
            "10\n"
          ]
        }
      ],
      "source": [
        "list = [10, 20, 30, 40, 50]\n",
        "list1= reversed(list)\n",
        "for x in list1:\n",
        "    print((x))"
      ]
    },
    {
      "cell_type": "code",
      "execution_count": null,
      "metadata": {
        "colab": {
          "base_uri": "https://localhost:8080/"
        },
        "id": "fF1VsADoa4Zd",
        "outputId": "e6be1a9d-cb32-4726-97f0-91787d3b9fb2"
      },
      "outputs": [
        {
          "name": "stdout",
          "output_type": "stream",
          "text": [
            "0\n",
            "1\n",
            "2\n",
            "3\n",
            "4\n",
            "done\n"
          ]
        }
      ],
      "source": [
        "for i in range(5):\n",
        "    print(i)\n",
        "else:\n",
        "    print(\"done\")"
      ]
    },
    {
      "cell_type": "code",
      "execution_count": null,
      "metadata": {
        "colab": {
          "base_uri": "https://localhost:8080/"
        },
        "id": "WHJo-0UNbZ4U",
        "outputId": "048ade4e-334a-4c04-8fd1-9f53b4b00883"
      },
      "outputs": [
        {
          "name": "stdout",
          "output_type": "stream",
          "text": [
            "Prime numbers between 25 and 50 are:\n",
            "29\n",
            "31\n",
            "37\n",
            "41\n",
            "43\n",
            "47\n"
          ]
        }
      ],
      "source": [
        "\n",
        "start = 25\n",
        "end = 50\n",
        "\n",
        "for num in range(start, end + 1):\n",
        "    # all prime numbers are greater than 1\n",
        "    # if number is less than or equal to 1, it is not prime\n",
        "    if num > 1:\n",
        "        for i in range(2, num):\n",
        "            # check for factors\n",
        "            if (num % i) == 0:\n",
        "                # not a prime number so break inner loop and\n",
        "                # look for next number\n",
        "                break\n",
        "        else:\n",
        "            print(num)"
      ]
    },
    {
      "cell_type": "code",
      "execution_count": null,
      "metadata": {
        "colab": {
          "base_uri": "https://localhost:8080/"
        },
        "id": "Nop3K_Iiei-2",
        "outputId": "822b51ea-eec0-42d0-fbba-6f4349180982"
      },
      "outputs": [
        {
          "name": "stdout",
          "output_type": "stream",
          "text": [
            "0 1 1 2 3 5 8 13 21 34 55 "
          ]
        }
      ],
      "source": [
        "a = 0 \n",
        "b = 1 \n",
        "c = 0\n",
        "for x in range(11):\n",
        "     print(c, end= \" \")\n",
        "     a = b \n",
        "     b = c \n",
        "     c = a + b"
      ]
    },
    {
      "cell_type": "code",
      "execution_count": null,
      "metadata": {
        "colab": {
          "base_uri": "https://localhost:8080/"
        },
        "id": "5rvN-RNkjknU",
        "outputId": "8da3c041-a554-497d-d397-f7625793d088"
      },
      "outputs": [
        {
          "name": "stdout",
          "output_type": "stream",
          "text": [
            "5\n",
            "10\n",
            "15\n",
            "20\n",
            "25\n",
            "30\n",
            "35\n",
            "40\n",
            "45\n",
            "50\n",
            "\n",
            "factorial of given num 120\n"
          ]
        }
      ],
      "source": [
        "n = 5\n",
        "fact = 1\n",
        "for x in range(1, 11):\n",
        "     # mul table \n",
        "     mul = x * n \n",
        "     print(mul)\n",
        "print()\n",
        "\n",
        "for x in range(1, n+1):\n",
        "   \n",
        "     fact = fact * x \n",
        "print(\"factorial of given num\",fact)"
      ]
    },
    {
      "cell_type": "code",
      "execution_count": null,
      "metadata": {
        "colab": {
          "base_uri": "https://localhost:8080/"
        },
        "id": "ri3mbiCLf1tK",
        "outputId": "21b55b46-13ec-4e39-fb09-ffb3829fd7d4"
      },
      "outputs": [
        {
          "name": "stdout",
          "output_type": "stream",
          "text": [
            "654321\n"
          ]
        }
      ],
      "source": [
        "n = 123456\n",
        "n1= str(n)\n",
        "n2 = \"\".join(reversed(n1))\n",
        "print(n2)"
      ]
    },
    {
      "cell_type": "code",
      "execution_count": null,
      "metadata": {
        "colab": {
          "base_uri": "https://localhost:8080/"
        },
        "id": "mELjYPFLmN0i",
        "outputId": "560bb27c-5425-42ca-bfcb-94c9f71aa1cb"
      },
      "outputs": [
        {
          "name": "stdout",
          "output_type": "stream",
          "text": [
            "[10, 20, 30, 40, 50, 60, 70, 80, 90, 100]\n",
            "((0, 10), (1, 20), (2, 30), (3, 40), (4, 50), (5, 60), (6, 70), (7, 80), (8, 90), (9, 100))\n"
          ]
        }
      ],
      "source": [
        "list = [10, 20, 30, 40, 50, 60, 70, 80, 90,100]\n",
        "print(list)\n",
        "\n",
        "odd = tuple(enumerate(list))\n",
        "print(odd)"
      ]
    },
    {
      "cell_type": "code",
      "execution_count": null,
      "metadata": {
        "id": "DYLTovGctgXR",
        "colab": {
          "base_uri": "https://localhost:8080/"
        },
        "outputId": "982be473-a1a2-401a-9cc8-1ee848e504e2"
      },
      "outputs": [
        {
          "output_type": "stream",
          "name": "stdout",
          "text": [
            "[4, 6, 8, 10, 12, 14, 16, 18, 20, 22, 24, 26, 28, 30]\n"
          ]
        }
      ],
      "source": [
        "print(list(range(4, 31, 2)))"
      ]
    },
    {
      "cell_type": "code",
      "execution_count": null,
      "metadata": {
        "colab": {
          "base_uri": "https://localhost:8080/"
        },
        "id": "Q2PXoIfgtrx2",
        "outputId": "d091e90e-a46d-47cc-e8cb-4b158e27c51c"
      },
      "outputs": [
        {
          "name": "stdout",
          "output_type": "stream",
          "text": [
            "[4, 6, 8, 10, 12, 14, 16, 18, 20, 22, 24, 26, 28, 30]\n"
          ]
        }
      ],
      "source": [
        "\n",
        "\n",
        "list = []\n",
        "def even():\n",
        "\n",
        "  \n",
        "   for x in range(4, 31):\n",
        "       if x % 2 == 0:\n",
        "          list.append(x)\n",
        "   return list \n",
        "\n",
        "result= even()\n",
        "print(result)"
      ]
    },
    {
      "cell_type": "code",
      "execution_count": null,
      "metadata": {
        "colab": {
          "base_uri": "https://localhost:8080/"
        },
        "id": "I3B6e02NEpTS",
        "outputId": "8a2cac6e-3bb2-4a7f-d617-a06b5a005dc2"
      },
      "outputs": [
        {
          "name": "stdout",
          "output_type": "stream",
          "text": [
            "True\n"
          ]
        }
      ],
      "source": [
        " \n",
        "x = 10\n",
        "y = 8\n",
        "a = True if x>y else False\n",
        "print(a)"
      ]
    },
    {
      "cell_type": "code",
      "execution_count": null,
      "metadata": {
        "colab": {
          "base_uri": "https://localhost:8080/"
        },
        "id": "LDcTZrAth0Vb",
        "outputId": "9ca8cdb0-cd30-4971-8310-3027a8edd4d1"
      },
      "outputs": [
        {
          "name": "stdout",
          "output_type": "stream",
          "text": [
            "['a', 'b', 'c']\n"
          ]
        }
      ],
      "source": [
        "list = [\"a\",\"b\",\"c\",\"d\",\"a\",\"e\"]\n",
        "list = [x for x in list if x!=list.pop()]\n",
        "print(list)"
      ]
    },
    {
      "cell_type": "code",
      "execution_count": null,
      "metadata": {
        "colab": {
          "base_uri": "https://localhost:8080/"
        },
        "id": "KOPnc5afc4SJ",
        "outputId": "d0680b58-ff6c-4478-ca58-4fa96dfe81a1"
      },
      "outputs": [
        {
          "name": "stdout",
          "output_type": "stream",
          "text": [
            "[1, 2, 3, 4, 5]\n"
          ]
        }
      ],
      "source": [
        "list = [x for x in range(1,6)]\n",
        "print(list)"
      ]
    },
    {
      "cell_type": "code",
      "execution_count": null,
      "metadata": {
        "colab": {
          "base_uri": "https://localhost:8080/"
        },
        "id": "hVAej8rVdLoU",
        "outputId": "51fe5c71-142d-4adc-bb35-71cafce1339d"
      },
      "outputs": [
        {
          "name": "stdout",
          "output_type": "stream",
          "text": [
            "<generator object <genexpr> at 0x7f97bb994650>\n"
          ]
        }
      ],
      "source": [
        "tuple = (x for x in range(1,6))\n",
        "print(tuple)"
      ]
    },
    {
      "cell_type": "code",
      "execution_count": null,
      "metadata": {
        "colab": {
          "base_uri": "https://localhost:8080/"
        },
        "id": "GLO8NcWvd5hH",
        "outputId": "2642b6be-2015-45c8-e2ba-6c8cbaa4a38e"
      },
      "outputs": [
        {
          "name": "stdout",
          "output_type": "stream",
          "text": [
            "1\n",
            "2\n",
            "3\n",
            "4\n",
            "5\n"
          ]
        }
      ],
      "source": [
        "for x in tuple:\n",
        "    print(x)"
      ]
    },
    {
      "cell_type": "code",
      "source": [
        "a = \"basics of oops\"\n",
        "b = enumerate(a)\n",
        "for x in b:\n",
        "   print(x)"
      ],
      "metadata": {
        "colab": {
          "base_uri": "https://localhost:8080/"
        },
        "id": "oYSxjxlTUX8G",
        "outputId": "7005d8b1-49d3-4c08-b5a9-5344f345979d"
      },
      "execution_count": null,
      "outputs": [
        {
          "output_type": "stream",
          "name": "stdout",
          "text": [
            "(0, 'b')\n",
            "(1, 'a')\n",
            "(2, 's')\n",
            "(3, 'i')\n",
            "(4, 'c')\n",
            "(5, 's')\n",
            "(6, ' ')\n",
            "(7, 'o')\n",
            "(8, 'f')\n",
            "(9, ' ')\n",
            "(10, 'o')\n",
            "(11, 'o')\n",
            "(12, 'p')\n",
            "(13, 's')\n"
          ]
        }
      ]
    },
    {
      "cell_type": "code",
      "source": [
        "print(ord(\"a\"))\n",
        "print(chr(65))"
      ],
      "metadata": {
        "colab": {
          "base_uri": "https://localhost:8080/"
        },
        "id": "R2x-vLtFvWqM",
        "outputId": "e695ab06-4955-4943-ed29-48c6b63f447b"
      },
      "execution_count": null,
      "outputs": [
        {
          "output_type": "stream",
          "name": "stdout",
          "text": [
            "97\n",
            "A\n"
          ]
        }
      ]
    },
    {
      "cell_type": "code",
      "source": [
        "a = \"python12\"\n",
        "b = \"python1234\"\n",
        "\n",
        "if a > b:\n",
        "   print(\"a is greater than b\")\n",
        "else:\n",
        "   print(\"b is greater than a\")"
      ],
      "metadata": {
        "colab": {
          "base_uri": "https://localhost:8080/"
        },
        "id": "xPxB0BgHwHBm",
        "outputId": "b765403d-2cd3-4d60-849d-51c6a5b87725"
      },
      "execution_count": null,
      "outputs": [
        {
          "output_type": "stream",
          "name": "stdout",
          "text": [
            "b is greater than a\n"
          ]
        }
      ]
    },
    {
      "cell_type": "code",
      "source": [
        "a = \"Japan\"\n",
        "a = a[:3] + a[4:]\n",
        "print(a[:3])\n",
        "print(a[4:])\n",
        "print(a)"
      ],
      "metadata": {
        "colab": {
          "base_uri": "https://localhost:8080/"
        },
        "id": "MtTQbaU815h6",
        "outputId": "5eaff398-8cae-4ae5-c9d0-482930e7d165"
      },
      "execution_count": null,
      "outputs": [
        {
          "output_type": "stream",
          "name": "stdout",
          "text": [
            "Jap\n",
            "\n",
            "Japn\n"
          ]
        }
      ]
    },
    {
      "cell_type": "code",
      "source": [
        "n = 121 \n",
        "m = n \n",
        "r = 0 \n",
        "while m != 0:\n",
        "   d = m%10 \n",
        "   r = r*0 + d\n",
        "   m = m // 10 \n",
        "\n",
        "   print(r)"
      ],
      "metadata": {
        "colab": {
          "base_uri": "https://localhost:8080/"
        },
        "id": "z8dHANMy9CQm",
        "outputId": "758d4652-d29d-45c8-b09d-0057c0de6316"
      },
      "execution_count": null,
      "outputs": [
        {
          "output_type": "stream",
          "name": "stdout",
          "text": [
            "1\n",
            "2\n",
            "1\n"
          ]
        }
      ]
    },
    {
      "cell_type": "code",
      "source": [
        "\n",
        "import pandas as pd\n",
        "import numpy as np\n",
        "exam_data  = {'name': ['Anastasia', 'Dima', 'Katherine', 'James', 'Emily', 'Michael', 'Matthew', 'Laura', 'Kevin', 'Jonas'],\n",
        "        'score': [12.5, 9, 16.5, np.nan, 9, 20, 14.5, np.nan, 8, 19],\n",
        "        'attempts': [1, 3, 2, 3, 2, 3, 1, 1, 2, 1],\n",
        "        'qualify': ['yes', 'no', 'yes', 'no', 'no', 'yes', 'yes', 'no', 'no', 'yes']}\n",
        "labels = ['a', 'b', 'c', 'd', 'e', 'f', 'g', 'h', 'i', 'j']\n",
        "df = pd.DataFrame(exam_data , index=labels)\n",
        "print(\"Number of attempts in the examination is less than 2 and score greater than 15 :\")\n",
        "print(df[(df['attempts'] < 2) & (df['score'] > 15)])"
      ],
      "metadata": {
        "colab": {
          "base_uri": "https://localhost:8080/"
        },
        "id": "sEVudtwa5kRP",
        "outputId": "24f8ac94-740a-4b8f-e0d2-4cbbbcec6de8"
      },
      "execution_count": null,
      "outputs": [
        {
          "output_type": "stream",
          "name": "stdout",
          "text": [
            "Number of attempts in the examination is less than 2 and score greater than 15 :\n",
            "    name  score  attempts qualify\n",
            "j  Jonas   19.0         1     yes\n"
          ]
        }
      ]
    }
  ],
  "metadata": {
    "colab": {
      "provenance": [],
      "authorship_tag": "ABX9TyP+MjBwX7P1IdYGV7hLEpxN",
      "include_colab_link": true
    },
    "kernelspec": {
      "display_name": "Python 3",
      "name": "python3"
    },
    "language_info": {
      "name": "python"
    }
  },
  "nbformat": 4,
  "nbformat_minor": 0
}