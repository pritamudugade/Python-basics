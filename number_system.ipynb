{
  "nbformat": 4,
  "nbformat_minor": 0,
  "metadata": {
    "colab": {
      "provenance": [],
      "authorship_tag": "ABX9TyNcARlAKTXvOe3GChk8ttAh",
      "include_colab_link": true
    },
    "kernelspec": {
      "name": "python3",
      "display_name": "Python 3"
    },
    "language_info": {
      "name": "python"
    }
  },
  "cells": [
    {
      "cell_type": "markdown",
      "metadata": {
        "id": "view-in-github",
        "colab_type": "text"
      },
      "source": [
        "<a href=\"https://colab.research.google.com/github/pritamudugade/Python-basics/blob/main/number_system.ipynb\" target=\"_parent\"><img src=\"https://colab.research.google.com/assets/colab-badge.svg\" alt=\"Open In Colab\"/></a>"
      ]
    },
    {
      "cell_type": "code",
      "source": [
        "import math\n",
        "\n",
        "x1 = int(input(\"Enter the First Point Coordinate x1  = \"))\n",
        "y1 = int(input(\"Enter the First Point Coordinate y1  = \"))\n",
        "x2 = int(input(\"Enter the Second Point Coordinate x2 = \"))\n",
        "y2 = int(input(\"Enter the Second Point Coordinate y2 = \"))\n",
        "\n",
        "\n",
        "x = math.pow((x2 - x1), 2)\n",
        "y = math.pow((y2 - y1), 2)\n",
        "\n",
        "print(x)\n",
        "print(y)\n",
        "print(math.sqrt(x + y))\n",
        "distance = math.sqrt(x + y)\n",
        "\n",
        "print(f\"The Distance Between Two Points = {distance} Units\")"
      ],
      "metadata": {
        "colab": {
          "base_uri": "https://localhost:8080/"
        },
        "id": "xEBGmtyGwBZY",
        "outputId": "de687ec5-f810-4ce8-d84e-ea705edc0a3f"
      },
      "execution_count": null,
      "outputs": [
        {
          "output_type": "stream",
          "name": "stdout",
          "text": [
            "Enter the First Point Coordinate x1  = 15\n",
            "Enter the First Point Coordinate y1  = 30\n",
            "Enter the Second Point Coordinate x2 = 45\n",
            "Enter the Second Point Coordinate y2 = 50\n",
            "900.0\n",
            "400.0\n",
            "36.05551275463989\n",
            "The Distance Between Two Points = 36.05551275463989 Units\n"
          ]
        }
      ]
    },
    {
      "cell_type": "code",
      "source": [
        "# find factors of given number\n",
        "n = 8\n",
        "for i in range(1, n+1):\n",
        "  if n%i == 0:\n",
        "    print(i, end=\" \")"
      ],
      "metadata": {
        "colab": {
          "base_uri": "https://localhost:8080/"
        },
        "id": "LSifgppRx353",
        "outputId": "b6b04088-9ddb-4795-8f3c-473f2afb4fe0"
      },
      "execution_count": null,
      "outputs": [
        {
          "output_type": "stream",
          "name": "stdout",
          "text": [
            "1 2 4 8 "
          ]
        }
      ]
    },
    {
      "cell_type": "code",
      "source": [
        "# prime number - the number having only 2 factors, (1 and number itself)\n",
        "n = 11\n",
        "count = 0\n",
        "for i in range(1, n+1):\n",
        "  if n%i == 0:\n",
        "    count = count + 1\n",
        "\n",
        "if  count == 2:\n",
        "  print(\"Prime number\")\n",
        "else:\n",
        "  print(\"not prime number\")"
      ],
      "metadata": {
        "colab": {
          "base_uri": "https://localhost:8080/"
        },
        "id": "oJo2eDbTyfxG",
        "outputId": "77abdbe1-7082-45f2-daef-5197a33b5d3b"
      },
      "execution_count": null,
      "outputs": [
        {
          "output_type": "stream",
          "name": "stdout",
          "text": [
            "Prime number\n"
          ]
        }
      ]
    },
    {
      "cell_type": "code",
      "source": [
        "# Composite number - the number having factors more than 2 called composite number\n",
        "n = 12\n",
        "count = 0\n",
        "for i in range(1, n+1):\n",
        "  if n%i == 0:\n",
        "    count = count + 1\n",
        "\n",
        "if  count > 2:\n",
        "  print(\"composite number\")\n",
        "else:\n",
        "  print(\"not composite number\")"
      ],
      "metadata": {
        "colab": {
          "base_uri": "https://localhost:8080/"
        },
        "id": "in6itVSozKOB",
        "outputId": "81548f56-7f05-4167-86eb-d7733499ea5c"
      },
      "execution_count": null,
      "outputs": [
        {
          "output_type": "stream",
          "name": "stdout",
          "text": [
            "composite number\n"
          ]
        }
      ]
    },
    {
      "cell_type": "code",
      "source": [
        "# Perfect number - sum of factors are equal to number (excluding number)\n",
        "# 6 - factors-1,2,3= 6 .. sum==num\n",
        "n = 6\n",
        "sum = 0\n",
        "for i in range(1, n):\n",
        "  if n%i == 0:\n",
        "    sum = sum + i\n",
        "\n",
        "if n == sum:\n",
        "  print(\"Perfect number\")\n",
        "else:\n",
        "  print(\"not Perfect number\")"
      ],
      "metadata": {
        "colab": {
          "base_uri": "https://localhost:8080/"
        },
        "id": "urywT0Q5zgcU",
        "outputId": "4f1daa4f-01fb-421f-85ca-ccf5fd41e2cf"
      },
      "execution_count": null,
      "outputs": [
        {
          "output_type": "stream",
          "name": "stdout",
          "text": [
            "Perfect number\n"
          ]
        }
      ]
    },
    {
      "cell_type": "code",
      "source": [
        "# Abudant number - sum of factors are greater than number\n",
        "#n = 12- (factors- 1,2,3,4,6)- sum- 16.....(12<16)\n",
        "n = 12\n",
        "sum = 0\n",
        "for i in range(1,n):\n",
        "  if n%i == 0:\n",
        "    sum = sum + i\n",
        "\n",
        "if sum > n:\n",
        "  print(\"Abudant number\")\n",
        "else:\n",
        "  print(\"Not abudant number\")"
      ],
      "metadata": {
        "colab": {
          "base_uri": "https://localhost:8080/"
        },
        "id": "PWrGba_F0ZRX",
        "outputId": "bd375e29-544e-4417-9c30-dcd5b801c6b5"
      },
      "execution_count": null,
      "outputs": [
        {
          "output_type": "stream",
          "name": "stdout",
          "text": [
            "Abudant number\n"
          ]
        }
      ]
    },
    {
      "cell_type": "code",
      "source": [
        "# deficient number - sum of factors are less than number\n",
        "# 21 -  factors(1,3,7) sum- 11       (21>11) (num>sum(num))\n",
        "n = 21\n",
        "sum = 0\n",
        "for i in range(1,n):\n",
        "  if n%i == 0:\n",
        "    sum = sum + i\n",
        "if sum < n:\n",
        "  print(\"Deficient number\")\n",
        "else:\n",
        "  print(\"Not deficient number\")"
      ],
      "metadata": {
        "colab": {
          "base_uri": "https://localhost:8080/"
        },
        "id": "QUfE99eQ1BPF",
        "outputId": "7973eb3e-7ec1-42c0-e9b3-81b952b9791e"
      },
      "execution_count": null,
      "outputs": [
        {
          "output_type": "stream",
          "name": "stdout",
          "text": [
            "Deficient number\n"
          ]
        }
      ]
    },
    {
      "cell_type": "code",
      "source": [
        "# find sum of odd nums of factors\n",
        "n = 68\n",
        "f = []              # to store factors\n",
        "\n",
        "for i in range(2,n+1):\n",
        "  if n%i == 0:\n",
        "    f.append(i)\n",
        "#print(f)\n",
        "\n",
        "odd = []\n",
        "even = []\n",
        "for x in f:        # access nums from list\n",
        "  if x%2 == 0:\n",
        "    even.append(x)\n",
        "  else:\n",
        "    odd.append(x)\n",
        "\n",
        "#print(odd)\n",
        "#print(even)\n",
        "\n",
        "print(\"sum of odd nums:\", sum(odd))"
      ],
      "metadata": {
        "colab": {
          "base_uri": "https://localhost:8080/"
        },
        "id": "KmLiyzx_mnQ2",
        "outputId": "38dcf5fd-0170-4490-9e86-748bc6898079"
      },
      "execution_count": null,
      "outputs": [
        {
          "output_type": "stream",
          "name": "stdout",
          "text": [
            "sum of odd nums: 17\n"
          ]
        }
      ]
    },
    {
      "cell_type": "code",
      "source": [
        "# prime number\n",
        "for n in range(1,100):\n",
        "   c = 0 \n",
        "   for i in range(1, n+1):\n",
        "      if n%i == 0:\n",
        "         c = c + 1 \n",
        "\n",
        "   if c==2:\n",
        "      print(\"prime number:\", n)"
      ],
      "metadata": {
        "colab": {
          "base_uri": "https://localhost:8080/"
        },
        "id": "e7tgdv_JnHWY",
        "outputId": "e11ab0c3-120d-4aa1-84e8-de5a3a4a5819"
      },
      "execution_count": null,
      "outputs": [
        {
          "output_type": "stream",
          "name": "stdout",
          "text": [
            "prime number: 2\n",
            "prime number: 3\n",
            "prime number: 5\n",
            "prime number: 7\n",
            "prime number: 11\n",
            "prime number: 13\n",
            "prime number: 17\n",
            "prime number: 19\n",
            "prime number: 23\n",
            "prime number: 29\n",
            "prime number: 31\n",
            "prime number: 37\n",
            "prime number: 41\n",
            "prime number: 43\n",
            "prime number: 47\n",
            "prime number: 53\n",
            "prime number: 59\n",
            "prime number: 61\n",
            "prime number: 67\n",
            "prime number: 71\n",
            "prime number: 73\n",
            "prime number: 79\n",
            "prime number: 83\n",
            "prime number: 89\n",
            "prime number: 97\n"
          ]
        }
      ]
    },
    {
      "cell_type": "code",
      "source": [
        "# perfect number \n",
        "for n in range(1,50):\n",
        "   p = []\n",
        "   for i in range(1, n):\n",
        "      if n%i == 0:\n",
        "         p.append(i)\n",
        "         if sum(p) == n:\n",
        "            print(\"perfect number:\",n)"
      ],
      "metadata": {
        "colab": {
          "base_uri": "https://localhost:8080/"
        },
        "id": "BcuXAKP6nQEA",
        "outputId": "b90d6c86-a8bc-40e5-b613-6f85211f568c"
      },
      "execution_count": null,
      "outputs": [
        {
          "output_type": "stream",
          "name": "stdout",
          "text": [
            "perfect number: 6\n",
            "perfect number: 24\n",
            "perfect number: 28\n"
          ]
        }
      ]
    },
    {
      "cell_type": "code",
      "source": [
        "# factors up to n number \n",
        "for n in range(1,20):\n",
        "   d = {}\n",
        "   f = []\n",
        "   for i in range(1, n+1):\n",
        "      if n%i == 0:\n",
        "         f.append(i)\n",
        "      d[n] = f \n",
        "   print(d)"
      ],
      "metadata": {
        "colab": {
          "base_uri": "https://localhost:8080/"
        },
        "id": "H-LUnzD1nMRg",
        "outputId": "0b603a2e-430d-4913-e1ca-bffed8056335"
      },
      "execution_count": null,
      "outputs": [
        {
          "output_type": "stream",
          "name": "stdout",
          "text": [
            "{1: [1]}\n",
            "{2: [1, 2]}\n",
            "{3: [1, 3]}\n",
            "{4: [1, 2, 4]}\n",
            "{5: [1, 5]}\n",
            "{6: [1, 2, 3, 6]}\n",
            "{7: [1, 7]}\n",
            "{8: [1, 2, 4, 8]}\n",
            "{9: [1, 3, 9]}\n",
            "{10: [1, 2, 5, 10]}\n",
            "{11: [1, 11]}\n",
            "{12: [1, 2, 3, 4, 6, 12]}\n",
            "{13: [1, 13]}\n",
            "{14: [1, 2, 7, 14]}\n",
            "{15: [1, 3, 5, 15]}\n",
            "{16: [1, 2, 4, 8, 16]}\n",
            "{17: [1, 17]}\n",
            "{18: [1, 2, 3, 6, 9, 18]}\n",
            "{19: [1, 19]}\n"
          ]
        }
      ]
    },
    {
      "cell_type": "code",
      "source": [
        "# get the maximum and minimum from hetrogeneous data\n",
        "\n",
        "a = ['abc', 5, 6, 'code']\n",
        "#list comprehension\n",
        "mini = min(i for i in a if isinstance(i, int))\n",
        "print(\"Minimum value is\", mini)\n",
        "\n",
        "#using lambda function\n",
        "maxi = max(a, key = lambda i: (isinstance(i, int), i))\n",
        "print(\"Maximum value is\", maxi)"
      ],
      "metadata": {
        "colab": {
          "base_uri": "https://localhost:8080/"
        },
        "id": "KHWC7xc4RSG6",
        "outputId": "a385ec48-b6a5-41ec-fc6e-81e5b095a7ef"
      },
      "execution_count": null,
      "outputs": [
        {
          "output_type": "stream",
          "name": "stdout",
          "text": [
            "Minimum value is 5\n",
            "Maximum value is 6\n"
          ]
        }
      ]
    },
    {
      "cell_type": "code",
      "source": [
        "# minimum with alphabet\n",
        "\n",
        "a = [['code', 1], ['abc', 7], ['bit', 5]]\n",
        "print(\"Minimum value is \", min(a))\n",
        "\n",
        "mini = min(a, key=lambda x : x[1])\n",
        "print(\"Minimum value is \", mini)"
      ],
      "metadata": {
        "colab": {
          "base_uri": "https://localhost:8080/"
        },
        "id": "ott80V0xUc9y",
        "outputId": "1bf8b640-f338-4d55-ad59-f060ec8a7b73"
      },
      "execution_count": null,
      "outputs": [
        {
          "output_type": "stream",
          "name": "stdout",
          "text": [
            "Minimum value is  ['abc', 7]\n",
            "Minimum value is  ['code', 1]\n"
          ]
        }
      ]
    }
  ]
}